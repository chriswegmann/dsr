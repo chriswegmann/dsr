{
 "cells": [
  {
   "cell_type": "markdown",
   "metadata": {},
   "source": [
    "### Most important thing\n",
    "State objective of presentation\n",
    "\n",
    "#### Teaching\n",
    "* **Why is this relevant for the audience?** We can do this with...\n",
    "* High point / ask questions\n",
    "* Real-life examples (e.g. 'how can I process data in more than one computer?')\n",
    "* Understand the audience / step into the shoes of the audience\n",
    "\n",
    "#### Story-Telling\n",
    "Two methods:\n",
    "* Facts & figures (\"show and not tell\")\n",
    "* Personal touch (emotional connection)\n",
    "Objective: make a point and persuade alternative action\n",
    "We need a call to action (and therefore we also need to have a problem)\n",
    "\n",
    "#### Soliciting Investment\n",
    "Make more breaks, leave audience some time to reflect\n",
    "Structure\n",
    "* Why? The Problem\n",
    "* Solution: why this solution? Why is it better than what exists already?\n",
    "* How do we get there?\n",
    "* Ask\n",
    "\n",
    "For data science projects, the 'how do we get there' can involve a lot of effort for data collection. Uncertainty around data quality / availability, model accuracy / performance, timescale and benefit / product."
   ]
  }
 ],
 "metadata": {
  "kernelspec": {
   "display_name": "Python 3",
   "language": "python",
   "name": "python3"
  },
  "language_info": {
   "codemirror_mode": {
    "name": "ipython",
    "version": 3
   },
   "file_extension": ".py",
   "mimetype": "text/x-python",
   "name": "python",
   "nbconvert_exporter": "python",
   "pygments_lexer": "ipython3",
   "version": "3.6.4"
  }
 },
 "nbformat": 4,
 "nbformat_minor": 2
}
