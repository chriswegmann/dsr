{
 "cells": [
  {
   "cell_type": "markdown",
   "metadata": {},
   "source": [
    "## 2 Pipeline Building"
   ]
  },
  {
   "cell_type": "markdown",
   "metadata": {},
   "source": [
    "### 2.1 Row Removal\n",
    "We remove a few rows before the actual pipeline (e.g. outliers) because they would prevent a good training. We will also need to remove rows with no price from the holdout data set."
   ]
  },
  {
   "cell_type": "code",
   "execution_count": 1,
   "metadata": {},
   "outputs": [],
   "source": [
    "import pandas as pd\n",
    "import numpy as np\n",
    "import seaborn as sns\n",
    "import matplotlib.pyplot as plt\n",
    "from math import sqrt"
   ]
  },
  {
   "cell_type": "code",
   "execution_count": 2,
   "metadata": {},
   "outputs": [],
   "source": [
    "import warnings\n",
    "warnings.filterwarnings('ignore') # seaborn shows a lot of ugly warnings, let's suppress this for the analysis part"
   ]
  },
  {
   "cell_type": "code",
   "execution_count": 3,
   "metadata": {},
   "outputs": [],
   "source": [
    "df = pd.read_csv('data/dc_housing/DC_Properties_training.csv', index_col=0, low_memory=False)\n",
    "\n",
    "df = df[~np.isnan(df['PRICE'])]\n",
    "#df = df[df['PRICE'] >= 20000]\n",
    "#df = df[np.abs(df['PRICE'] - df['PRICE'].mean()) <= (1.2*df['PRICE'].std())]\n",
    "\n",
    "df = df[(df['HF_BATHRM'] <= 5) & \n",
    "        ((df['KITCHENS'] < 10) | (np.isnan(df['KITCHENS']))) &\n",
    "        (df['FIREPLACES'] < 500) & \n",
    "        (df['BEDRM'] < 20)]\n",
    "\n",
    "df = df[~df['SALEDATE'].isnull()]"
   ]
  },
  {
   "cell_type": "markdown",
   "metadata": {},
   "source": [
    "### 2.2 Evaluation Function / Libraries"
   ]
  },
  {
   "cell_type": "code",
   "execution_count": 4,
   "metadata": {},
   "outputs": [],
   "source": [
    "from sklearn.metrics import mean_squared_error, mean_absolute_error, r2_score\n",
    "from sklearn.model_selection import cross_val_predict\n",
    "from sklearn.ensemble import RandomForestRegressor\n",
    "\n",
    "def compare_predictions(x, y, finalpipeline, mean_price):\n",
    "    # generate predictions:\n",
    "    # Note: finalpipeline must have already been fit.\n",
    "    \n",
    "    predictions = finalpipeline.predict(x)\n",
    "    y = y.reset_index()\n",
    "    y.drop('index', axis=1, inplace=True)\n",
    "    \n",
    "    # a \"lazy prediction\" is where we return the average value of the target for every prediction.\n",
    "    lazy_predictions = np.full(predictions.shape, mean_price)\n",
    "    \n",
    "    final_predictions = pd.DataFrame(pd.concat([y, \n",
    "                                                pd.Series(predictions), \n",
    "                                                pd.Series(lazy_predictions)], axis=1))\n",
    "    final_predictions.rename(columns={'Price': 'True values',\n",
    "                                      0: 'Predicted values',\n",
    "                                      1: 'Lazy Predicted values'}, inplace=True)\n",
    "    \n",
    "    rmse_lazy = sqrt(mean_squared_error(y, lazy_predictions))\n",
    "    mae_lazy = mean_absolute_error(y, lazy_predictions)\n",
    "    r2_lazy = r2_score(y, lazy_predictions)\n",
    "    \n",
    "    rmse = sqrt(mean_squared_error(y, predictions))\n",
    "    mae = mean_absolute_error(y, predictions)\n",
    "    r2 = r2_score(y, predictions)\n",
    "    \n",
    "    print('RMSE Lazy Predictor', rmse_lazy)\n",
    "    print('MAE Lazy Predictor', mae_lazy)\n",
    "    print('R^2 Lazy Predictor', r2_lazy)\n",
    "    print()\n",
    "    print('RMSE', rmse)\n",
    "    print('MAE', mae)\n",
    "    print('R^2', r2)\n",
    "    print()\n",
    "    print('RMSE Improvement:', rmse_lazy - rmse)\n",
    "    print('MAE Inprovement:', mae_lazy - mae)\n",
    "    print('R^2 Improvement:', abs(r2_lazy - r2))\n",
    "    \n",
    "    return predictions"
   ]
  },
  {
   "cell_type": "markdown",
   "metadata": {},
   "source": [
    "### 2.3 Pipeline Preparation"
   ]
  },
  {
   "cell_type": "code",
   "execution_count": 5,
   "metadata": {},
   "outputs": [],
   "source": [
    "from sklearn.base import BaseEstimator, TransformerMixin\n",
    "from sklearn.feature_extraction import DictVectorizer\n",
    "from sklearn.pipeline import make_pipeline, make_union\n",
    "from sklearn.preprocessing import Imputer\n",
    "from sklearn.preprocessing import StandardScaler\n",
    "from category_encoders.ordinal import OrdinalEncoder\n",
    "from category_encoders.one_hot import OneHotEncoder\n",
    "from sklearn.model_selection import train_test_split"
   ]
  },
  {
   "cell_type": "code",
   "execution_count": 6,
   "metadata": {},
   "outputs": [
    {
     "data": {
      "text/plain": [
       "Index(['BATHRM', 'HF_BATHRM', 'HEAT', 'AC', 'NUM_UNITS', 'ROOMS', 'BEDRM',\n",
       "       'AYB', 'YR_RMDL', 'EYB', 'STORIES', 'SALEDATE', 'PRICE', 'QUALIFIED',\n",
       "       'SALE_NUM', 'GBA', 'BLDG_NUM', 'STYLE', 'STRUCT', 'GRADE', 'CNDTN',\n",
       "       'EXTWALL', 'ROOF', 'INTWALL', 'KITCHENS', 'FIREPLACES', 'USECODE',\n",
       "       'LANDAREA', 'GIS_LAST_MOD_DTTM', 'SOURCE', 'CMPLX_NUM', 'LIVING_GBA',\n",
       "       'FULLADDRESS', 'CITY', 'STATE', 'ZIPCODE', 'NATIONALGRID', 'LATITUDE',\n",
       "       'LONGITUDE', 'ASSESSMENT_NBHD', 'ASSESSMENT_SUBNBHD', 'CENSUS_TRACT',\n",
       "       'CENSUS_BLOCK', 'WARD', 'SQUARE', 'X', 'Y', 'QUADRANT'],\n",
       "      dtype='object')"
      ]
     },
     "execution_count": 6,
     "metadata": {},
     "output_type": "execute_result"
    }
   ],
   "source": [
    "df.columns"
   ]
  },
  {
   "cell_type": "code",
   "execution_count": 7,
   "metadata": {},
   "outputs": [],
   "source": [
    "#cols_disc = ['BATHRM','HF_BATHRM','ROOMS','BEDRM','FIREPLACES','YEAR']\n",
    "#cols_cont = ['EYB','GBA','LANDAREA']\n",
    "cols_num = ['BATHRM','HF_BATHRM','ROOMS','BEDRM','FIREPLACES','YEAR', 'EYB','GBA','LANDAREA']\n",
    "cols_ord = ['GRADE']\n",
    "cols_cat = ['AC','SOURCE']\n",
    "\n",
    "#cols_all = cols_disc + cols_cont + cols_ord + cols_cat\n",
    "cols_all = cols_num + cols_ord + cols_cat"
   ]
  },
  {
   "cell_type": "code",
   "execution_count": 8,
   "metadata": {},
   "outputs": [],
   "source": [
    "x = df.drop('PRICE', axis=1)\n",
    "y = df.loc[:,['PRICE']]\n",
    "#x.loc[:,cols_all].isnull().any()"
   ]
  },
  {
   "cell_type": "code",
   "execution_count": 9,
   "metadata": {},
   "outputs": [],
   "source": [
    "from sklearn.model_selection import train_test_split\n",
    "x_train, x_test, y_train, y_test = train_test_split(x, y, test_size=0.2, random_state=10)"
   ]
  },
  {
   "cell_type": "code",
   "execution_count": 10,
   "metadata": {},
   "outputs": [
    {
     "data": {
      "text/plain": [
       "BATHRM        False\n",
       "HF_BATHRM     False\n",
       "ROOMS         False\n",
       "BEDRM         False\n",
       "FIREPLACES    False\n",
       "YEAR           True\n",
       "EYB           False\n",
       "GBA            True\n",
       "LANDAREA      False\n",
       "GRADE          True\n",
       "AC            False\n",
       "SOURCE        False\n",
       "LIVING_GBA     True\n",
       "SALEDATE      False\n",
       "dtype: bool"
      ]
     },
     "execution_count": 10,
     "metadata": {},
     "output_type": "execute_result"
    }
   ],
   "source": [
    "x_train.loc[:,cols_all + ['LIVING_GBA', 'SALEDATE']].isnull().any()"
   ]
  },
  {
   "cell_type": "markdown",
   "metadata": {},
   "source": [
    "All is as expected - we do have null values for ```GBA``` and ```LIVING_GBA``` (which we will merge into one column), ```GRADE``` which has null values for all condominiums (we will replace these with a standard value) and ```YEAR``` which we will populate from ```SALEDATE```.\n",
    "\n",
    "Let's start with defining all the classes we'll need in the pipeline. We will test these right after the definition in the same order as we are using them in the pipeline (see section 2.4 to see the definition and order of the pipeline)."
   ]
  },
  {
   "cell_type": "code",
   "execution_count": 11,
   "metadata": {},
   "outputs": [],
   "source": [
    "class MergeColumns(TransformerMixin):\n",
    "    def __init__(self, column_one, column_two):\n",
    "        self.column_one = column_one\n",
    "        self.column_two = column_two\n",
    "    \n",
    "    def fit(self, x, y= None):\n",
    "        return self\n",
    "    \n",
    "    def transform(self, x):\n",
    "        x[self.column_one] = x[self.column_one].fillna(0) + x[self.column_two].fillna(0)\n",
    "        x = x.drop(self.column_two, axis=1)\n",
    "        return x"
   ]
  },
  {
   "cell_type": "code",
   "execution_count": 12,
   "metadata": {},
   "outputs": [
    {
     "data": {
      "text/html": [
       "<div>\n",
       "<style scoped>\n",
       "    .dataframe tbody tr th:only-of-type {\n",
       "        vertical-align: middle;\n",
       "    }\n",
       "\n",
       "    .dataframe tbody tr th {\n",
       "        vertical-align: top;\n",
       "    }\n",
       "\n",
       "    .dataframe thead th {\n",
       "        text-align: right;\n",
       "    }\n",
       "</style>\n",
       "<table border=\"1\" class=\"dataframe\">\n",
       "  <thead>\n",
       "    <tr style=\"text-align: right;\">\n",
       "      <th></th>\n",
       "      <th>SOURCE</th>\n",
       "      <th>GBA</th>\n",
       "      <th>LIVING_GBA</th>\n",
       "    </tr>\n",
       "    <tr>\n",
       "      <th>index</th>\n",
       "      <th></th>\n",
       "      <th></th>\n",
       "      <th></th>\n",
       "    </tr>\n",
       "  </thead>\n",
       "  <tbody>\n",
       "    <tr>\n",
       "      <th>2994</th>\n",
       "      <td>Residential</td>\n",
       "      <td>2192.0</td>\n",
       "      <td>NaN</td>\n",
       "    </tr>\n",
       "    <tr>\n",
       "      <th>128836</th>\n",
       "      <td>Condominium</td>\n",
       "      <td>NaN</td>\n",
       "      <td>1662.0</td>\n",
       "    </tr>\n",
       "    <tr>\n",
       "      <th>122208</th>\n",
       "      <td>Condominium</td>\n",
       "      <td>NaN</td>\n",
       "      <td>324.0</td>\n",
       "    </tr>\n",
       "  </tbody>\n",
       "</table>\n",
       "</div>"
      ],
      "text/plain": [
       "             SOURCE     GBA  LIVING_GBA\n",
       "index                                  \n",
       "2994    Residential  2192.0         NaN\n",
       "128836  Condominium     NaN      1662.0\n",
       "122208  Condominium     NaN       324.0"
      ]
     },
     "execution_count": 12,
     "metadata": {},
     "output_type": "execute_result"
    }
   ],
   "source": [
    "x_train.loc[:,['SOURCE','GBA','LIVING_GBA']].sample(3, random_state=1)"
   ]
  },
  {
   "cell_type": "code",
   "execution_count": 13,
   "metadata": {},
   "outputs": [
    {
     "data": {
      "text/html": [
       "<div>\n",
       "<style scoped>\n",
       "    .dataframe tbody tr th:only-of-type {\n",
       "        vertical-align: middle;\n",
       "    }\n",
       "\n",
       "    .dataframe tbody tr th {\n",
       "        vertical-align: top;\n",
       "    }\n",
       "\n",
       "    .dataframe thead th {\n",
       "        text-align: right;\n",
       "    }\n",
       "</style>\n",
       "<table border=\"1\" class=\"dataframe\">\n",
       "  <thead>\n",
       "    <tr style=\"text-align: right;\">\n",
       "      <th></th>\n",
       "      <th>SOURCE</th>\n",
       "      <th>GBA</th>\n",
       "    </tr>\n",
       "    <tr>\n",
       "      <th>index</th>\n",
       "      <th></th>\n",
       "      <th></th>\n",
       "    </tr>\n",
       "  </thead>\n",
       "  <tbody>\n",
       "    <tr>\n",
       "      <th>2994</th>\n",
       "      <td>Residential</td>\n",
       "      <td>2192.0</td>\n",
       "    </tr>\n",
       "    <tr>\n",
       "      <th>128836</th>\n",
       "      <td>Condominium</td>\n",
       "      <td>1662.0</td>\n",
       "    </tr>\n",
       "    <tr>\n",
       "      <th>122208</th>\n",
       "      <td>Condominium</td>\n",
       "      <td>324.0</td>\n",
       "    </tr>\n",
       "  </tbody>\n",
       "</table>\n",
       "</div>"
      ],
      "text/plain": [
       "             SOURCE     GBA\n",
       "index                      \n",
       "2994    Residential  2192.0\n",
       "128836  Condominium  1662.0\n",
       "122208  Condominium   324.0"
      ]
     },
     "execution_count": 13,
     "metadata": {},
     "output_type": "execute_result"
    }
   ],
   "source": [
    "merge_columns = MergeColumns('GBA', 'LIVING_GBA')\n",
    "df_merge_columns = merge_columns.fit_transform(x_train)\n",
    "x_train.loc[:,['SOURCE','GBA']].sample(3, random_state=1)"
   ]
  },
  {
   "cell_type": "code",
   "execution_count": 14,
   "metadata": {},
   "outputs": [],
   "source": [
    "class ConvertZeroToN(TransformerMixin):\n",
    "    def __init__(self, column):\n",
    "        self.column = column\n",
    "    \n",
    "    def fit(self, x, y= None):\n",
    "        return self\n",
    "    \n",
    "    def transform(self, x):\n",
    "        x[self.column][x[self.column] == '0'] = 'N'\n",
    "        \n",
    "        return x"
   ]
  },
  {
   "cell_type": "code",
   "execution_count": 15,
   "metadata": {},
   "outputs": [
    {
     "data": {
      "text/html": [
       "<div>\n",
       "<style scoped>\n",
       "    .dataframe tbody tr th:only-of-type {\n",
       "        vertical-align: middle;\n",
       "    }\n",
       "\n",
       "    .dataframe tbody tr th {\n",
       "        vertical-align: top;\n",
       "    }\n",
       "\n",
       "    .dataframe thead th {\n",
       "        text-align: right;\n",
       "    }\n",
       "</style>\n",
       "<table border=\"1\" class=\"dataframe\">\n",
       "  <thead>\n",
       "    <tr style=\"text-align: right;\">\n",
       "      <th></th>\n",
       "      <th>AC</th>\n",
       "    </tr>\n",
       "    <tr>\n",
       "      <th>index</th>\n",
       "      <th></th>\n",
       "    </tr>\n",
       "  </thead>\n",
       "  <tbody>\n",
       "    <tr>\n",
       "      <th>43000</th>\n",
       "      <td>0</td>\n",
       "    </tr>\n",
       "    <tr>\n",
       "      <th>144084</th>\n",
       "      <td>0</td>\n",
       "    </tr>\n",
       "    <tr>\n",
       "      <th>144076</th>\n",
       "      <td>0</td>\n",
       "    </tr>\n",
       "  </tbody>\n",
       "</table>\n",
       "</div>"
      ],
      "text/plain": [
       "       AC\n",
       "index    \n",
       "43000   0\n",
       "144084  0\n",
       "144076  0"
      ]
     },
     "execution_count": 15,
     "metadata": {},
     "output_type": "execute_result"
    }
   ],
   "source": [
    "x_train.loc[x_train['AC'] == '0'].loc[:,['AC']].head(3)"
   ]
  },
  {
   "cell_type": "code",
   "execution_count": 16,
   "metadata": {},
   "outputs": [
    {
     "data": {
      "text/html": [
       "<div>\n",
       "<style scoped>\n",
       "    .dataframe tbody tr th:only-of-type {\n",
       "        vertical-align: middle;\n",
       "    }\n",
       "\n",
       "    .dataframe tbody tr th {\n",
       "        vertical-align: top;\n",
       "    }\n",
       "\n",
       "    .dataframe thead th {\n",
       "        text-align: right;\n",
       "    }\n",
       "</style>\n",
       "<table border=\"1\" class=\"dataframe\">\n",
       "  <thead>\n",
       "    <tr style=\"text-align: right;\">\n",
       "      <th></th>\n",
       "      <th>AC</th>\n",
       "    </tr>\n",
       "    <tr>\n",
       "      <th>index</th>\n",
       "      <th></th>\n",
       "    </tr>\n",
       "  </thead>\n",
       "  <tbody>\n",
       "  </tbody>\n",
       "</table>\n",
       "</div>"
      ],
      "text/plain": [
       "Empty DataFrame\n",
       "Columns: [AC]\n",
       "Index: []"
      ]
     },
     "execution_count": 16,
     "metadata": {},
     "output_type": "execute_result"
    }
   ],
   "source": [
    "convert_zero_to_n = ConvertZeroToN('AC')\n",
    "convert_zero_to_n.fit_transform(x_train)\n",
    "x_train.loc[x_train['AC'] == '0'].loc[:,['AC']].head(3)"
   ]
  },
  {
   "cell_type": "code",
   "execution_count": 17,
   "metadata": {},
   "outputs": [],
   "source": [
    "class ConvertStringDateToYear(TransformerMixin):\n",
    "    def __init__(self, column):\n",
    "        self.column = column\n",
    "    \n",
    "    def fit(self, x, y= None):\n",
    "        return self\n",
    "    \n",
    "    def transform(self, x):\n",
    "        x[self.column] = pd.to_datetime(x[self.column], format='%Y-%m-%d', errors='coerce')\n",
    "        x['YEAR'] = x[self.column].dt.year\n",
    "        \n",
    "        return x       "
   ]
  },
  {
   "cell_type": "code",
   "execution_count": 18,
   "metadata": {},
   "outputs": [
    {
     "data": {
      "text/html": [
       "<div>\n",
       "<style scoped>\n",
       "    .dataframe tbody tr th:only-of-type {\n",
       "        vertical-align: middle;\n",
       "    }\n",
       "\n",
       "    .dataframe tbody tr th {\n",
       "        vertical-align: top;\n",
       "    }\n",
       "\n",
       "    .dataframe thead th {\n",
       "        text-align: right;\n",
       "    }\n",
       "</style>\n",
       "<table border=\"1\" class=\"dataframe\">\n",
       "  <thead>\n",
       "    <tr style=\"text-align: right;\">\n",
       "      <th></th>\n",
       "      <th>YEAR</th>\n",
       "    </tr>\n",
       "    <tr>\n",
       "      <th>index</th>\n",
       "      <th></th>\n",
       "    </tr>\n",
       "  </thead>\n",
       "  <tbody>\n",
       "    <tr>\n",
       "      <th>155050</th>\n",
       "      <td>2009</td>\n",
       "    </tr>\n",
       "    <tr>\n",
       "      <th>112994</th>\n",
       "      <td>1995</td>\n",
       "    </tr>\n",
       "    <tr>\n",
       "      <th>30395</th>\n",
       "      <td>2004</td>\n",
       "    </tr>\n",
       "  </tbody>\n",
       "</table>\n",
       "</div>"
      ],
      "text/plain": [
       "        YEAR\n",
       "index       \n",
       "155050  2009\n",
       "112994  1995\n",
       "30395   2004"
      ]
     },
     "execution_count": 18,
     "metadata": {},
     "output_type": "execute_result"
    }
   ],
   "source": [
    "convert_string_date_to_year = ConvertStringDateToYear('SALEDATE')\n",
    "convert_string_date_to_year.fit_transform(x_train)\n",
    "x_train.loc[:,['YEAR']].head(3)"
   ]
  },
  {
   "cell_type": "code",
   "execution_count": 19,
   "metadata": {
    "scrolled": true
   },
   "outputs": [
    {
     "data": {
      "text/plain": [
       "BATHRM        False\n",
       "HF_BATHRM     False\n",
       "ROOMS         False\n",
       "BEDRM         False\n",
       "FIREPLACES    False\n",
       "YEAR          False\n",
       "EYB           False\n",
       "GBA           False\n",
       "LANDAREA      False\n",
       "GRADE          True\n",
       "AC            False\n",
       "SOURCE        False\n",
       "dtype: bool"
      ]
     },
     "execution_count": 19,
     "metadata": {},
     "output_type": "execute_result"
    }
   ],
   "source": [
    "x_train.loc[:,cols_all].isnull().any()"
   ]
  },
  {
   "cell_type": "markdown",
   "metadata": {},
   "source": [
    "The data cleaning all seems to work fine and removes our null values. In a later step we also should write unit tests to make sure they work fine."
   ]
  },
  {
   "cell_type": "code",
   "execution_count": 20,
   "metadata": {},
   "outputs": [],
   "source": [
    "class ColumnSelector(BaseEstimator, TransformerMixin):\n",
    "    def __init__(self, columns):\n",
    "        self.columns = columns\n",
    "    \n",
    "    def fit(self, x, y = None):\n",
    "        return self\n",
    "    \n",
    "    def transform(self, x):\n",
    "        return x.loc[:, self.columns]"
   ]
  },
  {
   "cell_type": "markdown",
   "metadata": {},
   "source": [
    "Test scaling for numeric columns:"
   ]
  },
  {
   "cell_type": "code",
   "execution_count": 21,
   "metadata": {},
   "outputs": [
    {
     "data": {
      "text/html": [
       "<div>\n",
       "<style scoped>\n",
       "    .dataframe tbody tr th:only-of-type {\n",
       "        vertical-align: middle;\n",
       "    }\n",
       "\n",
       "    .dataframe tbody tr th {\n",
       "        vertical-align: top;\n",
       "    }\n",
       "\n",
       "    .dataframe thead th {\n",
       "        text-align: right;\n",
       "    }\n",
       "</style>\n",
       "<table border=\"1\" class=\"dataframe\">\n",
       "  <thead>\n",
       "    <tr style=\"text-align: right;\">\n",
       "      <th></th>\n",
       "      <th>BATHRM</th>\n",
       "      <th>HF_BATHRM</th>\n",
       "      <th>ROOMS</th>\n",
       "      <th>BEDRM</th>\n",
       "      <th>FIREPLACES</th>\n",
       "      <th>YEAR</th>\n",
       "      <th>EYB</th>\n",
       "      <th>GBA</th>\n",
       "      <th>LANDAREA</th>\n",
       "    </tr>\n",
       "    <tr>\n",
       "      <th>index</th>\n",
       "      <th></th>\n",
       "      <th></th>\n",
       "      <th></th>\n",
       "      <th></th>\n",
       "      <th></th>\n",
       "      <th></th>\n",
       "      <th></th>\n",
       "      <th></th>\n",
       "      <th></th>\n",
       "    </tr>\n",
       "  </thead>\n",
       "  <tbody>\n",
       "    <tr>\n",
       "      <th>155050</th>\n",
       "      <td>2</td>\n",
       "      <td>1</td>\n",
       "      <td>4</td>\n",
       "      <td>2</td>\n",
       "      <td>0</td>\n",
       "      <td>2009</td>\n",
       "      <td>1900</td>\n",
       "      <td>1005.0</td>\n",
       "      <td>599</td>\n",
       "    </tr>\n",
       "    <tr>\n",
       "      <th>112994</th>\n",
       "      <td>2</td>\n",
       "      <td>0</td>\n",
       "      <td>4</td>\n",
       "      <td>2</td>\n",
       "      <td>0</td>\n",
       "      <td>1995</td>\n",
       "      <td>1960</td>\n",
       "      <td>1027.0</td>\n",
       "      <td>1148</td>\n",
       "    </tr>\n",
       "    <tr>\n",
       "      <th>30395</th>\n",
       "      <td>1</td>\n",
       "      <td>1</td>\n",
       "      <td>6</td>\n",
       "      <td>3</td>\n",
       "      <td>1</td>\n",
       "      <td>2004</td>\n",
       "      <td>1960</td>\n",
       "      <td>1322.0</td>\n",
       "      <td>3630</td>\n",
       "    </tr>\n",
       "  </tbody>\n",
       "</table>\n",
       "</div>"
      ],
      "text/plain": [
       "        BATHRM  HF_BATHRM  ROOMS  BEDRM  FIREPLACES  YEAR   EYB     GBA  \\\n",
       "index                                                                     \n",
       "155050       2          1      4      2           0  2009  1900  1005.0   \n",
       "112994       2          0      4      2           0  1995  1960  1027.0   \n",
       "30395        1          1      6      3           1  2004  1960  1322.0   \n",
       "\n",
       "        LANDAREA  \n",
       "index             \n",
       "155050       599  \n",
       "112994      1148  \n",
       "30395       3630  "
      ]
     },
     "execution_count": 21,
     "metadata": {},
     "output_type": "execute_result"
    }
   ],
   "source": [
    "col_sel_num = ColumnSelector(cols_num)\n",
    "x_train_num = col_sel_num.fit_transform(x_train)\n",
    "x_train_num.head(3)"
   ]
  },
  {
   "cell_type": "code",
   "execution_count": 22,
   "metadata": {},
   "outputs": [
    {
     "data": {
      "text/html": [
       "<div>\n",
       "<style scoped>\n",
       "    .dataframe tbody tr th:only-of-type {\n",
       "        vertical-align: middle;\n",
       "    }\n",
       "\n",
       "    .dataframe tbody tr th {\n",
       "        vertical-align: top;\n",
       "    }\n",
       "\n",
       "    .dataframe thead th {\n",
       "        text-align: right;\n",
       "    }\n",
       "</style>\n",
       "<table border=\"1\" class=\"dataframe\">\n",
       "  <thead>\n",
       "    <tr style=\"text-align: right;\">\n",
       "      <th></th>\n",
       "      <th>0</th>\n",
       "      <th>1</th>\n",
       "      <th>2</th>\n",
       "      <th>3</th>\n",
       "      <th>4</th>\n",
       "      <th>5</th>\n",
       "      <th>6</th>\n",
       "      <th>7</th>\n",
       "      <th>8</th>\n",
       "    </tr>\n",
       "  </thead>\n",
       "  <tbody>\n",
       "    <tr>\n",
       "      <th>0</th>\n",
       "      <td>0.147663</td>\n",
       "      <td>0.967529</td>\n",
       "      <td>-0.728502</td>\n",
       "      <td>-0.434724</td>\n",
       "      <td>-0.426134</td>\n",
       "      <td>-0.095199</td>\n",
       "      <td>-2.394575</td>\n",
       "      <td>-0.465997</td>\n",
       "      <td>-0.546402</td>\n",
       "    </tr>\n",
       "    <tr>\n",
       "      <th>1</th>\n",
       "      <td>0.147663</td>\n",
       "      <td>-0.774144</td>\n",
       "      <td>-0.728502</td>\n",
       "      <td>-0.434724</td>\n",
       "      <td>-0.426134</td>\n",
       "      <td>-2.211523</td>\n",
       "      <td>-0.208826</td>\n",
       "      <td>-0.438521</td>\n",
       "      <td>-0.344289</td>\n",
       "    </tr>\n",
       "    <tr>\n",
       "      <th>2</th>\n",
       "      <td>-0.876478</td>\n",
       "      <td>0.967529</td>\n",
       "      <td>0.030793</td>\n",
       "      <td>0.283102</td>\n",
       "      <td>0.516963</td>\n",
       "      <td>-0.851029</td>\n",
       "      <td>-0.208826</td>\n",
       "      <td>-0.070098</td>\n",
       "      <td>0.569453</td>\n",
       "    </tr>\n",
       "  </tbody>\n",
       "</table>\n",
       "</div>"
      ],
      "text/plain": [
       "          0         1         2         3         4         5         6  \\\n",
       "0  0.147663  0.967529 -0.728502 -0.434724 -0.426134 -0.095199 -2.394575   \n",
       "1  0.147663 -0.774144 -0.728502 -0.434724 -0.426134 -2.211523 -0.208826   \n",
       "2 -0.876478  0.967529  0.030793  0.283102  0.516963 -0.851029 -0.208826   \n",
       "\n",
       "          7         8  \n",
       "0 -0.465997 -0.546402  \n",
       "1 -0.438521 -0.344289  \n",
       "2 -0.070098  0.569453  "
      ]
     },
     "execution_count": 22,
     "metadata": {},
     "output_type": "execute_result"
    }
   ],
   "source": [
    "scaler = StandardScaler()\n",
    "x_train_num_scaled = scaler.fit_transform(x_train_num)\n",
    "pd.DataFrame(x_train_num_scaled).head(3)"
   ]
  },
  {
   "cell_type": "markdown",
   "metadata": {},
   "source": [
    "Test ordinal encoding for grades:"
   ]
  },
  {
   "cell_type": "code",
   "execution_count": 23,
   "metadata": {},
   "outputs": [
    {
     "data": {
      "text/html": [
       "<div>\n",
       "<style scoped>\n",
       "    .dataframe tbody tr th:only-of-type {\n",
       "        vertical-align: middle;\n",
       "    }\n",
       "\n",
       "    .dataframe tbody tr th {\n",
       "        vertical-align: top;\n",
       "    }\n",
       "\n",
       "    .dataframe thead th {\n",
       "        text-align: right;\n",
       "    }\n",
       "</style>\n",
       "<table border=\"1\" class=\"dataframe\">\n",
       "  <thead>\n",
       "    <tr style=\"text-align: right;\">\n",
       "      <th></th>\n",
       "      <th>GRADE</th>\n",
       "    </tr>\n",
       "    <tr>\n",
       "      <th>index</th>\n",
       "      <th></th>\n",
       "    </tr>\n",
       "  </thead>\n",
       "  <tbody>\n",
       "    <tr>\n",
       "      <th>155050</th>\n",
       "      <td>NaN</td>\n",
       "    </tr>\n",
       "    <tr>\n",
       "      <th>112994</th>\n",
       "      <td>NaN</td>\n",
       "    </tr>\n",
       "    <tr>\n",
       "      <th>30395</th>\n",
       "      <td>Good Quality</td>\n",
       "    </tr>\n",
       "  </tbody>\n",
       "</table>\n",
       "</div>"
      ],
      "text/plain": [
       "               GRADE\n",
       "index               \n",
       "155050           NaN\n",
       "112994           NaN\n",
       "30395   Good Quality"
      ]
     },
     "execution_count": 23,
     "metadata": {},
     "output_type": "execute_result"
    }
   ],
   "source": [
    "col_sel_ord = ColumnSelector(cols_ord)\n",
    "x_train_ord = col_sel_ord.fit_transform(x_train)\n",
    "x_train_ord.head(3)"
   ]
  },
  {
   "cell_type": "code",
   "execution_count": 24,
   "metadata": {},
   "outputs": [
    {
     "data": {
      "text/html": [
       "<div>\n",
       "<style scoped>\n",
       "    .dataframe tbody tr th:only-of-type {\n",
       "        vertical-align: middle;\n",
       "    }\n",
       "\n",
       "    .dataframe tbody tr th {\n",
       "        vertical-align: top;\n",
       "    }\n",
       "\n",
       "    .dataframe thead th {\n",
       "        text-align: right;\n",
       "    }\n",
       "</style>\n",
       "<table border=\"1\" class=\"dataframe\">\n",
       "  <thead>\n",
       "    <tr style=\"text-align: right;\">\n",
       "      <th></th>\n",
       "      <th>GRADE</th>\n",
       "    </tr>\n",
       "    <tr>\n",
       "      <th>index</th>\n",
       "      <th></th>\n",
       "    </tr>\n",
       "  </thead>\n",
       "  <tbody>\n",
       "    <tr>\n",
       "      <th>155050</th>\n",
       "      <td>0</td>\n",
       "    </tr>\n",
       "    <tr>\n",
       "      <th>112994</th>\n",
       "      <td>0</td>\n",
       "    </tr>\n",
       "    <tr>\n",
       "      <th>30395</th>\n",
       "      <td>5</td>\n",
       "    </tr>\n",
       "  </tbody>\n",
       "</table>\n",
       "</div>"
      ],
      "text/plain": [
       "        GRADE\n",
       "index        \n",
       "155050      0\n",
       "112994      0\n",
       "30395       5"
      ]
     },
     "execution_count": 24,
     "metadata": {},
     "output_type": "execute_result"
    }
   ],
   "source": [
    "mapping_ord = [{'col': 'GRADE','mapping': [(None, 0),\n",
    "                                       ('Low Quality', 1),\n",
    "                                       ('Fair Quality', 2),\n",
    "                                       ('Average', 3),\n",
    "                                       ('Above Average', 4),\n",
    "                                       ('Good Quality', 5),\n",
    "                                       ('Very Good', 6),\n",
    "                                       ('Excellent', 7),\n",
    "                                       ('Superior', 8),\n",
    "                                       ('Exceptional-A', 9),\n",
    "                                       ('Exceptional-B', 10),\n",
    "                                       ('No Data', 11),\n",
    "                                       ('Exceptional-D', 12),\n",
    "                                       ('Exceptional-C', 13)]}]\n",
    "ord_encoder = OrdinalEncoder(cols=cols_ord, mapping=mapping_ord)\n",
    "x_train_ord_encoded = ord_encoder.fit_transform(x_train_ord)\n",
    "x_train_ord_encoded.head(3)"
   ]
  },
  {
   "cell_type": "markdown",
   "metadata": {},
   "source": [
    "Test one-hot-encoding for categories:"
   ]
  },
  {
   "cell_type": "code",
   "execution_count": 25,
   "metadata": {},
   "outputs": [
    {
     "data": {
      "text/html": [
       "<div>\n",
       "<style scoped>\n",
       "    .dataframe tbody tr th:only-of-type {\n",
       "        vertical-align: middle;\n",
       "    }\n",
       "\n",
       "    .dataframe tbody tr th {\n",
       "        vertical-align: top;\n",
       "    }\n",
       "\n",
       "    .dataframe thead th {\n",
       "        text-align: right;\n",
       "    }\n",
       "</style>\n",
       "<table border=\"1\" class=\"dataframe\">\n",
       "  <thead>\n",
       "    <tr style=\"text-align: right;\">\n",
       "      <th></th>\n",
       "      <th>AC</th>\n",
       "      <th>SOURCE</th>\n",
       "    </tr>\n",
       "    <tr>\n",
       "      <th>index</th>\n",
       "      <th></th>\n",
       "      <th></th>\n",
       "    </tr>\n",
       "  </thead>\n",
       "  <tbody>\n",
       "    <tr>\n",
       "      <th>155050</th>\n",
       "      <td>Y</td>\n",
       "      <td>Condominium</td>\n",
       "    </tr>\n",
       "    <tr>\n",
       "      <th>112994</th>\n",
       "      <td>Y</td>\n",
       "      <td>Condominium</td>\n",
       "    </tr>\n",
       "    <tr>\n",
       "      <th>30395</th>\n",
       "      <td>Y</td>\n",
       "      <td>Residential</td>\n",
       "    </tr>\n",
       "  </tbody>\n",
       "</table>\n",
       "</div>"
      ],
      "text/plain": [
       "       AC       SOURCE\n",
       "index                 \n",
       "155050  Y  Condominium\n",
       "112994  Y  Condominium\n",
       "30395   Y  Residential"
      ]
     },
     "execution_count": 25,
     "metadata": {},
     "output_type": "execute_result"
    }
   ],
   "source": [
    "col_sel_cat = ColumnSelector(cols_cat)\n",
    "x_train_cat = col_sel_cat.fit_transform(x_train)\n",
    "x_train_cat.head(3)"
   ]
  },
  {
   "cell_type": "code",
   "execution_count": 26,
   "metadata": {
    "scrolled": true
   },
   "outputs": [
    {
     "data": {
      "text/html": [
       "<div>\n",
       "<style scoped>\n",
       "    .dataframe tbody tr th:only-of-type {\n",
       "        vertical-align: middle;\n",
       "    }\n",
       "\n",
       "    .dataframe tbody tr th {\n",
       "        vertical-align: top;\n",
       "    }\n",
       "\n",
       "    .dataframe thead th {\n",
       "        text-align: right;\n",
       "    }\n",
       "</style>\n",
       "<table border=\"1\" class=\"dataframe\">\n",
       "  <thead>\n",
       "    <tr style=\"text-align: right;\">\n",
       "      <th></th>\n",
       "      <th>AC_1</th>\n",
       "      <th>AC_2</th>\n",
       "      <th>SOURCE_1</th>\n",
       "      <th>SOURCE_2</th>\n",
       "    </tr>\n",
       "    <tr>\n",
       "      <th>index</th>\n",
       "      <th></th>\n",
       "      <th></th>\n",
       "      <th></th>\n",
       "      <th></th>\n",
       "    </tr>\n",
       "  </thead>\n",
       "  <tbody>\n",
       "    <tr>\n",
       "      <th>155050</th>\n",
       "      <td>1</td>\n",
       "      <td>0</td>\n",
       "      <td>1</td>\n",
       "      <td>0</td>\n",
       "    </tr>\n",
       "    <tr>\n",
       "      <th>112994</th>\n",
       "      <td>1</td>\n",
       "      <td>0</td>\n",
       "      <td>1</td>\n",
       "      <td>0</td>\n",
       "    </tr>\n",
       "    <tr>\n",
       "      <th>30395</th>\n",
       "      <td>1</td>\n",
       "      <td>0</td>\n",
       "      <td>0</td>\n",
       "      <td>1</td>\n",
       "    </tr>\n",
       "  </tbody>\n",
       "</table>\n",
       "</div>"
      ],
      "text/plain": [
       "        AC_1  AC_2  SOURCE_1  SOURCE_2\n",
       "index                                 \n",
       "155050     1     0         1         0\n",
       "112994     1     0         1         0\n",
       "30395      1     0         0         1"
      ]
     },
     "execution_count": 26,
     "metadata": {},
     "output_type": "execute_result"
    }
   ],
   "source": [
    "one_hot_encoder = OneHotEncoder(drop_invariant=True)\n",
    "x_train_one_hot_encoded = one_hot_encoder.fit_transform(x_train_cat)\n",
    "x_train_one_hot_encoded.head(3)"
   ]
  },
  {
   "cell_type": "markdown",
   "metadata": {},
   "source": [
    "### 2.4 Load Data and Define Pipeline"
   ]
  },
  {
   "cell_type": "markdown",
   "metadata": {},
   "source": [
    "We need to reset ```x_train``` and ```y_train``` in order for them being used in the pipeline. Let's set up the transformation pipeline using the classes we defined above. "
   ]
  },
  {
   "cell_type": "code",
   "execution_count": 27,
   "metadata": {},
   "outputs": [],
   "source": [
    "x_train = df.drop('PRICE', axis=1)\n",
    "y_train = df.loc[:,['PRICE']]"
   ]
  },
  {
   "cell_type": "code",
   "execution_count": 28,
   "metadata": {},
   "outputs": [],
   "source": [
    "processing_pipeline = make_pipeline(\n",
    "    \n",
    "    # RowNanChecker(my_column) # to be implemented if time allows\n",
    "    MergeColumns('GBA', 'LIVING_GBA'),\n",
    "    ConvertZeroToN('AC'),\n",
    "    ConvertStringDateToYear('SALEDATE'),\n",
    "    ColumnSelector(cols_all),  # we have to select all the columns used in the union\n",
    "    make_union(\n",
    "        # First, we select and 'hold out' the discrete variables, as we wont do any further work to them.\n",
    "        make_pipeline(ColumnSelector(cols_num),\n",
    "                      StandardScaler()\n",
    "        ),\n",
    "        make_pipeline(ColumnSelector(cols_ord),\n",
    "                      OrdinalEncoder()\n",
    "        ),\n",
    "        make_pipeline(ColumnSelector(cols_cat),\n",
    "                      OneHotEncoder()\n",
    "        )\n",
    "    )\n",
    ")"
   ]
  },
  {
   "cell_type": "code",
   "execution_count": 29,
   "metadata": {},
   "outputs": [],
   "source": [
    "pipeline = (make_pipeline(processing_pipeline, RandomForestRegressor(random_state=1, \n",
    "                                                                          n_jobs=-1, \n",
    "                                                                          n_estimators=100)))"
   ]
  },
  {
   "cell_type": "markdown",
   "metadata": {},
   "source": [
    "### 2.5 Fit Pipeline and Evaluate Accuracy"
   ]
  },
  {
   "cell_type": "code",
   "execution_count": 30,
   "metadata": {},
   "outputs": [
    {
     "data": {
      "text/plain": [
       "Pipeline(memory=None,\n",
       "     steps=[('pipeline', Pipeline(memory=None,\n",
       "     steps=[('mergecolumns', <__main__.MergeColumns object at 0x000002A801A9F160>), ('convertzeroton', <__main__.ConvertZeroToN object at 0x000002A801A9F198>), ('convertstringdatetoyear', <__main__.ConvertStringDateToYear object at 0x000002A801A9F2E8>), ('co...stimators=100, n_jobs=-1,\n",
       "           oob_score=False, random_state=1, verbose=0, warm_start=False))])"
      ]
     },
     "execution_count": 30,
     "metadata": {},
     "output_type": "execute_result"
    }
   ],
   "source": [
    "pipeline.fit(x_train, pd.Series.ravel(y_train))"
   ]
  },
  {
   "cell_type": "code",
   "execution_count": 31,
   "metadata": {},
   "outputs": [
    {
     "name": "stdout",
     "output_type": "stream",
     "text": [
      "RMSE Lazy Predictor 7031964.244319852\n",
      "MAE Lazy Predictor 943573.40586325\n",
      "R^2 Lazy Predictor 0.0\n",
      "\n",
      "RMSE 5456647.309092143\n",
      "MAE 528230.193196893\n",
      "R^2 0.3978586381683459\n",
      "\n",
      "RMSE Improvement: 1575316.9352277098\n",
      "MAE Inprovement: 415343.21266635705\n",
      "R^2 Improvement: 0.3978586381683459\n"
     ]
    }
   ],
   "source": [
    "pred_train = compare_predictions(x_train, y_train, pipeline, y_train['PRICE'].mean())"
   ]
  },
  {
   "cell_type": "code",
   "execution_count": 32,
   "metadata": {},
   "outputs": [],
   "source": [
    "df_holdout = pd.read_csv('data/dc_housing/holdout_test_data.csv', index_col=0, low_memory=False)\n",
    "df_holdout = df_holdout[~np.isnan(df_holdout['PRICE'])]"
   ]
  },
  {
   "cell_type": "code",
   "execution_count": 33,
   "metadata": {},
   "outputs": [],
   "source": [
    "x_test = df_holdout.drop('PRICE', axis=1)\n",
    "y_test = df_holdout.loc[:,['PRICE']]"
   ]
  },
  {
   "cell_type": "code",
   "execution_count": 34,
   "metadata": {},
   "outputs": [
    {
     "name": "stdout",
     "output_type": "stream",
     "text": [
      "RMSE Lazy Predictor 9550662.233815953\n",
      "MAE Lazy Predictor 1661050.334916615\n",
      "R^2 Lazy Predictor 0.0\n",
      "\n",
      "RMSE 4486150.59644549\n",
      "MAE 332891.06372184394\n",
      "R^2 0.7793617905404602\n",
      "\n",
      "RMSE Improvement: 5064511.637370463\n",
      "MAE Inprovement: 1328159.271194771\n",
      "R^2 Improvement: 0.7793617905404602\n"
     ]
    }
   ],
   "source": [
    "pred_train = compare_predictions(x_test, y_test, pipeline, y_test['PRICE'].mean())"
   ]
  }
 ],
 "metadata": {
  "kernelspec": {
   "display_name": "Python 3",
   "language": "python",
   "name": "python3"
  },
  "language_info": {
   "codemirror_mode": {
    "name": "ipython",
    "version": 3
   },
   "file_extension": ".py",
   "mimetype": "text/x-python",
   "name": "python",
   "nbconvert_exporter": "python",
   "pygments_lexer": "ipython3",
   "version": "3.6.6"
  }
 },
 "nbformat": 4,
 "nbformat_minor": 2
}
