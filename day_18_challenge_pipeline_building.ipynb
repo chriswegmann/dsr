{
 "cells": [
  {
   "cell_type": "markdown",
   "metadata": {},
   "source": [
    "## 2 Pipeline Building"
   ]
  },
  {
   "cell_type": "markdown",
   "metadata": {},
   "source": [
    "### 2.1 Row Removal\n",
    "We remove a few rows before the actual pipeline (e.g. outliers) because they would prevent a good training. We will also need to remove rows with no price from the holdout data set."
   ]
  },
  {
   "cell_type": "code",
   "execution_count": 1,
   "metadata": {},
   "outputs": [],
   "source": [
    "import pandas as pd\n",
    "import numpy as np\n",
    "import seaborn as sns\n",
    "import matplotlib.pyplot as plt\n",
    "from math import sqrt"
   ]
  },
  {
   "cell_type": "code",
   "execution_count": 2,
   "metadata": {},
   "outputs": [],
   "source": [
    "import warnings\n",
    "warnings.filterwarnings('ignore') # seaborn shows a lot of ugly warnings, let's suppress these for now"
   ]
  },
  {
   "cell_type": "markdown",
   "metadata": {},
   "source": [
    "We remove the rows where we have n/a values for required columns and some outliers which seem to distort the model."
   ]
  },
  {
   "cell_type": "code",
   "execution_count": 3,
   "metadata": {},
   "outputs": [],
   "source": [
    "df = pd.read_csv('data/dc_housing/DC_Properties_training.csv', index_col=0, low_memory=False)\n",
    "df = df.dropna(subset=[\"PRICE\"])"
   ]
  },
  {
   "cell_type": "code",
   "execution_count": 4,
   "metadata": {},
   "outputs": [],
   "source": [
    "from sklearn.model_selection import train_test_split\n",
    "x_train, x_test, y_train, y_test = train_test_split(df.drop('PRICE', axis=1), \n",
    "                                                    df.loc[:,['PRICE']], \n",
    "                                                    test_size=0.2, \n",
    "                                                    random_state=10)"
   ]
  },
  {
   "cell_type": "markdown",
   "metadata": {},
   "source": [
    "### 2.2 Evaluation Function / Libraries"
   ]
  },
  {
   "cell_type": "code",
   "execution_count": 5,
   "metadata": {},
   "outputs": [],
   "source": [
    "from sklearn.metrics import mean_squared_error, mean_absolute_error, r2_score\n",
    "from sklearn.model_selection import cross_val_predict\n",
    "from sklearn.ensemble import RandomForestRegressor\n",
    "from day_18_challenge_pipeline_classes import compare_predictions"
   ]
  },
  {
   "cell_type": "markdown",
   "metadata": {},
   "source": [
    "### 2.3 Pipeline Preparation"
   ]
  },
  {
   "cell_type": "code",
   "execution_count": 6,
   "metadata": {},
   "outputs": [],
   "source": [
    "from sklearn.base import BaseEstimator, TransformerMixin\n",
    "from sklearn.feature_extraction import DictVectorizer\n",
    "from sklearn.pipeline import make_pipeline, make_union\n",
    "from sklearn.preprocessing import StandardScaler\n",
    "from category_encoders.ordinal import OrdinalEncoder\n",
    "from category_encoders.one_hot import OneHotEncoder\n",
    "from sklearn.model_selection import train_test_split"
   ]
  },
  {
   "cell_type": "code",
   "execution_count": 7,
   "metadata": {},
   "outputs": [
    {
     "data": {
      "text/plain": [
       "Index(['BATHRM', 'HF_BATHRM', 'HEAT', 'AC', 'NUM_UNITS', 'ROOMS', 'BEDRM',\n",
       "       'AYB', 'YR_RMDL', 'EYB', 'STORIES', 'SALEDATE', 'PRICE', 'QUALIFIED',\n",
       "       'SALE_NUM', 'GBA', 'BLDG_NUM', 'STYLE', 'STRUCT', 'GRADE', 'CNDTN',\n",
       "       'EXTWALL', 'ROOF', 'INTWALL', 'KITCHENS', 'FIREPLACES', 'USECODE',\n",
       "       'LANDAREA', 'GIS_LAST_MOD_DTTM', 'SOURCE', 'CMPLX_NUM', 'LIVING_GBA',\n",
       "       'FULLADDRESS', 'CITY', 'STATE', 'ZIPCODE', 'NATIONALGRID', 'LATITUDE',\n",
       "       'LONGITUDE', 'ASSESSMENT_NBHD', 'ASSESSMENT_SUBNBHD', 'CENSUS_TRACT',\n",
       "       'CENSUS_BLOCK', 'WARD', 'SQUARE', 'X', 'Y', 'QUADRANT'],\n",
       "      dtype='object')"
      ]
     },
     "execution_count": 7,
     "metadata": {},
     "output_type": "execute_result"
    }
   ],
   "source": [
    "df.columns"
   ]
  },
  {
   "cell_type": "code",
   "execution_count": 8,
   "metadata": {},
   "outputs": [],
   "source": [
    "cols_num = ['BATHRM','HF_BATHRM','ROOMS','BEDRM','FIREPLACES','YEAR','AYB','EYB','GBA','LANDAREA']\n",
    "cols_ord = ['GRADE','HEAT','ZIPCODE','ASSESSMENT_NBHD', 'CENSUS_TRACT']\n",
    "cols_cat = ['AC','SOURCE','QUALIFIED']\n",
    "\n",
    "cols_all = cols_num + cols_ord + cols_cat"
   ]
  },
  {
   "cell_type": "code",
   "execution_count": 9,
   "metadata": {},
   "outputs": [
    {
     "data": {
      "text/plain": [
       "BATHRM             False\n",
       "HF_BATHRM          False\n",
       "ROOMS              False\n",
       "BEDRM              False\n",
       "FIREPLACES         False\n",
       "YEAR                True\n",
       "AYB                 True\n",
       "EYB                False\n",
       "GBA                 True\n",
       "LANDAREA           False\n",
       "GRADE               True\n",
       "HEAT               False\n",
       "ZIPCODE            False\n",
       "ASSESSMENT_NBHD    False\n",
       "CENSUS_TRACT       False\n",
       "AC                 False\n",
       "SOURCE             False\n",
       "QUALIFIED          False\n",
       "LIVING_GBA          True\n",
       "SALEDATE            True\n",
       "dtype: bool"
      ]
     },
     "execution_count": 9,
     "metadata": {},
     "output_type": "execute_result"
    }
   ],
   "source": [
    "x_train.loc[:,cols_all + ['LIVING_GBA', 'SALEDATE']].isnull().any()"
   ]
  },
  {
   "cell_type": "markdown",
   "metadata": {},
   "source": [
    "All is as expected - we do have null values for ```GBA``` and ```LIVING_GBA``` (which we will merge into one column), ```AYB``` (which we will replace with the mean of the training data), ```GRADE``` which has null values for all condominiums (we will replace these with a standard value) and ```YEAR``` which we will populate from ```SALEDATE``` (and replace the missing values with the mean).\n",
    "\n",
    "Let's start with defining all the classes we'll need in the pipeline. We will test these right after the definition in the same order as we are using them in the pipeline (see section 2.4 to see the definition and order of the pipeline)."
   ]
  },
  {
   "cell_type": "markdown",
   "metadata": {},
   "source": [
    "#### 2.3.1 Merge Columns"
   ]
  },
  {
   "cell_type": "code",
   "execution_count": 10,
   "metadata": {},
   "outputs": [],
   "source": [
    "class MergeColumns(TransformerMixin):\n",
    "    def __init__(self, column_one, column_two):\n",
    "        self.column_one = column_one\n",
    "        self.column_two = column_two\n",
    "    \n",
    "    def fit(self, x, y= None):\n",
    "        return self\n",
    "    \n",
    "    def transform(self, x):\n",
    "        x[self.column_one] = x[self.column_one].fillna(0) + x[self.column_two].fillna(0)\n",
    "        x = x.drop(self.column_two, axis=1)\n",
    "        return x"
   ]
  },
  {
   "cell_type": "code",
   "execution_count": 11,
   "metadata": {},
   "outputs": [
    {
     "data": {
      "text/html": [
       "<div>\n",
       "<style scoped>\n",
       "    .dataframe tbody tr th:only-of-type {\n",
       "        vertical-align: middle;\n",
       "    }\n",
       "\n",
       "    .dataframe tbody tr th {\n",
       "        vertical-align: top;\n",
       "    }\n",
       "\n",
       "    .dataframe thead th {\n",
       "        text-align: right;\n",
       "    }\n",
       "</style>\n",
       "<table border=\"1\" class=\"dataframe\">\n",
       "  <thead>\n",
       "    <tr style=\"text-align: right;\">\n",
       "      <th></th>\n",
       "      <th>SOURCE</th>\n",
       "      <th>GBA</th>\n",
       "      <th>LIVING_GBA</th>\n",
       "    </tr>\n",
       "    <tr>\n",
       "      <th>index</th>\n",
       "      <th></th>\n",
       "      <th></th>\n",
       "      <th></th>\n",
       "    </tr>\n",
       "  </thead>\n",
       "  <tbody>\n",
       "    <tr>\n",
       "      <th>2045</th>\n",
       "      <td>Residential</td>\n",
       "      <td>3879.0</td>\n",
       "      <td>NaN</td>\n",
       "    </tr>\n",
       "    <tr>\n",
       "      <th>33979</th>\n",
       "      <td>Residential</td>\n",
       "      <td>3466.0</td>\n",
       "      <td>NaN</td>\n",
       "    </tr>\n",
       "    <tr>\n",
       "      <th>112120</th>\n",
       "      <td>Condominium</td>\n",
       "      <td>NaN</td>\n",
       "      <td>409.0</td>\n",
       "    </tr>\n",
       "  </tbody>\n",
       "</table>\n",
       "</div>"
      ],
      "text/plain": [
       "             SOURCE     GBA  LIVING_GBA\n",
       "index                                  \n",
       "2045    Residential  3879.0         NaN\n",
       "33979   Residential  3466.0         NaN\n",
       "112120  Condominium     NaN       409.0"
      ]
     },
     "execution_count": 11,
     "metadata": {},
     "output_type": "execute_result"
    }
   ],
   "source": [
    "x_train.loc[:,['SOURCE','GBA','LIVING_GBA']].sample(3, random_state=1)"
   ]
  },
  {
   "cell_type": "code",
   "execution_count": 12,
   "metadata": {},
   "outputs": [
    {
     "data": {
      "text/html": [
       "<div>\n",
       "<style scoped>\n",
       "    .dataframe tbody tr th:only-of-type {\n",
       "        vertical-align: middle;\n",
       "    }\n",
       "\n",
       "    .dataframe tbody tr th {\n",
       "        vertical-align: top;\n",
       "    }\n",
       "\n",
       "    .dataframe thead th {\n",
       "        text-align: right;\n",
       "    }\n",
       "</style>\n",
       "<table border=\"1\" class=\"dataframe\">\n",
       "  <thead>\n",
       "    <tr style=\"text-align: right;\">\n",
       "      <th></th>\n",
       "      <th>SOURCE</th>\n",
       "      <th>GBA</th>\n",
       "    </tr>\n",
       "    <tr>\n",
       "      <th>index</th>\n",
       "      <th></th>\n",
       "      <th></th>\n",
       "    </tr>\n",
       "  </thead>\n",
       "  <tbody>\n",
       "    <tr>\n",
       "      <th>2045</th>\n",
       "      <td>Residential</td>\n",
       "      <td>3879.0</td>\n",
       "    </tr>\n",
       "    <tr>\n",
       "      <th>33979</th>\n",
       "      <td>Residential</td>\n",
       "      <td>3466.0</td>\n",
       "    </tr>\n",
       "    <tr>\n",
       "      <th>112120</th>\n",
       "      <td>Condominium</td>\n",
       "      <td>409.0</td>\n",
       "    </tr>\n",
       "  </tbody>\n",
       "</table>\n",
       "</div>"
      ],
      "text/plain": [
       "             SOURCE     GBA\n",
       "index                      \n",
       "2045    Residential  3879.0\n",
       "33979   Residential  3466.0\n",
       "112120  Condominium   409.0"
      ]
     },
     "execution_count": 12,
     "metadata": {},
     "output_type": "execute_result"
    }
   ],
   "source": [
    "merge_columns = MergeColumns('GBA', 'LIVING_GBA')\n",
    "df_merge_columns = merge_columns.fit_transform(x_train)\n",
    "x_train.loc[:,['SOURCE','GBA']].sample(3, random_state=1)"
   ]
  },
  {
   "cell_type": "markdown",
   "metadata": {},
   "source": [
    "#### 2.3.2 Impute Values"
   ]
  },
  {
   "cell_type": "code",
   "execution_count": 13,
   "metadata": {},
   "outputs": [],
   "source": [
    "class ImputeValue(TransformerMixin):\n",
    "    def __init__(self, column, value):\n",
    "        self.column = column\n",
    "        self.value = value\n",
    "    \n",
    "    def fit(self, x, y= None):\n",
    "        return self\n",
    "    \n",
    "    def transform(self, x):\n",
    "        x[self.column].fillna(self.value, inplace=True)\n",
    "        \n",
    "        return x"
   ]
  },
  {
   "cell_type": "code",
   "execution_count": 14,
   "metadata": {},
   "outputs": [
    {
     "data": {
      "text/html": [
       "<div>\n",
       "<style scoped>\n",
       "    .dataframe tbody tr th:only-of-type {\n",
       "        vertical-align: middle;\n",
       "    }\n",
       "\n",
       "    .dataframe tbody tr th {\n",
       "        vertical-align: top;\n",
       "    }\n",
       "\n",
       "    .dataframe thead th {\n",
       "        text-align: right;\n",
       "    }\n",
       "</style>\n",
       "<table border=\"1\" class=\"dataframe\">\n",
       "  <thead>\n",
       "    <tr style=\"text-align: right;\">\n",
       "      <th></th>\n",
       "      <th>AYB</th>\n",
       "    </tr>\n",
       "    <tr>\n",
       "      <th>index</th>\n",
       "      <th></th>\n",
       "    </tr>\n",
       "  </thead>\n",
       "  <tbody>\n",
       "    <tr>\n",
       "      <th>86611</th>\n",
       "      <td>NaN</td>\n",
       "    </tr>\n",
       "    <tr>\n",
       "      <th>57303</th>\n",
       "      <td>NaN</td>\n",
       "    </tr>\n",
       "    <tr>\n",
       "      <th>61724</th>\n",
       "      <td>NaN</td>\n",
       "    </tr>\n",
       "  </tbody>\n",
       "</table>\n",
       "</div>"
      ],
      "text/plain": [
       "       AYB\n",
       "index     \n",
       "86611  NaN\n",
       "57303  NaN\n",
       "61724  NaN"
      ]
     },
     "execution_count": 14,
     "metadata": {},
     "output_type": "execute_result"
    }
   ],
   "source": [
    "x_train.loc[x_train['AYB'].isnull()].loc[:,['AYB']].head(3)"
   ]
  },
  {
   "cell_type": "code",
   "execution_count": 15,
   "metadata": {},
   "outputs": [
    {
     "data": {
      "text/html": [
       "<div>\n",
       "<style scoped>\n",
       "    .dataframe tbody tr th:only-of-type {\n",
       "        vertical-align: middle;\n",
       "    }\n",
       "\n",
       "    .dataframe tbody tr th {\n",
       "        vertical-align: top;\n",
       "    }\n",
       "\n",
       "    .dataframe thead th {\n",
       "        text-align: right;\n",
       "    }\n",
       "</style>\n",
       "<table border=\"1\" class=\"dataframe\">\n",
       "  <thead>\n",
       "    <tr style=\"text-align: right;\">\n",
       "      <th></th>\n",
       "      <th>AYB</th>\n",
       "    </tr>\n",
       "    <tr>\n",
       "      <th>index</th>\n",
       "      <th></th>\n",
       "    </tr>\n",
       "  </thead>\n",
       "  <tbody>\n",
       "  </tbody>\n",
       "</table>\n",
       "</div>"
      ],
      "text/plain": [
       "Empty DataFrame\n",
       "Columns: [AYB]\n",
       "Index: []"
      ]
     },
     "execution_count": 15,
     "metadata": {},
     "output_type": "execute_result"
    }
   ],
   "source": [
    "impute_ayb = ImputeValue('AYB', 1940)\n",
    "impute_ayb.fit_transform(x_train)\n",
    "x_train.loc[x_train['AYB'].isnull()].loc[:,['AYB']].head(3)"
   ]
  },
  {
   "cell_type": "markdown",
   "metadata": {},
   "source": [
    "#### 2.3.3 Convert Zero Values for AC into 'N'"
   ]
  },
  {
   "cell_type": "code",
   "execution_count": 16,
   "metadata": {},
   "outputs": [],
   "source": [
    "class ConvertZeroToN(TransformerMixin):\n",
    "    def __init__(self, column):\n",
    "        self.column = column\n",
    "    \n",
    "    def fit(self, x, y= None):\n",
    "        return self\n",
    "    \n",
    "    def transform(self, x):\n",
    "        x[self.column][x[self.column] == '0'] = 'N'\n",
    "        \n",
    "        return x"
   ]
  },
  {
   "cell_type": "code",
   "execution_count": 17,
   "metadata": {},
   "outputs": [
    {
     "data": {
      "text/html": [
       "<div>\n",
       "<style scoped>\n",
       "    .dataframe tbody tr th:only-of-type {\n",
       "        vertical-align: middle;\n",
       "    }\n",
       "\n",
       "    .dataframe tbody tr th {\n",
       "        vertical-align: top;\n",
       "    }\n",
       "\n",
       "    .dataframe thead th {\n",
       "        text-align: right;\n",
       "    }\n",
       "</style>\n",
       "<table border=\"1\" class=\"dataframe\">\n",
       "  <thead>\n",
       "    <tr style=\"text-align: right;\">\n",
       "      <th></th>\n",
       "      <th>AC</th>\n",
       "    </tr>\n",
       "    <tr>\n",
       "      <th>index</th>\n",
       "      <th></th>\n",
       "    </tr>\n",
       "  </thead>\n",
       "  <tbody>\n",
       "    <tr>\n",
       "      <th>138953</th>\n",
       "      <td>0</td>\n",
       "    </tr>\n",
       "    <tr>\n",
       "      <th>8465</th>\n",
       "      <td>0</td>\n",
       "    </tr>\n",
       "    <tr>\n",
       "      <th>104206</th>\n",
       "      <td>0</td>\n",
       "    </tr>\n",
       "  </tbody>\n",
       "</table>\n",
       "</div>"
      ],
      "text/plain": [
       "       AC\n",
       "index    \n",
       "138953  0\n",
       "8465    0\n",
       "104206  0"
      ]
     },
     "execution_count": 17,
     "metadata": {},
     "output_type": "execute_result"
    }
   ],
   "source": [
    "x_train.loc[x_train['AC'] == '0'].loc[:,['AC']].head(3)"
   ]
  },
  {
   "cell_type": "code",
   "execution_count": 18,
   "metadata": {},
   "outputs": [
    {
     "data": {
      "text/html": [
       "<div>\n",
       "<style scoped>\n",
       "    .dataframe tbody tr th:only-of-type {\n",
       "        vertical-align: middle;\n",
       "    }\n",
       "\n",
       "    .dataframe tbody tr th {\n",
       "        vertical-align: top;\n",
       "    }\n",
       "\n",
       "    .dataframe thead th {\n",
       "        text-align: right;\n",
       "    }\n",
       "</style>\n",
       "<table border=\"1\" class=\"dataframe\">\n",
       "  <thead>\n",
       "    <tr style=\"text-align: right;\">\n",
       "      <th></th>\n",
       "      <th>AC</th>\n",
       "    </tr>\n",
       "    <tr>\n",
       "      <th>index</th>\n",
       "      <th></th>\n",
       "    </tr>\n",
       "  </thead>\n",
       "  <tbody>\n",
       "  </tbody>\n",
       "</table>\n",
       "</div>"
      ],
      "text/plain": [
       "Empty DataFrame\n",
       "Columns: [AC]\n",
       "Index: []"
      ]
     },
     "execution_count": 18,
     "metadata": {},
     "output_type": "execute_result"
    }
   ],
   "source": [
    "convert_zero_to_n = ConvertZeroToN('AC')\n",
    "convert_zero_to_n.fit_transform(x_train)\n",
    "x_train.loc[x_train['AC'] == '0'].loc[:,['AC']].head(3)"
   ]
  },
  {
   "cell_type": "markdown",
   "metadata": {},
   "source": [
    "#### 2.3.4 Convert Data from String to Year"
   ]
  },
  {
   "cell_type": "code",
   "execution_count": 19,
   "metadata": {},
   "outputs": [],
   "source": [
    "class ConvertStringDateToYear(TransformerMixin):\n",
    "    def __init__(self, column):\n",
    "        self.column = column\n",
    "    \n",
    "    def fit(self, x, y= None):\n",
    "        return self\n",
    "    \n",
    "    def transform(self, x):\n",
    "        x[self.column] = pd.to_datetime(x[self.column], format='%Y-%m-%d', errors='coerce')\n",
    "        x['YEAR'] = x[self.column].dt.year\n",
    "        \n",
    "        return x       "
   ]
  },
  {
   "cell_type": "code",
   "execution_count": 20,
   "metadata": {},
   "outputs": [
    {
     "data": {
      "text/html": [
       "<div>\n",
       "<style scoped>\n",
       "    .dataframe tbody tr th:only-of-type {\n",
       "        vertical-align: middle;\n",
       "    }\n",
       "\n",
       "    .dataframe tbody tr th {\n",
       "        vertical-align: top;\n",
       "    }\n",
       "\n",
       "    .dataframe thead th {\n",
       "        text-align: right;\n",
       "    }\n",
       "</style>\n",
       "<table border=\"1\" class=\"dataframe\">\n",
       "  <thead>\n",
       "    <tr style=\"text-align: right;\">\n",
       "      <th></th>\n",
       "      <th>YEAR</th>\n",
       "    </tr>\n",
       "    <tr>\n",
       "      <th>index</th>\n",
       "      <th></th>\n",
       "    </tr>\n",
       "  </thead>\n",
       "  <tbody>\n",
       "    <tr>\n",
       "      <th>144430</th>\n",
       "      <td>2000.0</td>\n",
       "    </tr>\n",
       "    <tr>\n",
       "      <th>62281</th>\n",
       "      <td>2010.0</td>\n",
       "    </tr>\n",
       "    <tr>\n",
       "      <th>2366</th>\n",
       "      <td>2012.0</td>\n",
       "    </tr>\n",
       "  </tbody>\n",
       "</table>\n",
       "</div>"
      ],
      "text/plain": [
       "          YEAR\n",
       "index         \n",
       "144430  2000.0\n",
       "62281   2010.0\n",
       "2366    2012.0"
      ]
     },
     "execution_count": 20,
     "metadata": {},
     "output_type": "execute_result"
    }
   ],
   "source": [
    "convert_string_date_to_year = ConvertStringDateToYear('SALEDATE')\n",
    "convert_string_date_to_year.fit_transform(x_train)\n",
    "x_train.loc[:,['YEAR']].head(3)"
   ]
  },
  {
   "cell_type": "code",
   "execution_count": 21,
   "metadata": {},
   "outputs": [
    {
     "data": {
      "text/html": [
       "<div>\n",
       "<style scoped>\n",
       "    .dataframe tbody tr th:only-of-type {\n",
       "        vertical-align: middle;\n",
       "    }\n",
       "\n",
       "    .dataframe tbody tr th {\n",
       "        vertical-align: top;\n",
       "    }\n",
       "\n",
       "    .dataframe thead th {\n",
       "        text-align: right;\n",
       "    }\n",
       "</style>\n",
       "<table border=\"1\" class=\"dataframe\">\n",
       "  <thead>\n",
       "    <tr style=\"text-align: right;\">\n",
       "      <th></th>\n",
       "      <th>YEAR</th>\n",
       "    </tr>\n",
       "    <tr>\n",
       "      <th>index</th>\n",
       "      <th></th>\n",
       "    </tr>\n",
       "  </thead>\n",
       "  <tbody>\n",
       "    <tr>\n",
       "      <th>94768</th>\n",
       "      <td>NaN</td>\n",
       "    </tr>\n",
       "  </tbody>\n",
       "</table>\n",
       "</div>"
      ],
      "text/plain": [
       "       YEAR\n",
       "index      \n",
       "94768   NaN"
      ]
     },
     "execution_count": 21,
     "metadata": {},
     "output_type": "execute_result"
    }
   ],
   "source": [
    "x_train.loc[x_train['YEAR'].isnull()].loc[:,['YEAR']].head(3)"
   ]
  },
  {
   "cell_type": "code",
   "execution_count": 22,
   "metadata": {},
   "outputs": [
    {
     "data": {
      "text/html": [
       "<div>\n",
       "<style scoped>\n",
       "    .dataframe tbody tr th:only-of-type {\n",
       "        vertical-align: middle;\n",
       "    }\n",
       "\n",
       "    .dataframe tbody tr th {\n",
       "        vertical-align: top;\n",
       "    }\n",
       "\n",
       "    .dataframe thead th {\n",
       "        text-align: right;\n",
       "    }\n",
       "</style>\n",
       "<table border=\"1\" class=\"dataframe\">\n",
       "  <thead>\n",
       "    <tr style=\"text-align: right;\">\n",
       "      <th></th>\n",
       "      <th>YEAR</th>\n",
       "    </tr>\n",
       "    <tr>\n",
       "      <th>index</th>\n",
       "      <th></th>\n",
       "    </tr>\n",
       "  </thead>\n",
       "  <tbody>\n",
       "  </tbody>\n",
       "</table>\n",
       "</div>"
      ],
      "text/plain": [
       "Empty DataFrame\n",
       "Columns: [YEAR]\n",
       "Index: []"
      ]
     },
     "execution_count": 22,
     "metadata": {},
     "output_type": "execute_result"
    }
   ],
   "source": [
    "impute_ayb = ImputeValue('YEAR', 2004)\n",
    "impute_ayb.fit_transform(x_train)\n",
    "x_train.loc[x_train['YEAR'].isnull()].loc[:,['YEAR']].head(3)"
   ]
  },
  {
   "cell_type": "markdown",
   "metadata": {},
   "source": [
    "#### 2.3.5 Select Numeric Columns"
   ]
  },
  {
   "cell_type": "code",
   "execution_count": 23,
   "metadata": {},
   "outputs": [],
   "source": [
    "class ColumnSelector(BaseEstimator, TransformerMixin):\n",
    "    def __init__(self, columns):\n",
    "        self.columns = columns\n",
    "    \n",
    "    def fit(self, x, y = None):\n",
    "        return self\n",
    "    \n",
    "    def transform(self, x):\n",
    "        return x.loc[:, self.columns]"
   ]
  },
  {
   "cell_type": "markdown",
   "metadata": {},
   "source": [
    "Test scaling for numeric columns:"
   ]
  },
  {
   "cell_type": "code",
   "execution_count": 24,
   "metadata": {},
   "outputs": [
    {
     "data": {
      "text/html": [
       "<div>\n",
       "<style scoped>\n",
       "    .dataframe tbody tr th:only-of-type {\n",
       "        vertical-align: middle;\n",
       "    }\n",
       "\n",
       "    .dataframe tbody tr th {\n",
       "        vertical-align: top;\n",
       "    }\n",
       "\n",
       "    .dataframe thead th {\n",
       "        text-align: right;\n",
       "    }\n",
       "</style>\n",
       "<table border=\"1\" class=\"dataframe\">\n",
       "  <thead>\n",
       "    <tr style=\"text-align: right;\">\n",
       "      <th></th>\n",
       "      <th>BATHRM</th>\n",
       "      <th>HF_BATHRM</th>\n",
       "      <th>ROOMS</th>\n",
       "      <th>BEDRM</th>\n",
       "      <th>FIREPLACES</th>\n",
       "      <th>YEAR</th>\n",
       "      <th>AYB</th>\n",
       "      <th>EYB</th>\n",
       "      <th>GBA</th>\n",
       "      <th>LANDAREA</th>\n",
       "    </tr>\n",
       "    <tr>\n",
       "      <th>index</th>\n",
       "      <th></th>\n",
       "      <th></th>\n",
       "      <th></th>\n",
       "      <th></th>\n",
       "      <th></th>\n",
       "      <th></th>\n",
       "      <th></th>\n",
       "      <th></th>\n",
       "      <th></th>\n",
       "      <th></th>\n",
       "    </tr>\n",
       "  </thead>\n",
       "  <tbody>\n",
       "    <tr>\n",
       "      <th>144430</th>\n",
       "      <td>2</td>\n",
       "      <td>0</td>\n",
       "      <td>4</td>\n",
       "      <td>2</td>\n",
       "      <td>0</td>\n",
       "      <td>2000.0</td>\n",
       "      <td>2000.0</td>\n",
       "      <td>2000</td>\n",
       "      <td>822.0</td>\n",
       "      <td>1095</td>\n",
       "    </tr>\n",
       "    <tr>\n",
       "      <th>62281</th>\n",
       "      <td>2</td>\n",
       "      <td>1</td>\n",
       "      <td>6</td>\n",
       "      <td>3</td>\n",
       "      <td>0</td>\n",
       "      <td>2010.0</td>\n",
       "      <td>1925.0</td>\n",
       "      <td>1964</td>\n",
       "      <td>1558.0</td>\n",
       "      <td>1643</td>\n",
       "    </tr>\n",
       "    <tr>\n",
       "      <th>2366</th>\n",
       "      <td>1</td>\n",
       "      <td>0</td>\n",
       "      <td>4</td>\n",
       "      <td>2</td>\n",
       "      <td>1</td>\n",
       "      <td>2012.0</td>\n",
       "      <td>1953.0</td>\n",
       "      <td>1962</td>\n",
       "      <td>702.0</td>\n",
       "      <td>609</td>\n",
       "    </tr>\n",
       "  </tbody>\n",
       "</table>\n",
       "</div>"
      ],
      "text/plain": [
       "        BATHRM  HF_BATHRM  ROOMS  BEDRM  FIREPLACES    YEAR     AYB   EYB  \\\n",
       "index                                                                       \n",
       "144430       2          0      4      2           0  2000.0  2000.0  2000   \n",
       "62281        2          1      6      3           0  2010.0  1925.0  1964   \n",
       "2366         1          0      4      2           1  2012.0  1953.0  1962   \n",
       "\n",
       "           GBA  LANDAREA  \n",
       "index                     \n",
       "144430   822.0      1095  \n",
       "62281   1558.0      1643  \n",
       "2366     702.0       609  "
      ]
     },
     "execution_count": 24,
     "metadata": {},
     "output_type": "execute_result"
    }
   ],
   "source": [
    "col_sel_num = ColumnSelector(cols_num)\n",
    "x_train_num = col_sel_num.fit_transform(x_train)\n",
    "x_train_num.head(3)"
   ]
  },
  {
   "cell_type": "code",
   "execution_count": 25,
   "metadata": {},
   "outputs": [],
   "source": [
    "#scaler = StandardScaler()\n",
    "#x_train_num_np = scaler.fit_transform(x_train_num)\n",
    "\n",
    "#x_train_num = pd.DataFrame(x_train_num_np, index=x_train_num.index, columns=x_train_num.columns)\n",
    "\n",
    "#x_train_num.head(3)"
   ]
  },
  {
   "cell_type": "markdown",
   "metadata": {},
   "source": [
    "#### 2.3.6 Encode Ordinal Columns"
   ]
  },
  {
   "cell_type": "code",
   "execution_count": 26,
   "metadata": {},
   "outputs": [
    {
     "data": {
      "text/html": [
       "<div>\n",
       "<style scoped>\n",
       "    .dataframe tbody tr th:only-of-type {\n",
       "        vertical-align: middle;\n",
       "    }\n",
       "\n",
       "    .dataframe tbody tr th {\n",
       "        vertical-align: top;\n",
       "    }\n",
       "\n",
       "    .dataframe thead th {\n",
       "        text-align: right;\n",
       "    }\n",
       "</style>\n",
       "<table border=\"1\" class=\"dataframe\">\n",
       "  <thead>\n",
       "    <tr style=\"text-align: right;\">\n",
       "      <th></th>\n",
       "      <th>GRADE</th>\n",
       "      <th>HEAT</th>\n",
       "      <th>ZIPCODE</th>\n",
       "      <th>ASSESSMENT_NBHD</th>\n",
       "      <th>CENSUS_TRACT</th>\n",
       "    </tr>\n",
       "    <tr>\n",
       "      <th>index</th>\n",
       "      <th></th>\n",
       "      <th></th>\n",
       "      <th></th>\n",
       "      <th></th>\n",
       "      <th></th>\n",
       "    </tr>\n",
       "  </thead>\n",
       "  <tbody>\n",
       "    <tr>\n",
       "      <th>144430</th>\n",
       "      <td>NaN</td>\n",
       "      <td>Ht Pump</td>\n",
       "      <td>20012.0</td>\n",
       "      <td>Brightwood</td>\n",
       "      <td>1702.0</td>\n",
       "    </tr>\n",
       "    <tr>\n",
       "      <th>62281</th>\n",
       "      <td>Average</td>\n",
       "      <td>Forced Air</td>\n",
       "      <td>20002.0</td>\n",
       "      <td>Eckington</td>\n",
       "      <td>8701.0</td>\n",
       "    </tr>\n",
       "    <tr>\n",
       "      <th>2366</th>\n",
       "      <td>Average</td>\n",
       "      <td>Warm Cool</td>\n",
       "      <td>20037.0</td>\n",
       "      <td>Foggy Bottom</td>\n",
       "      <td>5600.0</td>\n",
       "    </tr>\n",
       "  </tbody>\n",
       "</table>\n",
       "</div>"
      ],
      "text/plain": [
       "          GRADE        HEAT  ZIPCODE ASSESSMENT_NBHD  CENSUS_TRACT\n",
       "index                                                             \n",
       "144430      NaN     Ht Pump  20012.0      Brightwood        1702.0\n",
       "62281   Average  Forced Air  20002.0       Eckington        8701.0\n",
       "2366    Average   Warm Cool  20037.0    Foggy Bottom        5600.0"
      ]
     },
     "execution_count": 26,
     "metadata": {},
     "output_type": "execute_result"
    }
   ],
   "source": [
    "col_sel_ord = ColumnSelector(cols_ord)\n",
    "x_train_ord = col_sel_ord.fit_transform(x_train)\n",
    "x_train_ord.head(3)"
   ]
  },
  {
   "cell_type": "code",
   "execution_count": 27,
   "metadata": {},
   "outputs": [
    {
     "data": {
      "text/html": [
       "<div>\n",
       "<style scoped>\n",
       "    .dataframe tbody tr th:only-of-type {\n",
       "        vertical-align: middle;\n",
       "    }\n",
       "\n",
       "    .dataframe tbody tr th {\n",
       "        vertical-align: top;\n",
       "    }\n",
       "\n",
       "    .dataframe thead th {\n",
       "        text-align: right;\n",
       "    }\n",
       "</style>\n",
       "<table border=\"1\" class=\"dataframe\">\n",
       "  <thead>\n",
       "    <tr style=\"text-align: right;\">\n",
       "      <th></th>\n",
       "      <th>GRADE</th>\n",
       "      <th>HEAT</th>\n",
       "      <th>ZIPCODE</th>\n",
       "      <th>ASSESSMENT_NBHD</th>\n",
       "      <th>CENSUS_TRACT</th>\n",
       "    </tr>\n",
       "    <tr>\n",
       "      <th>index</th>\n",
       "      <th></th>\n",
       "      <th></th>\n",
       "      <th></th>\n",
       "      <th></th>\n",
       "      <th></th>\n",
       "    </tr>\n",
       "  </thead>\n",
       "  <tbody>\n",
       "    <tr>\n",
       "      <th>144430</th>\n",
       "      <td>1</td>\n",
       "      <td>1</td>\n",
       "      <td>20012.0</td>\n",
       "      <td>1</td>\n",
       "      <td>1702.0</td>\n",
       "    </tr>\n",
       "    <tr>\n",
       "      <th>62281</th>\n",
       "      <td>2</td>\n",
       "      <td>2</td>\n",
       "      <td>20002.0</td>\n",
       "      <td>2</td>\n",
       "      <td>8701.0</td>\n",
       "    </tr>\n",
       "    <tr>\n",
       "      <th>2366</th>\n",
       "      <td>2</td>\n",
       "      <td>3</td>\n",
       "      <td>20037.0</td>\n",
       "      <td>3</td>\n",
       "      <td>5600.0</td>\n",
       "    </tr>\n",
       "  </tbody>\n",
       "</table>\n",
       "</div>"
      ],
      "text/plain": [
       "        GRADE  HEAT  ZIPCODE  ASSESSMENT_NBHD  CENSUS_TRACT\n",
       "index                                                      \n",
       "144430      1     1  20012.0                1        1702.0\n",
       "62281       2     2  20002.0                2        8701.0\n",
       "2366        2     3  20037.0                3        5600.0"
      ]
     },
     "execution_count": 27,
     "metadata": {},
     "output_type": "execute_result"
    }
   ],
   "source": [
    "mapping_ord = [{'col': 'GRADE','mapping': [(False, 0),\n",
    "                                       ('Low Quality', 1),\n",
    "                                       ('Fair Quality', 2),\n",
    "                                       ('Average', 3),\n",
    "                                       ('Above Average', 4),\n",
    "                                       ('Good Quality', 5),\n",
    "                                       ('Very Good', 6),\n",
    "                                       ('Excellent', 7),\n",
    "                                       ('Superior', 8),\n",
    "                                       ('Exceptional-A', 9),\n",
    "                                       ('Exceptional-B', 10),\n",
    "                                       ('No Data', 11),\n",
    "                                       ('Exceptional-D', 12),\n",
    "                                       ('Exceptional-C', 13)]}]\n",
    "#ord_encoder = OrdinalEncoder(cols=['GRADE'], mapping=mapping_ord) # this would probably help for non RF estimators. Let's check.\n",
    "#x_train_ord = ord_encoder.fit_transform(x_train_ord)\n",
    "\n",
    "ord_encoder = OrdinalEncoder()\n",
    "x_train_ord = ord_encoder.fit_transform(x_train_ord)\n",
    "\n",
    "x_train_ord.head(3)"
   ]
  },
  {
   "cell_type": "markdown",
   "metadata": {},
   "source": [
    "#### 2.3.7 One-Hot-Encode Categorical Columns"
   ]
  },
  {
   "cell_type": "code",
   "execution_count": 28,
   "metadata": {},
   "outputs": [
    {
     "data": {
      "text/html": [
       "<div>\n",
       "<style scoped>\n",
       "    .dataframe tbody tr th:only-of-type {\n",
       "        vertical-align: middle;\n",
       "    }\n",
       "\n",
       "    .dataframe tbody tr th {\n",
       "        vertical-align: top;\n",
       "    }\n",
       "\n",
       "    .dataframe thead th {\n",
       "        text-align: right;\n",
       "    }\n",
       "</style>\n",
       "<table border=\"1\" class=\"dataframe\">\n",
       "  <thead>\n",
       "    <tr style=\"text-align: right;\">\n",
       "      <th></th>\n",
       "      <th>AC</th>\n",
       "      <th>SOURCE</th>\n",
       "      <th>QUALIFIED</th>\n",
       "    </tr>\n",
       "    <tr>\n",
       "      <th>index</th>\n",
       "      <th></th>\n",
       "      <th></th>\n",
       "      <th></th>\n",
       "    </tr>\n",
       "  </thead>\n",
       "  <tbody>\n",
       "    <tr>\n",
       "      <th>144430</th>\n",
       "      <td>Y</td>\n",
       "      <td>Condominium</td>\n",
       "      <td>Q</td>\n",
       "    </tr>\n",
       "    <tr>\n",
       "      <th>62281</th>\n",
       "      <td>Y</td>\n",
       "      <td>Residential</td>\n",
       "      <td>Q</td>\n",
       "    </tr>\n",
       "    <tr>\n",
       "      <th>2366</th>\n",
       "      <td>Y</td>\n",
       "      <td>Residential</td>\n",
       "      <td>Q</td>\n",
       "    </tr>\n",
       "  </tbody>\n",
       "</table>\n",
       "</div>"
      ],
      "text/plain": [
       "       AC       SOURCE QUALIFIED\n",
       "index                           \n",
       "144430  Y  Condominium         Q\n",
       "62281   Y  Residential         Q\n",
       "2366    Y  Residential         Q"
      ]
     },
     "execution_count": 28,
     "metadata": {},
     "output_type": "execute_result"
    }
   ],
   "source": [
    "col_sel_cat = ColumnSelector(cols_cat)\n",
    "x_train_cat = col_sel_cat.fit_transform(x_train)\n",
    "x_train_cat.head(3)"
   ]
  },
  {
   "cell_type": "code",
   "execution_count": 29,
   "metadata": {
    "scrolled": true
   },
   "outputs": [
    {
     "data": {
      "text/html": [
       "<div>\n",
       "<style scoped>\n",
       "    .dataframe tbody tr th:only-of-type {\n",
       "        vertical-align: middle;\n",
       "    }\n",
       "\n",
       "    .dataframe tbody tr th {\n",
       "        vertical-align: top;\n",
       "    }\n",
       "\n",
       "    .dataframe thead th {\n",
       "        text-align: right;\n",
       "    }\n",
       "</style>\n",
       "<table border=\"1\" class=\"dataframe\">\n",
       "  <thead>\n",
       "    <tr style=\"text-align: right;\">\n",
       "      <th></th>\n",
       "      <th>AC_1</th>\n",
       "      <th>AC_2</th>\n",
       "      <th>SOURCE_1</th>\n",
       "      <th>SOURCE_2</th>\n",
       "      <th>QUALIFIED_1</th>\n",
       "      <th>QUALIFIED_2</th>\n",
       "    </tr>\n",
       "    <tr>\n",
       "      <th>index</th>\n",
       "      <th></th>\n",
       "      <th></th>\n",
       "      <th></th>\n",
       "      <th></th>\n",
       "      <th></th>\n",
       "      <th></th>\n",
       "    </tr>\n",
       "  </thead>\n",
       "  <tbody>\n",
       "    <tr>\n",
       "      <th>144430</th>\n",
       "      <td>1</td>\n",
       "      <td>0</td>\n",
       "      <td>1</td>\n",
       "      <td>0</td>\n",
       "      <td>1</td>\n",
       "      <td>0</td>\n",
       "    </tr>\n",
       "    <tr>\n",
       "      <th>62281</th>\n",
       "      <td>1</td>\n",
       "      <td>0</td>\n",
       "      <td>0</td>\n",
       "      <td>1</td>\n",
       "      <td>1</td>\n",
       "      <td>0</td>\n",
       "    </tr>\n",
       "    <tr>\n",
       "      <th>2366</th>\n",
       "      <td>1</td>\n",
       "      <td>0</td>\n",
       "      <td>0</td>\n",
       "      <td>1</td>\n",
       "      <td>1</td>\n",
       "      <td>0</td>\n",
       "    </tr>\n",
       "  </tbody>\n",
       "</table>\n",
       "</div>"
      ],
      "text/plain": [
       "        AC_1  AC_2  SOURCE_1  SOURCE_2  QUALIFIED_1  QUALIFIED_2\n",
       "index                                                           \n",
       "144430     1     0         1         0            1            0\n",
       "62281      1     0         0         1            1            0\n",
       "2366       1     0         0         1            1            0"
      ]
     },
     "execution_count": 29,
     "metadata": {},
     "output_type": "execute_result"
    }
   ],
   "source": [
    "one_hot_encoder = OneHotEncoder(drop_invariant=True)\n",
    "x_train_cat = one_hot_encoder.fit_transform(x_train_cat)\n",
    "x_train_cat.head(3)"
   ]
  },
  {
   "cell_type": "markdown",
   "metadata": {},
   "source": [
    "#### 2.3.8 Union Columns and Check for Missing Values"
   ]
  },
  {
   "cell_type": "code",
   "execution_count": 30,
   "metadata": {},
   "outputs": [],
   "source": [
    "x_train = pd.concat([x_train_num, x_train_ord, x_train_cat], axis=1, sort=False)"
   ]
  },
  {
   "cell_type": "code",
   "execution_count": 31,
   "metadata": {},
   "outputs": [
    {
     "data": {
      "text/plain": [
       "BATHRM             False\n",
       "HF_BATHRM          False\n",
       "ROOMS              False\n",
       "BEDRM              False\n",
       "FIREPLACES         False\n",
       "YEAR               False\n",
       "AYB                False\n",
       "EYB                False\n",
       "GBA                False\n",
       "LANDAREA           False\n",
       "GRADE              False\n",
       "HEAT               False\n",
       "ZIPCODE            False\n",
       "ASSESSMENT_NBHD    False\n",
       "CENSUS_TRACT       False\n",
       "AC_1               False\n",
       "AC_2               False\n",
       "SOURCE_1           False\n",
       "SOURCE_2           False\n",
       "QUALIFIED_1        False\n",
       "QUALIFIED_2        False\n",
       "dtype: bool"
      ]
     },
     "execution_count": 31,
     "metadata": {},
     "output_type": "execute_result"
    }
   ],
   "source": [
    "x_train.isnull().any()"
   ]
  },
  {
   "cell_type": "code",
   "execution_count": 32,
   "metadata": {},
   "outputs": [
    {
     "data": {
      "text/html": [
       "<div>\n",
       "<style scoped>\n",
       "    .dataframe tbody tr th:only-of-type {\n",
       "        vertical-align: middle;\n",
       "    }\n",
       "\n",
       "    .dataframe tbody tr th {\n",
       "        vertical-align: top;\n",
       "    }\n",
       "\n",
       "    .dataframe thead th {\n",
       "        text-align: right;\n",
       "    }\n",
       "</style>\n",
       "<table border=\"1\" class=\"dataframe\">\n",
       "  <thead>\n",
       "    <tr style=\"text-align: right;\">\n",
       "      <th></th>\n",
       "      <th>BATHRM</th>\n",
       "      <th>HF_BATHRM</th>\n",
       "      <th>ROOMS</th>\n",
       "      <th>BEDRM</th>\n",
       "      <th>FIREPLACES</th>\n",
       "      <th>YEAR</th>\n",
       "      <th>AYB</th>\n",
       "      <th>EYB</th>\n",
       "      <th>GBA</th>\n",
       "      <th>LANDAREA</th>\n",
       "      <th>...</th>\n",
       "      <th>HEAT</th>\n",
       "      <th>ZIPCODE</th>\n",
       "      <th>ASSESSMENT_NBHD</th>\n",
       "      <th>CENSUS_TRACT</th>\n",
       "      <th>AC_1</th>\n",
       "      <th>AC_2</th>\n",
       "      <th>SOURCE_1</th>\n",
       "      <th>SOURCE_2</th>\n",
       "      <th>QUALIFIED_1</th>\n",
       "      <th>QUALIFIED_2</th>\n",
       "    </tr>\n",
       "    <tr>\n",
       "      <th>index</th>\n",
       "      <th></th>\n",
       "      <th></th>\n",
       "      <th></th>\n",
       "      <th></th>\n",
       "      <th></th>\n",
       "      <th></th>\n",
       "      <th></th>\n",
       "      <th></th>\n",
       "      <th></th>\n",
       "      <th></th>\n",
       "      <th></th>\n",
       "      <th></th>\n",
       "      <th></th>\n",
       "      <th></th>\n",
       "      <th></th>\n",
       "      <th></th>\n",
       "      <th></th>\n",
       "      <th></th>\n",
       "      <th></th>\n",
       "      <th></th>\n",
       "      <th></th>\n",
       "    </tr>\n",
       "  </thead>\n",
       "  <tbody>\n",
       "    <tr>\n",
       "      <th>144430</th>\n",
       "      <td>2</td>\n",
       "      <td>0</td>\n",
       "      <td>4</td>\n",
       "      <td>2</td>\n",
       "      <td>0</td>\n",
       "      <td>2000.0</td>\n",
       "      <td>2000.0</td>\n",
       "      <td>2000</td>\n",
       "      <td>822.0</td>\n",
       "      <td>1095</td>\n",
       "      <td>...</td>\n",
       "      <td>1</td>\n",
       "      <td>20012.0</td>\n",
       "      <td>1</td>\n",
       "      <td>1702.0</td>\n",
       "      <td>1</td>\n",
       "      <td>0</td>\n",
       "      <td>1</td>\n",
       "      <td>0</td>\n",
       "      <td>1</td>\n",
       "      <td>0</td>\n",
       "    </tr>\n",
       "    <tr>\n",
       "      <th>62281</th>\n",
       "      <td>2</td>\n",
       "      <td>1</td>\n",
       "      <td>6</td>\n",
       "      <td>3</td>\n",
       "      <td>0</td>\n",
       "      <td>2010.0</td>\n",
       "      <td>1925.0</td>\n",
       "      <td>1964</td>\n",
       "      <td>1558.0</td>\n",
       "      <td>1643</td>\n",
       "      <td>...</td>\n",
       "      <td>2</td>\n",
       "      <td>20002.0</td>\n",
       "      <td>2</td>\n",
       "      <td>8701.0</td>\n",
       "      <td>1</td>\n",
       "      <td>0</td>\n",
       "      <td>0</td>\n",
       "      <td>1</td>\n",
       "      <td>1</td>\n",
       "      <td>0</td>\n",
       "    </tr>\n",
       "    <tr>\n",
       "      <th>2366</th>\n",
       "      <td>1</td>\n",
       "      <td>0</td>\n",
       "      <td>4</td>\n",
       "      <td>2</td>\n",
       "      <td>1</td>\n",
       "      <td>2012.0</td>\n",
       "      <td>1953.0</td>\n",
       "      <td>1962</td>\n",
       "      <td>702.0</td>\n",
       "      <td>609</td>\n",
       "      <td>...</td>\n",
       "      <td>3</td>\n",
       "      <td>20037.0</td>\n",
       "      <td>3</td>\n",
       "      <td>5600.0</td>\n",
       "      <td>1</td>\n",
       "      <td>0</td>\n",
       "      <td>0</td>\n",
       "      <td>1</td>\n",
       "      <td>1</td>\n",
       "      <td>0</td>\n",
       "    </tr>\n",
       "    <tr>\n",
       "      <th>53410</th>\n",
       "      <td>2</td>\n",
       "      <td>0</td>\n",
       "      <td>6</td>\n",
       "      <td>3</td>\n",
       "      <td>0</td>\n",
       "      <td>2005.0</td>\n",
       "      <td>1914.0</td>\n",
       "      <td>1957</td>\n",
       "      <td>1545.0</td>\n",
       "      <td>1873</td>\n",
       "      <td>...</td>\n",
       "      <td>4</td>\n",
       "      <td>20001.0</td>\n",
       "      <td>2</td>\n",
       "      <td>3400.0</td>\n",
       "      <td>0</td>\n",
       "      <td>1</td>\n",
       "      <td>0</td>\n",
       "      <td>1</td>\n",
       "      <td>0</td>\n",
       "      <td>1</td>\n",
       "    </tr>\n",
       "    <tr>\n",
       "      <th>40380</th>\n",
       "      <td>4</td>\n",
       "      <td>0</td>\n",
       "      <td>7</td>\n",
       "      <td>4</td>\n",
       "      <td>1</td>\n",
       "      <td>2013.0</td>\n",
       "      <td>1951.0</td>\n",
       "      <td>1975</td>\n",
       "      <td>3193.0</td>\n",
       "      <td>11500</td>\n",
       "      <td>...</td>\n",
       "      <td>2</td>\n",
       "      <td>20015.0</td>\n",
       "      <td>4</td>\n",
       "      <td>1500.0</td>\n",
       "      <td>1</td>\n",
       "      <td>0</td>\n",
       "      <td>0</td>\n",
       "      <td>1</td>\n",
       "      <td>1</td>\n",
       "      <td>0</td>\n",
       "    </tr>\n",
       "  </tbody>\n",
       "</table>\n",
       "<p>5 rows × 21 columns</p>\n",
       "</div>"
      ],
      "text/plain": [
       "        BATHRM  HF_BATHRM  ROOMS  BEDRM  FIREPLACES    YEAR     AYB   EYB  \\\n",
       "index                                                                       \n",
       "144430       2          0      4      2           0  2000.0  2000.0  2000   \n",
       "62281        2          1      6      3           0  2010.0  1925.0  1964   \n",
       "2366         1          0      4      2           1  2012.0  1953.0  1962   \n",
       "53410        2          0      6      3           0  2005.0  1914.0  1957   \n",
       "40380        4          0      7      4           1  2013.0  1951.0  1975   \n",
       "\n",
       "           GBA  LANDAREA     ...       HEAT  ZIPCODE  ASSESSMENT_NBHD  \\\n",
       "index                        ...                                        \n",
       "144430   822.0      1095     ...          1  20012.0                1   \n",
       "62281   1558.0      1643     ...          2  20002.0                2   \n",
       "2366     702.0       609     ...          3  20037.0                3   \n",
       "53410   1545.0      1873     ...          4  20001.0                2   \n",
       "40380   3193.0     11500     ...          2  20015.0                4   \n",
       "\n",
       "        CENSUS_TRACT  AC_1  AC_2  SOURCE_1  SOURCE_2  QUALIFIED_1  QUALIFIED_2  \n",
       "index                                                                           \n",
       "144430        1702.0     1     0         1         0            1            0  \n",
       "62281         8701.0     1     0         0         1            1            0  \n",
       "2366          5600.0     1     0         0         1            1            0  \n",
       "53410         3400.0     0     1         0         1            0            1  \n",
       "40380         1500.0     1     0         0         1            1            0  \n",
       "\n",
       "[5 rows x 21 columns]"
      ]
     },
     "execution_count": 32,
     "metadata": {},
     "output_type": "execute_result"
    }
   ],
   "source": [
    "x_train.head()"
   ]
  },
  {
   "cell_type": "markdown",
   "metadata": {},
   "source": [
    "The data cleaning all seems to work fine and removes our null values. In a later step we also should write unit tests to make sure they work fine."
   ]
  },
  {
   "cell_type": "markdown",
   "metadata": {},
   "source": [
    "### 2.4 Load Data and Define Pipeline"
   ]
  },
  {
   "cell_type": "markdown",
   "metadata": {},
   "source": [
    "We need to reset ```x_train``` and ```y_train``` in order for them being used in the pipeline. Let's set up the transformation pipeline using the classes we defined above. "
   ]
  },
  {
   "cell_type": "code",
   "execution_count": 33,
   "metadata": {},
   "outputs": [],
   "source": [
    "x_train, x_test, y_train, y_test = train_test_split(df.drop('PRICE', axis=1), \n",
    "                                                    df.loc[:,['PRICE']],\n",
    "                                                    test_size=0.2,\n",
    "                                                    random_state=5)"
   ]
  },
  {
   "cell_type": "code",
   "execution_count": 34,
   "metadata": {},
   "outputs": [],
   "source": [
    "processing_pipeline = make_pipeline(\n",
    "    \n",
    "    MergeColumns('GBA', 'LIVING_GBA'),\n",
    "    ImputeValue('AYB', 1940),\n",
    "    ConvertZeroToN('AC'),\n",
    "    ConvertStringDateToYear('SALEDATE'),\n",
    "    ImputeValue('YEAR', 2004),\n",
    "    make_union(\n",
    "        make_pipeline(ColumnSelector(cols_num),\n",
    "                      #StandardScaler()\n",
    "        ),\n",
    "        make_pipeline(ColumnSelector(cols_ord),\n",
    "                      OrdinalEncoder()\n",
    "        ),\n",
    "        make_pipeline(ColumnSelector(cols_cat),\n",
    "                      OneHotEncoder()\n",
    "        )\n",
    "    )\n",
    ")"
   ]
  },
  {
   "cell_type": "code",
   "execution_count": 35,
   "metadata": {},
   "outputs": [],
   "source": [
    "pipeline = (make_pipeline(processing_pipeline, RandomForestRegressor(random_state=1, \n",
    "                                                                          n_jobs=-1, \n",
    "                                                                          n_estimators=100)))"
   ]
  },
  {
   "cell_type": "markdown",
   "metadata": {},
   "source": [
    "### 2.5 Fit Pipeline and Evaluate Accuracy"
   ]
  },
  {
   "cell_type": "code",
   "execution_count": 36,
   "metadata": {},
   "outputs": [
    {
     "data": {
      "text/plain": [
       "Pipeline(memory=None,\n",
       "     steps=[('pipeline', Pipeline(memory=None,\n",
       "     steps=[('mergecolumns', <__main__.MergeColumns object at 0x000001A6CD638208>), ('imputevalue-1', <__main__.ImputeValue object at 0x000001A6CD638DD8>), ('convertzeroton', <__main__.ConvertZeroToN object at 0x000001A6CDE285F8>), ('convertstringdatetoyear'...stimators=100, n_jobs=-1,\n",
       "           oob_score=False, random_state=1, verbose=0, warm_start=False))])"
      ]
     },
     "execution_count": 36,
     "metadata": {},
     "output_type": "execute_result"
    }
   ],
   "source": [
    "pipeline.fit(x_train, pd.Series.ravel(y_train))"
   ]
  },
  {
   "cell_type": "code",
   "execution_count": 37,
   "metadata": {},
   "outputs": [
    {
     "name": "stdout",
     "output_type": "stream",
     "text": [
      "RMSE Lazy Predictor 7129763.675459661\n",
      "MAE Lazy Predictor 964376.7917577944\n",
      "R^2 Lazy Predictor 0.0\n",
      "\n",
      "RMSE 873994.5174397157\n",
      "MAE 179626.10685042062\n",
      "R^2 0.984973177831752\n",
      "\n",
      "RMSE Improvement: 6255769.158019945\n",
      "MAE Inprovement: 784750.6849073739\n",
      "R^2 Improvement: 0.984973177831752\n"
     ]
    }
   ],
   "source": [
    "pred_train = compare_predictions(x_train, y_train, pipeline, y_train['PRICE'].mean())"
   ]
  },
  {
   "cell_type": "code",
   "execution_count": 38,
   "metadata": {},
   "outputs": [
    {
     "name": "stdout",
     "output_type": "stream",
     "text": [
      "RMSE Lazy Predictor 6634982.491976388\n",
      "MAE Lazy Predictor 865667.6296156339\n",
      "R^2 Lazy Predictor 0.0\n",
      "\n",
      "RMSE 875903.293613276\n",
      "MAE 92067.56251801067\n",
      "R^2 0.9825725937004337\n",
      "\n",
      "RMSE Improvement: 5759079.198363112\n",
      "MAE Inprovement: 773600.0670976231\n",
      "R^2 Improvement: 0.9825725937004337\n"
     ]
    }
   ],
   "source": [
    "pred_test = compare_predictions(x_test, y_test, pipeline, y_test['PRICE'].mean())"
   ]
  },
  {
   "cell_type": "markdown",
   "metadata": {},
   "source": [
    "### 2.6 Fit with Complete Data and Evaluate with Holdout Data (Before Grid Search)"
   ]
  },
  {
   "cell_type": "code",
   "execution_count": 39,
   "metadata": {},
   "outputs": [],
   "source": [
    "x_train = df.drop('PRICE', axis=1)\n",
    "y_train = df.loc[:,['PRICE']]"
   ]
  },
  {
   "cell_type": "code",
   "execution_count": 40,
   "metadata": {},
   "outputs": [
    {
     "data": {
      "text/plain": [
       "Pipeline(memory=None,\n",
       "     steps=[('pipeline', Pipeline(memory=None,\n",
       "     steps=[('mergecolumns', <__main__.MergeColumns object at 0x000001A6CD638208>), ('imputevalue-1', <__main__.ImputeValue object at 0x000001A6CD638DD8>), ('convertzeroton', <__main__.ConvertZeroToN object at 0x000001A6CDE285F8>), ('convertstringdatetoyear'...stimators=100, n_jobs=-1,\n",
       "           oob_score=False, random_state=1, verbose=0, warm_start=False))])"
      ]
     },
     "execution_count": 40,
     "metadata": {},
     "output_type": "execute_result"
    }
   ],
   "source": [
    "pipeline.fit(x_train, pd.Series.ravel(y_train))"
   ]
  },
  {
   "cell_type": "code",
   "execution_count": 41,
   "metadata": {},
   "outputs": [],
   "source": [
    "df_test = pd.read_csv('data/dc_housing/holdout_test_data.csv', index_col=0, low_memory=False)\n",
    "df_test = df_test[~np.isnan(df_test['PRICE'])]\n",
    "\n",
    "df_test = df_test.dropna(subset=['PRICE'])\n",
    "\n",
    "x_test = df_test.drop('PRICE', axis=1)\n",
    "y_test = df_test.loc[:,['PRICE']]"
   ]
  },
  {
   "cell_type": "code",
   "execution_count": 42,
   "metadata": {},
   "outputs": [
    {
     "name": "stdout",
     "output_type": "stream",
     "text": [
      "RMSE Lazy Predictor 9550662.233815953\n",
      "MAE Lazy Predictor 1661050.334916615\n",
      "R^2 Lazy Predictor 0.0\n",
      "\n",
      "RMSE 3267544.72995681\n",
      "MAE 229341.42856115213\n",
      "R^2 0.882948735302248\n",
      "\n",
      "RMSE Improvement: 6283117.503859144\n",
      "MAE Inprovement: 1431708.9063554627\n",
      "R^2 Improvement: 0.882948735302248\n"
     ]
    }
   ],
   "source": [
    "pred_test = compare_predictions(x_test, y_test, pipeline, y_test['PRICE'].mean())"
   ]
  }
 ],
 "metadata": {
  "kernelspec": {
   "display_name": "Python 3",
   "language": "python",
   "name": "python3"
  },
  "language_info": {
   "codemirror_mode": {
    "name": "ipython",
    "version": 3
   },
   "file_extension": ".py",
   "mimetype": "text/x-python",
   "name": "python",
   "nbconvert_exporter": "python",
   "pygments_lexer": "ipython3",
   "version": "3.6.6"
  }
 },
 "nbformat": 4,
 "nbformat_minor": 2
}
