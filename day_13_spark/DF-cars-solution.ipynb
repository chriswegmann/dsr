{
 "cells": [
  {
   "cell_type": "code",
   "execution_count": 7,
   "metadata": {},
   "outputs": [
    {
     "data": {
      "text/html": [
       "\n",
       "        <div>\n",
       "            <p><b>SparkContext</b></p>\n",
       "\n",
       "            <p><a href=\"http://Mini.fritz.box:4041\">Spark UI</a></p>\n",
       "\n",
       "            <dl>\n",
       "              <dt>Version</dt>\n",
       "                <dd><code>v2.3.1</code></dd>\n",
       "              <dt>Master</dt>\n",
       "                <dd><code>local[*]</code></dd>\n",
       "              <dt>AppName</dt>\n",
       "                <dd><code>PySparkShell</code></dd>\n",
       "            </dl>\n",
       "        </div>\n",
       "        "
      ],
      "text/plain": [
       "<SparkContext master=local[*] appName=PySparkShell>"
      ]
     },
     "execution_count": 7,
     "metadata": {},
     "output_type": "execute_result"
    }
   ],
   "source": [
    "import pyspark\n",
    "#sc = pyspark.SparkContext('local[*]')\n",
    "sc"
   ]
  },
  {
   "cell_type": "code",
   "execution_count": 2,
   "metadata": {},
   "outputs": [],
   "source": [
    "# needed whenever working with spark dataframes\n",
    "from pyspark.sql import *\n",
    "!rm -rf metastore_db/\n",
    "sqlContext = SQLContext(sc)"
   ]
  },
  {
   "cell_type": "code",
   "execution_count": 3,
   "metadata": {},
   "outputs": [
    {
     "name": "stdout",
     "output_type": "stream",
     "text": [
      "--2018-10-06 14:40:34--  https://ibm.box.com/shared/static/f1dhhjnzjwxmy2c1ys2whvrgz05d1pui.csv\n",
      "Resolving ibm.box.com (ibm.box.com)... 185.235.236.197\n",
      "Connecting to ibm.box.com (ibm.box.com)|185.235.236.197|:443... connected.\n",
      "HTTP request sent, awaiting response... 301 Moved Permanently\n",
      "Location: https://ibm.ent.box.com/shared/static/f1dhhjnzjwxmy2c1ys2whvrgz05d1pui.csv [following]\n",
      "--2018-10-06 14:40:34--  https://ibm.ent.box.com/shared/static/f1dhhjnzjwxmy2c1ys2whvrgz05d1pui.csv\n",
      "Resolving ibm.ent.box.com (ibm.ent.box.com)... 185.235.236.211\n",
      "Connecting to ibm.ent.box.com (ibm.ent.box.com)|185.235.236.211|:443... connected.\n",
      "HTTP request sent, awaiting response... 302 Found\n",
      "Location: https://public.boxcloud.com/d/1/b1!I7xfBxzQrxUIihY4VuOxDoHkB_KsLWVylRjuANAIAORfcmrJdg-osOoMeL6NB8A0ucPt6UNpEhex3s2S86Uwycwpf1bOBpvTAycLZBj-rpBSPFW_Rdw9kxeavaqiiNMx8nbLe2lcV2Wsy4YLLpXa5gcQFHIVkgwbNYaEVTLcR_zgN1JzCOlhkz33P-OL8ajaWYtzwJKcOXf-cI1Zl3-0OyCv8vvOCmjQthf1E0GRUM5I14tjjLLbG6im8rQvYnJavLiAJSSyTm4iSO3E3iVJY_7fLWDgwLcYZd1I6yYCGt0FBUoQ6uoUHzCh8zQgxL2vB7z50Fst7w3mMsm1dxVXjyc3wNQgBaMqR7wCmJeE5Iux37J1JfGdlNSO1Y8k4zmvcY2W4Rz7EmMPDGHE3qHHJRQOYxYVSPqbcPMRjBiOiAeph9wCqaLJPcRSiUnkJ2-S7B8LiZ6Ke0bc6lWi3fJxKAOI37Z9_qXUJnfwZpwGbLZdzJC-zQiMF27cdScWuO5FXsjnqYDgbzVOqx3lD6TzRd60JqM4wwNGUgh3xi1xRw_Shp9YS0sR1cdzzXQG5KLFXXlX816E215jMu3EFSkZD0rER0esE3fLQvbN-ktBAy0r4GNFS5e1pHGvZ2ctoT17mP84mmBn1XorVN_-GF8LpmTnnmxi13gkhNbFjQWAgZQINjjJjQaTbQxvnQ-1pdFABfxUicCzNruP-wQ_fp8rlsOHLrJeJqbpLuuG_Qsxhp9ZKZ6YB8mTHzox68bETCV02AP5v5pL27h1s6fCer0QbLMijeEsOvN6yJsHaYb6x16hfbwLXH-5wXVSrKoInLlJBZfCbxKKNvcJeWMtFXCrEsFbm-JbEP1qaPlmOJS6o29PpOXVO0D5MP-g_aawdzfaAqjNxGs3TEbAJYnbsr6kXlRdpzG5STz0GFkfwb1txEoX8uUUsJ0XlxV9n6WN1WfyDWaE5LeJvVWyH7Jmtnty6w4e4S2aN8EQUp2ASVLG_hiI-DEMygcaFV1jHDXe1yI58B-Tz8X-pM_sVVWJqyV4Wie0rLXeJiCFw3HeXGpiyZLtr1PUGvbGnM1fNCJymM_owoHK7euLsfw53aKKmMi7bIDcnY8QEt4vr1NBrE4prVntNX-HqE1snEOUm2l72_g8YO8MknBVgdqow_Kfa5J8G_uYscHw01i-9oWeoQugOvfrXlZ1tNVRvjmZTVu-kHRl7QnZlUmTPgDrlx8HQ8zyRB-HvA-aBgXUhsV4c7NkJZOVz_rmUREHdKkm1yTHvVJxWVS1aWnNsCb6NtkcI013k-ylu-nMTlz3fVEVH__sDVTgYMhKWPKyiSCGwlfyiQrcucD2bNsfaWXUae_MK0wC8vE8BeuNq5QK/download [following]\n",
      "--2018-10-06 14:40:35--  https://public.boxcloud.com/d/1/b1!I7xfBxzQrxUIihY4VuOxDoHkB_KsLWVylRjuANAIAORfcmrJdg-osOoMeL6NB8A0ucPt6UNpEhex3s2S86Uwycwpf1bOBpvTAycLZBj-rpBSPFW_Rdw9kxeavaqiiNMx8nbLe2lcV2Wsy4YLLpXa5gcQFHIVkgwbNYaEVTLcR_zgN1JzCOlhkz33P-OL8ajaWYtzwJKcOXf-cI1Zl3-0OyCv8vvOCmjQthf1E0GRUM5I14tjjLLbG6im8rQvYnJavLiAJSSyTm4iSO3E3iVJY_7fLWDgwLcYZd1I6yYCGt0FBUoQ6uoUHzCh8zQgxL2vB7z50Fst7w3mMsm1dxVXjyc3wNQgBaMqR7wCmJeE5Iux37J1JfGdlNSO1Y8k4zmvcY2W4Rz7EmMPDGHE3qHHJRQOYxYVSPqbcPMRjBiOiAeph9wCqaLJPcRSiUnkJ2-S7B8LiZ6Ke0bc6lWi3fJxKAOI37Z9_qXUJnfwZpwGbLZdzJC-zQiMF27cdScWuO5FXsjnqYDgbzVOqx3lD6TzRd60JqM4wwNGUgh3xi1xRw_Shp9YS0sR1cdzzXQG5KLFXXlX816E215jMu3EFSkZD0rER0esE3fLQvbN-ktBAy0r4GNFS5e1pHGvZ2ctoT17mP84mmBn1XorVN_-GF8LpmTnnmxi13gkhNbFjQWAgZQINjjJjQaTbQxvnQ-1pdFABfxUicCzNruP-wQ_fp8rlsOHLrJeJqbpLuuG_Qsxhp9ZKZ6YB8mTHzox68bETCV02AP5v5pL27h1s6fCer0QbLMijeEsOvN6yJsHaYb6x16hfbwLXH-5wXVSrKoInLlJBZfCbxKKNvcJeWMtFXCrEsFbm-JbEP1qaPlmOJS6o29PpOXVO0D5MP-g_aawdzfaAqjNxGs3TEbAJYnbsr6kXlRdpzG5STz0GFkfwb1txEoX8uUUsJ0XlxV9n6WN1WfyDWaE5LeJvVWyH7Jmtnty6w4e4S2aN8EQUp2ASVLG_hiI-DEMygcaFV1jHDXe1yI58B-Tz8X-pM_sVVWJqyV4Wie0rLXeJiCFw3HeXGpiyZLtr1PUGvbGnM1fNCJymM_owoHK7euLsfw53aKKmMi7bIDcnY8QEt4vr1NBrE4prVntNX-HqE1snEOUm2l72_g8YO8MknBVgdqow_Kfa5J8G_uYscHw01i-9oWeoQugOvfrXlZ1tNVRvjmZTVu-kHRl7QnZlUmTPgDrlx8HQ8zyRB-HvA-aBgXUhsV4c7NkJZOVz_rmUREHdKkm1yTHvVJxWVS1aWnNsCb6NtkcI013k-ylu-nMTlz3fVEVH__sDVTgYMhKWPKyiSCGwlfyiQrcucD2bNsfaWXUae_MK0wC8vE8BeuNq5QK/download\n",
      "Resolving public.boxcloud.com (public.boxcloud.com)... 185.235.236.200\n",
      "Connecting to public.boxcloud.com (public.boxcloud.com)|185.235.236.200|:443... connected.\n",
      "HTTP request sent, awaiting response... 200 OK\n",
      "Length: 1697 (1,7K) [text/csv]\n",
      "Saving to: ‘f1dhhjnzjwxmy2c1ys2whvrgz05d1pui.csv’\n",
      "\n",
      "100%[======================================>] 1.697       --.-K/s   in 0s      \n",
      "\n",
      "2018-10-06 14:40:35 (14,9 MB/s) - ‘f1dhhjnzjwxmy2c1ys2whvrgz05d1pui.csv’ saved [1697/1697]\n",
      "\n"
     ]
    }
   ],
   "source": [
    "!wget https://ibm.box.com/shared/static/f1dhhjnzjwxmy2c1ys2whvrgz05d1pui.csv"
   ]
  },
  {
   "cell_type": "code",
   "execution_count": 41,
   "metadata": {},
   "outputs": [],
   "source": [
    "# using inferschema is very handy, but adds a second pass over the data\n",
    "df = sqlContext.read.format('com.databricks.spark.csv')\\\n",
    "                .option('header', 'true')\\\n",
    "                .option('inferschema', 'true')\\\n",
    "                .option('mode', 'DROPMALFORMED')\\\n",
    "                .load('f1dhhjnzjwxmy2c1ys2whvrgz05d1pui.csv')\n",
    "#look at Spark Web UI to see the two passes"
   ]
  },
  {
   "cell_type": "code",
   "execution_count": 18,
   "metadata": {},
   "outputs": [
    {
     "data": {
      "text/plain": [
       "[Row(car='Mazda RX4', mpg=21.0, cyl=6, disp=160.0, hp=110, drat=3.9, wt=2.62, qsec=16.46, vs=0, am=1, gear=4, carb=4),\n",
       " Row(car='Mazda RX4 Wag', mpg=21.0, cyl=6, disp=160.0, hp=110, drat=3.9, wt=2.875, qsec=17.02, vs=0, am=1, gear=4, carb=4),\n",
       " Row(car='Datsun 710', mpg=22.8, cyl=4, disp=108.0, hp=93, drat=3.85, wt=2.32, qsec=18.61, vs=1, am=1, gear=4, carb=1),\n",
       " Row(car='Merc 240D', mpg=24.4, cyl=4, disp=146.7, hp=62, drat=3.69, wt=3.19, qsec=20.0, vs=1, am=0, gear=4, carb=2),\n",
       " Row(car='Merc 230', mpg=22.8, cyl=4, disp=140.8, hp=95, drat=3.92, wt=3.15, qsec=22.9, vs=1, am=0, gear=4, carb=2)]"
      ]
     },
     "execution_count": 18,
     "metadata": {},
     "output_type": "execute_result"
    }
   ],
   "source": [
    "df.filter('gear == 4').take(5)"
   ]
  },
  {
   "cell_type": "code",
   "execution_count": 21,
   "metadata": {},
   "outputs": [
    {
     "data": {
      "text/plain": [
       "32"
      ]
     },
     "execution_count": 21,
     "metadata": {},
     "output_type": "execute_result"
    }
   ],
   "source": [
    "df.count()"
   ]
  },
  {
   "cell_type": "code",
   "execution_count": 22,
   "metadata": {},
   "outputs": [
    {
     "name": "stdout",
     "output_type": "stream",
     "text": [
      "root\n",
      " |-- car: string (nullable = true)\n",
      " |-- mpg: double (nullable = true)\n",
      " |-- cyl: integer (nullable = true)\n",
      " |-- disp: double (nullable = true)\n",
      " |-- hp: integer (nullable = true)\n",
      " |-- drat: double (nullable = true)\n",
      " |-- wt: double (nullable = true)\n",
      " |-- qsec: double (nullable = true)\n",
      " |-- vs: integer (nullable = true)\n",
      " |-- am: integer (nullable = true)\n",
      " |-- gear: integer (nullable = true)\n",
      " |-- carb: integer (nullable = true)\n",
      "\n"
     ]
    }
   ],
   "source": [
    "df.printSchema()"
   ]
  },
  {
   "cell_type": "code",
   "execution_count": 23,
   "metadata": {},
   "outputs": [
    {
     "name": "stdout",
     "output_type": "stream",
     "text": [
      "+-----------------+----+---+-----+---+----+-----+-----+---+---+----+----+\n",
      "|              car| mpg|cyl| disp| hp|drat|   wt| qsec| vs| am|gear|carb|\n",
      "+-----------------+----+---+-----+---+----+-----+-----+---+---+----+----+\n",
      "|        Mazda RX4|21.0|  6|160.0|110| 3.9| 2.62|16.46|  0|  1|   4|   4|\n",
      "|    Mazda RX4 Wag|21.0|  6|160.0|110| 3.9|2.875|17.02|  0|  1|   4|   4|\n",
      "|       Datsun 710|22.8|  4|108.0| 93|3.85| 2.32|18.61|  1|  1|   4|   1|\n",
      "|   Hornet 4 Drive|21.4|  6|258.0|110|3.08|3.215|19.44|  1|  0|   3|   1|\n",
      "|Hornet Sportabout|18.7|  8|360.0|175|3.15| 3.44|17.02|  0|  0|   3|   2|\n",
      "+-----------------+----+---+-----+---+----+-----+-----+---+---+----+----+\n",
      "only showing top 5 rows\n",
      "\n"
     ]
    }
   ],
   "source": [
    "df.show(5)"
   ]
  },
  {
   "cell_type": "code",
   "execution_count": 24,
   "metadata": {},
   "outputs": [
    {
     "name": "stdout",
     "output_type": "stream",
     "text": [
      "+-----------------+----+\n",
      "|              car| mpg|\n",
      "+-----------------+----+\n",
      "|        Mazda RX4|21.0|\n",
      "|    Mazda RX4 Wag|21.0|\n",
      "|       Datsun 710|22.8|\n",
      "|   Hornet 4 Drive|21.4|\n",
      "|Hornet Sportabout|18.7|\n",
      "+-----------------+----+\n",
      "only showing top 5 rows\n",
      "\n"
     ]
    }
   ],
   "source": [
    "df.select('car', 'mpg').show(5)"
   ]
  },
  {
   "cell_type": "code",
   "execution_count": 25,
   "metadata": {},
   "outputs": [
    {
     "name": "stdout",
     "output_type": "stream",
     "text": [
      "+-----------+----+---+-----+---+----+----+-----+---+---+----+----+\n",
      "|        car| mpg|cyl| disp| hp|drat|  wt| qsec| vs| am|gear|carb|\n",
      "+-----------+----+---+-----+---+----+----+-----+---+---+----+----+\n",
      "| Duster 360|14.3|  8|360.0|245|3.21|3.57|15.84|  0|  0|   3|   4|\n",
      "|  Merc 280C|17.8|  6|167.6|123|3.92|3.44| 18.9|  1|  0|   4|   4|\n",
      "| Merc 450SE|16.4|  8|275.8|180|3.07|4.07| 17.4|  0|  0|   3|   3|\n",
      "| Merc 450SL|17.3|  8|275.8|180|3.07|3.73| 17.6|  0|  0|   3|   3|\n",
      "|Merc 450SLC|15.2|  8|275.8|180|3.07|3.78| 18.0|  0|  0|   3|   3|\n",
      "+-----------+----+---+-----+---+----+----+-----+---+---+----+----+\n",
      "only showing top 5 rows\n",
      "\n"
     ]
    }
   ],
   "source": [
    "df.filter(df['mpg'] < 18).show(5)"
   ]
  },
  {
   "cell_type": "code",
   "execution_count": 34,
   "metadata": {},
   "outputs": [
    {
     "data": {
      "text/html": [
       "<div>\n",
       "<style scoped>\n",
       "    .dataframe tbody tr th:only-of-type {\n",
       "        vertical-align: middle;\n",
       "    }\n",
       "\n",
       "    .dataframe tbody tr th {\n",
       "        vertical-align: top;\n",
       "    }\n",
       "\n",
       "    .dataframe thead th {\n",
       "        text-align: right;\n",
       "    }\n",
       "</style>\n",
       "<table border=\"1\" class=\"dataframe\">\n",
       "  <thead>\n",
       "    <tr style=\"text-align: right;\">\n",
       "      <th></th>\n",
       "      <th>car</th>\n",
       "      <th>mpg</th>\n",
       "      <th>cyl</th>\n",
       "      <th>disp</th>\n",
       "      <th>hp</th>\n",
       "      <th>drat</th>\n",
       "      <th>wt</th>\n",
       "      <th>qsec</th>\n",
       "      <th>vs</th>\n",
       "      <th>am</th>\n",
       "      <th>gear</th>\n",
       "      <th>carb</th>\n",
       "    </tr>\n",
       "    <tr>\n",
       "      <th>summary</th>\n",
       "      <th></th>\n",
       "      <th></th>\n",
       "      <th></th>\n",
       "      <th></th>\n",
       "      <th></th>\n",
       "      <th></th>\n",
       "      <th></th>\n",
       "      <th></th>\n",
       "      <th></th>\n",
       "      <th></th>\n",
       "      <th></th>\n",
       "      <th></th>\n",
       "    </tr>\n",
       "  </thead>\n",
       "  <tbody>\n",
       "    <tr>\n",
       "      <th>count</th>\n",
       "      <td>32</td>\n",
       "      <td>32</td>\n",
       "      <td>32</td>\n",
       "      <td>32</td>\n",
       "      <td>32</td>\n",
       "      <td>32</td>\n",
       "      <td>32</td>\n",
       "      <td>32</td>\n",
       "      <td>32</td>\n",
       "      <td>32</td>\n",
       "      <td>32</td>\n",
       "      <td>32</td>\n",
       "    </tr>\n",
       "    <tr>\n",
       "      <th>mean</th>\n",
       "      <td>None</td>\n",
       "      <td>20.090624999999996</td>\n",
       "      <td>6.1875</td>\n",
       "      <td>230.72187500000004</td>\n",
       "      <td>146.6875</td>\n",
       "      <td>3.5965625000000006</td>\n",
       "      <td>3.2172499999999995</td>\n",
       "      <td>17.848750000000003</td>\n",
       "      <td>0.4375</td>\n",
       "      <td>0.40625</td>\n",
       "      <td>3.6875</td>\n",
       "      <td>2.8125</td>\n",
       "    </tr>\n",
       "    <tr>\n",
       "      <th>stddev</th>\n",
       "      <td>None</td>\n",
       "      <td>6.026948052089103</td>\n",
       "      <td>1.7859216469465444</td>\n",
       "      <td>123.93869383138195</td>\n",
       "      <td>68.56286848932059</td>\n",
       "      <td>0.5346787360709716</td>\n",
       "      <td>0.9784574429896968</td>\n",
       "      <td>1.7869432360968436</td>\n",
       "      <td>0.5040161287741853</td>\n",
       "      <td>0.49899091723584604</td>\n",
       "      <td>0.7378040652569471</td>\n",
       "      <td>1.6151999776318522</td>\n",
       "    </tr>\n",
       "    <tr>\n",
       "      <th>min</th>\n",
       "      <td>AMC Javelin</td>\n",
       "      <td>10.4</td>\n",
       "      <td>4</td>\n",
       "      <td>71.1</td>\n",
       "      <td>52</td>\n",
       "      <td>2.76</td>\n",
       "      <td>1.513</td>\n",
       "      <td>14.5</td>\n",
       "      <td>0</td>\n",
       "      <td>0</td>\n",
       "      <td>3</td>\n",
       "      <td>1</td>\n",
       "    </tr>\n",
       "    <tr>\n",
       "      <th>max</th>\n",
       "      <td>Volvo 142E</td>\n",
       "      <td>33.9</td>\n",
       "      <td>8</td>\n",
       "      <td>472.0</td>\n",
       "      <td>335</td>\n",
       "      <td>4.93</td>\n",
       "      <td>5.424</td>\n",
       "      <td>22.9</td>\n",
       "      <td>1</td>\n",
       "      <td>1</td>\n",
       "      <td>5</td>\n",
       "      <td>8</td>\n",
       "    </tr>\n",
       "  </tbody>\n",
       "</table>\n",
       "</div>"
      ],
      "text/plain": [
       "                 car                 mpg                 cyl  \\\n",
       "summary                                                        \n",
       "count             32                  32                  32   \n",
       "mean            None  20.090624999999996              6.1875   \n",
       "stddev          None   6.026948052089103  1.7859216469465444   \n",
       "min      AMC Javelin                10.4                   4   \n",
       "max       Volvo 142E                33.9                   8   \n",
       "\n",
       "                       disp                 hp                drat  \\\n",
       "summary                                                              \n",
       "count                    32                 32                  32   \n",
       "mean     230.72187500000004           146.6875  3.5965625000000006   \n",
       "stddev   123.93869383138195  68.56286848932059  0.5346787360709716   \n",
       "min                    71.1                 52                2.76   \n",
       "max                   472.0                335                4.93   \n",
       "\n",
       "                         wt                qsec                  vs  \\\n",
       "summary                                                               \n",
       "count                    32                  32                  32   \n",
       "mean     3.2172499999999995  17.848750000000003              0.4375   \n",
       "stddev   0.9784574429896968  1.7869432360968436  0.5040161287741853   \n",
       "min                   1.513                14.5                   0   \n",
       "max                   5.424                22.9                   1   \n",
       "\n",
       "                          am                gear                carb  \n",
       "summary                                                               \n",
       "count                     32                  32                  32  \n",
       "mean                 0.40625              3.6875              2.8125  \n",
       "stddev   0.49899091723584604  0.7378040652569471  1.6151999776318522  \n",
       "min                        0                   3                   1  \n",
       "max                        1                   5                   8  "
      ]
     },
     "execution_count": 34,
     "metadata": {},
     "output_type": "execute_result"
    }
   ],
   "source": [
    "summary = df.describe().toPandas().set_index('summary')\n",
    "summary"
   ]
  },
  {
   "cell_type": "code",
   "execution_count": 35,
   "metadata": {},
   "outputs": [
    {
     "data": {
      "text/plain": [
       "'3.6875'"
      ]
     },
     "execution_count": 35,
     "metadata": {},
     "output_type": "execute_result"
    }
   ],
   "source": [
    "summary.loc['mean', 'gear']"
   ]
  },
  {
   "cell_type": "code",
   "execution_count": 10,
   "metadata": {},
   "outputs": [
    {
     "name": "stdout",
     "output_type": "stream",
     "text": [
      "+-----------+----+---+-----+---+----+----+-----+---+---+----+----+\n",
      "|        car| mpg|cyl| disp| hp|drat|  wt| qsec| vs| am|gear|carb|\n",
      "+-----------+----+---+-----+---+----+----+-----+---+---+----+----+\n",
      "| Duster 360|14.3|  8|360.0|245|3.21|3.57|15.84|  0|  0|   3|   4|\n",
      "|  Merc 280C|17.8|  6|167.6|123|3.92|3.44| 18.9|  1|  0|   4|   4|\n",
      "| Merc 450SE|16.4|  8|275.8|180|3.07|4.07| 17.4|  0|  0|   3|   3|\n",
      "| Merc 450SL|17.3|  8|275.8|180|3.07|3.73| 17.6|  0|  0|   3|   3|\n",
      "|Merc 450SLC|15.2|  8|275.8|180|3.07|3.78| 18.0|  0|  0|   3|   3|\n",
      "+-----------+----+---+-----+---+----+----+-----+---+---+----+----+\n",
      "only showing top 5 rows\n",
      "\n"
     ]
    }
   ],
   "source": [
    "# the filter can be just like a SQL where clause\n",
    "df.filter('mpg < 18').show(5)"
   ]
  },
  {
   "cell_type": "code",
   "execution_count": 42,
   "metadata": {},
   "outputs": [],
   "source": [
    "# dataframes are immutable -- withColumn creates a new one\n",
    "df = df.withColumn('wtTon', df['wt'] * 0.45)"
   ]
  },
  {
   "cell_type": "code",
   "execution_count": 43,
   "metadata": {},
   "outputs": [
    {
     "name": "stdout",
     "output_type": "stream",
     "text": [
      "+---------+----+---+-----+---+----+----+-----+---+---+----+----+-----+\n",
      "|      car| mpg|cyl| disp| hp|drat|  wt| qsec| vs| am|gear|carb|wtTon|\n",
      "+---------+----+---+-----+---+----+----+-----+---+---+----+----+-----+\n",
      "|Mazda RX4|21.0|  6|160.0|110| 3.9|2.62|16.46|  0|  1|   4|   4|1.179|\n",
      "+---------+----+---+-----+---+----+----+-----+---+---+----+----+-----+\n",
      "only showing top 1 row\n",
      "\n"
     ]
    }
   ],
   "source": [
    "df.show(1)"
   ]
  },
  {
   "cell_type": "code",
   "execution_count": 49,
   "metadata": {},
   "outputs": [],
   "source": [
    "from pyspark.sql import functions as F"
   ]
  },
  {
   "cell_type": "code",
   "execution_count": 54,
   "metadata": {},
   "outputs": [
    {
     "data": {
      "text/plain": [
       "Column<b'avg(wt) AS `mean_wt`'>"
      ]
     },
     "execution_count": 54,
     "metadata": {},
     "output_type": "execute_result"
    }
   ],
   "source": [
    "F.mean('wt').alias('mean_wt')"
   ]
  },
  {
   "cell_type": "code",
   "execution_count": 52,
   "metadata": {},
   "outputs": [
    {
     "name": "stdout",
     "output_type": "stream",
     "text": [
      "+---+------------------+-------------------+-----------------+\n",
      "|cyl|           mean_wt|    stddev_samp(wt)|          sum(wt)|\n",
      "+---+------------------+-------------------+-----------------+\n",
      "|  6| 3.117142857142857|0.35634553856775425|            21.82|\n",
      "|  4| 2.285727272727273| 0.5695637086242575|           25.143|\n",
      "|  8|3.9992142857142867| 0.7594047444769265|55.98900000000001|\n",
      "+---+------------------+-------------------+-----------------+\n",
      "\n"
     ]
    }
   ],
   "source": [
    "df.groupby(['cyl']).agg(F.mean('wt').alias('mean_wt'), F.stddev('wt'), F.sum('wt')).show()"
   ]
  },
  {
   "cell_type": "code",
   "execution_count": 55,
   "metadata": {},
   "outputs": [
    {
     "name": "stdout",
     "output_type": "stream",
     "text": [
      "+---+------------------+\n",
      "|cyl|           avg(wt)|\n",
      "+---+------------------+\n",
      "|  6| 3.117142857142857|\n",
      "|  4| 2.285727272727273|\n",
      "|  8|3.9992142857142867|\n",
      "+---+------------------+\n",
      "\n"
     ]
    }
   ],
   "source": [
    "df.groupby(['cyl'])\\\n",
    ".agg({\"wt\": \"AVG\"})\\\n",
    ".show(5)"
   ]
  },
  {
   "cell_type": "code",
   "execution_count": 58,
   "metadata": {},
   "outputs": [
    {
     "name": "stdout",
     "output_type": "stream",
     "text": [
      "+---+------------------+--------+------------------+------------------+------------------+------------------+------------------+------------------+-------------------+------------------+------------------+------------------+\n",
      "|cyl|          avg(mpg)|avg(cyl)|         avg(disp)|           avg(hp)|         avg(drat)|           avg(wt)|         avg(qsec)|           avg(vs)|            avg(am)|         avg(gear)|         avg(carb)|        avg(wtTon)|\n",
      "+---+------------------+--------+------------------+------------------+------------------+------------------+------------------+------------------+-------------------+------------------+------------------+------------------+\n",
      "|  6| 19.74285714285714|     6.0|183.31428571428572|122.28571428571429|3.5857142857142854| 3.117142857142857| 17.97714285714286|0.5714285714285714|0.42857142857142855| 3.857142857142857|3.4285714285714284|1.4027142857142856|\n",
      "|  4|26.663636363636364|     4.0|105.13636363636364| 82.63636363636364| 4.070909090909091| 2.285727272727273|19.137272727272723|0.9090909090909091| 0.7272727272727273| 4.090909090909091|1.5454545454545454|1.0285772727272726|\n",
      "|  8|15.100000000000003|     8.0|353.09999999999997|209.21428571428572|3.2292857142857136|3.9992142857142867|16.772142857142857|               0.0|0.14285714285714285|3.2857142857142856|               3.5|1.7996464285714289|\n",
      "+---+------------------+--------+------------------+------------------+------------------+------------------+------------------+------------------+-------------------+------------------+------------------+------------------+\n",
      "\n"
     ]
    }
   ],
   "source": [
    "g = df.groupby(['cyl'])\n",
    "g.mean().show()"
   ]
  },
  {
   "cell_type": "code",
   "execution_count": 13,
   "metadata": {},
   "outputs": [
    {
     "name": "stdout",
     "output_type": "stream",
     "text": [
      "+---+--------+\n",
      "|cyl|count(1)|\n",
      "+---+--------+\n",
      "|  8|      14|\n",
      "|  4|      11|\n",
      "|  6|       7|\n",
      "+---+--------+\n",
      "\n"
     ]
    }
   ],
   "source": [
    "car_counts = df.groupby(['cyl'])\\\n",
    ".agg({\"*\": \"count\"})\\\n",
    ".sort(\"count(1)\", ascending=False)\\\n",
    ".show(5)"
   ]
  },
  {
   "cell_type": "code",
   "execution_count": 61,
   "metadata": {},
   "outputs": [
    {
     "name": "stdout",
     "output_type": "stream",
     "text": [
      "+----+\n",
      "|gear|\n",
      "+----+\n",
      "|   4|\n",
      "|   4|\n",
      "|   4|\n",
      "|   3|\n",
      "|   3|\n",
      "|   3|\n",
      "+----+\n",
      "only showing top 6 rows\n",
      "\n"
     ]
    }
   ],
   "source": [
    "df.createOrReplaceTempView(\"mytable\")\n",
    "\n",
    "# SQL statements can be run by using the sql method\n",
    "highgearcars = sqlContext.sql(\"SELECT gear FROM mytable WHERE cyl >= 4 AND cyl <= 9\")\n",
    "highgearcars.show(6)"
   ]
  },
  {
   "cell_type": "markdown",
   "metadata": {
    "collapsed": true
   },
   "source": [
    "## Exercise 1:\n",
    "\n",
    "Step 1: Create a list of tuples (\"john\", 23), (\"mr. bean\", 56), (\"bill clinton\", 70)\n",
    "\n",
    "Step 2: Convert the list to a data frame with two columns\n",
    "\n",
    "Step 3: Filter the people with age < 40\n",
    "\n",
    "Step 4: Get the names ONLY of people smaller than 40\n",
    "\n",
    "Step 5: Register the dataframe as a SQL table\n",
    "\n",
    "Step 6: Select the names only of people whose age < 40\n",
    "\n",
    "Some hints: http://spark.apache.org/docs/latest/sql-programming-guide.html#generic-loadsave-functions\n",
    "\n",
    "## Exercise 2:\n",
    "\n",
    "Step 1: Create a list of tuple (\"john\", \"male\"), (\"hilary\", \"female\")\n",
    "\n",
    "Step 2: Join with the data from the previos exercise and output all males older than 50\n",
    "\n",
    "Hints: https://databricks.com/blog/2015/02/17/introducing-dataframes-in-spark-for-large-scale-data-science.html"
   ]
  },
  {
   "cell_type": "code",
   "execution_count": 16,
   "metadata": {
    "collapsed": true
   },
   "outputs": [],
   "source": [
    "people = [(\"john\", 23), (\"mr. bean\", 56), (\"bill clinton\", 70)]"
   ]
  },
  {
   "cell_type": "code",
   "execution_count": 17,
   "metadata": {},
   "outputs": [
    {
     "name": "stdout",
     "output_type": "stream",
     "text": [
      "+------------+---+\n",
      "|        name|age|\n",
      "+------------+---+\n",
      "|        john| 23|\n",
      "|    mr. bean| 56|\n",
      "|bill clinton| 70|\n",
      "+------------+---+\n",
      "\n"
     ]
    }
   ],
   "source": [
    "df_people = sqlContext.createDataFrame(people, ['name', 'age'])\n",
    "df_people.show()"
   ]
  },
  {
   "cell_type": "code",
   "execution_count": 18,
   "metadata": {},
   "outputs": [
    {
     "name": "stdout",
     "output_type": "stream",
     "text": [
      "+----+---+\n",
      "|name|age|\n",
      "+----+---+\n",
      "|john| 23|\n",
      "+----+---+\n",
      "\n"
     ]
    }
   ],
   "source": [
    "df_people.where('age < 40').show()"
   ]
  },
  {
   "cell_type": "code",
   "execution_count": 19,
   "metadata": {},
   "outputs": [
    {
     "name": "stdout",
     "output_type": "stream",
     "text": [
      "+----+\n",
      "|name|\n",
      "+----+\n",
      "|john|\n",
      "+----+\n",
      "\n"
     ]
    }
   ],
   "source": [
    "df_people.select('name').where('age < 40').show()"
   ]
  },
  {
   "cell_type": "code",
   "execution_count": 20,
   "metadata": {
    "collapsed": true
   },
   "outputs": [],
   "source": [
    "df_people.createOrReplaceTempView('tbl_people')"
   ]
  },
  {
   "cell_type": "code",
   "execution_count": 21,
   "metadata": {},
   "outputs": [
    {
     "name": "stdout",
     "output_type": "stream",
     "text": [
      "+----+\n",
      "|name|\n",
      "+----+\n",
      "|john|\n",
      "+----+\n",
      "\n"
     ]
    }
   ],
   "source": [
    "sqlContext.sql('select name from tbl_people where age < 40').show()"
   ]
  },
  {
   "cell_type": "code",
   "execution_count": null,
   "metadata": {
    "collapsed": true
   },
   "outputs": [],
   "source": [
    "sc.stop()"
   ]
  }
 ],
 "metadata": {
  "kernelspec": {
   "display_name": "Python 3",
   "language": "python",
   "name": "python3"
  },
  "language_info": {
   "codemirror_mode": {
    "name": "ipython",
    "version": 3
   },
   "file_extension": ".py",
   "mimetype": "text/x-python",
   "name": "python",
   "nbconvert_exporter": "python",
   "pygments_lexer": "ipython3",
   "version": "3.6.0"
  }
 },
 "nbformat": 4,
 "nbformat_minor": 1
}
