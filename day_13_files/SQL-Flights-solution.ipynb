{
 "cells": [
  {
   "cell_type": "code",
   "execution_count": 6,
   "metadata": {},
   "outputs": [],
   "source": [
    "import pyspark\n",
    "#sc = pyspark.SparkContext('local[*]')"
   ]
  },
  {
   "cell_type": "markdown",
   "metadata": {},
   "source": [
    "# Spark SQLContext"
   ]
  },
  {
   "cell_type": "markdown",
   "metadata": {},
   "source": [
    "## Documentation: https://spark.apache.org/docs/latest/api/python/pyspark.sql.html"
   ]
  },
  {
   "cell_type": "markdown",
   "metadata": {},
   "source": [
    "Initilizing SQLContext"
   ]
  },
  {
   "cell_type": "code",
   "execution_count": 7,
   "metadata": {},
   "outputs": [],
   "source": [
    "!rm -rf metastore_db/\n",
    "from pyspark.sql import SQLContext\n",
    "sqlContext = SQLContext(sc)"
   ]
  },
  {
   "cell_type": "markdown",
   "metadata": {},
   "source": [
    "## Creating user-defined functions"
   ]
  },
  {
   "cell_type": "markdown",
   "metadata": {},
   "source": [
    "To use RDD in SQLContext, RDD lines have to be converted into a Row format"
   ]
  },
  {
   "cell_type": "code",
   "execution_count": 8,
   "metadata": {},
   "outputs": [],
   "source": [
    "import re\n",
    "from pyspark.sql import Row\n",
    "# Read from CSV\n",
    "def load_csv(line):\n",
    "    return re.split(\"\\\"?,\\\"?\", line)\n",
    "        \n",
    "def readInt(x):\n",
    "    try:\n",
    "        return int(x)\n",
    "    except:\n",
    "        return x\n",
    "\n",
    "def parseElement(e):\n",
    "    return Row(year=readInt(e[0]),\n",
    "    month=readInt(e[1]),\n",
    "    day=readInt(e[2]),\n",
    "    dep_time=readInt(e[3]),\n",
    "    dep_delay=readInt(e[4]),\n",
    "    arr_time=readInt(e[5]),\n",
    "    arr_delay=readInt(e[6]),\n",
    "    cancelled=e[7],\n",
    "    carrier=e[8],\n",
    "    tailnum=e[9],\n",
    "    flight=readInt(e[10]),\n",
    "    origin=e[11],\n",
    "    dest=e[12],\n",
    "    air_time=readInt(e[13]),\n",
    "    distance=readInt(e[14]),\n",
    "    hour=readInt(e[15]),\n",
    "    min=readInt(e[16])\n",
    "    )"
   ]
  },
  {
   "cell_type": "code",
   "execution_count": 9,
   "metadata": {},
   "outputs": [
    {
     "name": "stdout",
     "output_type": "stream",
     "text": [
      "--2018-10-06 15:37:33--  https://dsr-data.s3.amazonaws.com/flights/flights14.csv\n",
      "Resolving dsr-data.s3.amazonaws.com (dsr-data.s3.amazonaws.com)... 52.219.72.59\n",
      "Connecting to dsr-data.s3.amazonaws.com (dsr-data.s3.amazonaws.com)|52.219.72.59|:443... connected.\n",
      "HTTP request sent, awaiting response... 200 OK\n",
      "Length: 16150465 (15M) [text/csv]\n",
      "Saving to: ‘flights14.csv.1’\n",
      "\n",
      "100%[======================================>] 16.150.465  3,03MB/s   in 6,3s   \n",
      "\n",
      "2018-10-06 15:37:40 (2,46 MB/s) - ‘flights14.csv.1’ saved [16150465/16150465]\n",
      "\n"
     ]
    }
   ],
   "source": [
    "!wget https://dsr-data.s3.amazonaws.com/flights/flights14.csv"
   ]
  },
  {
   "cell_type": "code",
   "execution_count": 10,
   "metadata": {},
   "outputs": [],
   "source": [
    "flights = sc.textFile(\"flights14.csv\").map(load_csv).filter(lambda e: not e[0] == \"year\").map(parseElement).cache()"
   ]
  },
  {
   "cell_type": "markdown",
   "metadata": {},
   "source": [
    "Now the schema and the RDD have to be registered with the sqlContext:"
   ]
  },
  {
   "cell_type": "code",
   "execution_count": 11,
   "metadata": {
    "scrolled": false
   },
   "outputs": [],
   "source": [
    "flightsDF = sqlContext.createDataFrame(flights)"
   ]
  },
  {
   "cell_type": "code",
   "execution_count": 12,
   "metadata": {},
   "outputs": [],
   "source": [
    "flightsDF.createOrReplaceTempView(\"flight\")"
   ]
  },
  {
   "cell_type": "code",
   "execution_count": 8,
   "metadata": {},
   "outputs": [
    {
     "data": {
      "text/plain": [
       "[Row(air_time=359, arr_delay=13, arr_time=1238, cancelled='0', carrier='AA', day=1, dep_delay=14, dep_time=914, dest='LAX', distance=2475, flight=1, hour=9, min=14, month=1, origin='JFK', tailnum='N338AA', year=2014),\n",
       " Row(air_time=363, arr_delay=13, arr_time=1523, cancelled='0', carrier='AA', day=1, dep_delay=-3, dep_time=1157, dest='LAX', distance=2475, flight=3, hour=11, min=57, month=1, origin='JFK', tailnum='N335AA', year=2014),\n",
       " Row(air_time=351, arr_delay=9, arr_time=2224, cancelled='0', carrier='AA', day=1, dep_delay=2, dep_time=1902, dest='LAX', distance=2475, flight=21, hour=19, min=2, month=1, origin='JFK', tailnum='N327AA', year=2014),\n",
       " Row(air_time=350, arr_delay=1, arr_time=1706, cancelled='0', carrier='AA', day=1, dep_delay=2, dep_time=1347, dest='LAX', distance=2475, flight=117, hour=13, min=47, month=1, origin='JFK', tailnum='N319AA', year=2014),\n",
       " Row(air_time=339, arr_delay=0, arr_time=2145, cancelled='0', carrier='AA', day=1, dep_delay=4, dep_time=1824, dest='LAX', distance=2454, flight=119, hour=18, min=24, month=1, origin='EWR', tailnum='N3DEAA', year=2014)]"
      ]
     },
     "execution_count": 8,
     "metadata": {},
     "output_type": "execute_result"
    }
   ],
   "source": [
    "sqlContext.sql(\"select * from flight where dest = 'LAX'\").take(5)"
   ]
  },
  {
   "cell_type": "code",
   "execution_count": 9,
   "metadata": {},
   "outputs": [
    {
     "data": {
      "text/plain": [
       "2750"
      ]
     },
     "execution_count": 9,
     "metadata": {},
     "output_type": "execute_result"
    }
   ],
   "source": [
    "flightsDF.where(\"origin = 'JFK' AND dest = 'MIA'\").count()"
   ]
  },
  {
   "cell_type": "code",
   "execution_count": 10,
   "metadata": {},
   "outputs": [
    {
     "data": {
      "text/plain": [
       "[Row(air_time=161, arr_delay=-17, arr_time=1828, cancelled='0', carrier='AA', day=1, dep_delay=-1, dep_time=1509, dest='MIA', distance=1089, flight=145, hour=15, min=9, month=1, origin='JFK', tailnum='N5FJAA', year=2014),\n",
       " Row(air_time=166, arr_delay=-8, arr_time=1227, cancelled='0', carrier='AA', day=1, dep_delay=7, dep_time=917, dest='MIA', distance=1089, flight=1085, hour=9, min=17, month=1, origin='JFK', tailnum='N5DWAA', year=2014)]"
      ]
     },
     "execution_count": 10,
     "metadata": {},
     "output_type": "execute_result"
    }
   ],
   "source": [
    "flightsDF.where(\"origin = 'JFK' AND dest = 'MIA'\").limit(2).collect()"
   ]
  },
  {
   "cell_type": "markdown",
   "metadata": {
    "collapsed": true
   },
   "source": [
    "### Count the flights that departed early and arrived late"
   ]
  },
  {
   "cell_type": "code",
   "execution_count": 11,
   "metadata": {},
   "outputs": [
    {
     "data": {
      "text/plain": [
       "30239"
      ]
     },
     "execution_count": 11,
     "metadata": {},
     "output_type": "execute_result"
    }
   ],
   "source": [
    "flightsDF.where(\"dep_delay < 0 AND arr_delay > 0\").count()"
   ]
  },
  {
   "cell_type": "markdown",
   "metadata": {},
   "source": [
    "### Find the flightwith the longest arrival delay"
   ]
  },
  {
   "cell_type": "code",
   "execution_count": 12,
   "metadata": {},
   "outputs": [
    {
     "data": {
      "text/plain": [
       "[Row(air_time=200, arr_delay=1494, arr_time=1008, cancelled='0', carrier='AA', day=4, dep_delay=1498, dep_time=727, dest='DFW', distance=1372, flight=1381, hour=7, min=27, month=10, origin='EWR', tailnum='N4WJAA', year=2014)]"
      ]
     },
     "execution_count": 12,
     "metadata": {},
     "output_type": "execute_result"
    }
   ],
   "source": [
    "sqlContext.sql(\"select * from flight order by arr_delay desc\").take(1)"
   ]
  },
  {
   "cell_type": "code",
   "execution_count": 13,
   "metadata": {},
   "outputs": [
    {
     "data": {
      "text/plain": [
       "[Row(air_time=200, arr_delay=1494, arr_time=1008, cancelled='0', carrier='AA', day=4, dep_delay=1498, dep_time=727, dest='DFW', distance=1372, flight=1381, hour=7, min=27, month=10, origin='EWR', tailnum='N4WJAA', year=2014)]"
      ]
     },
     "execution_count": 13,
     "metadata": {},
     "output_type": "execute_result"
    }
   ],
   "source": [
    "flightsDF.sort(flightsDF.arr_delay.desc()).take(1)"
   ]
  },
  {
   "cell_type": "markdown",
   "metadata": {},
   "source": [
    "### Find the top 10 destinations ordered by the number of flights"
   ]
  },
  {
   "cell_type": "code",
   "execution_count": 14,
   "metadata": {},
   "outputs": [
    {
     "data": {
      "text/plain": [
       "[Row(dest='LAX', number=14434),\n",
       " Row(dest='ATL', number=12808),\n",
       " Row(dest='SFO', number=11907),\n",
       " Row(dest='MCO', number=11709),\n",
       " Row(dest='BOS', number=11609),\n",
       " Row(dest='ORD', number=11589),\n",
       " Row(dest='MIA', number=9928),\n",
       " Row(dest='CLT', number=9624),\n",
       " Row(dest='FLL', number=9471),\n",
       " Row(dest='DCA', number=6748)]"
      ]
     },
     "execution_count": 14,
     "metadata": {},
     "output_type": "execute_result"
    }
   ],
   "source": [
    "sqlContext.sql(\"select dest, count(1) as number from flight group by dest order by number desc\").take(10)"
   ]
  },
  {
   "cell_type": "code",
   "execution_count": 15,
   "metadata": {},
   "outputs": [
    {
     "data": {
      "text/plain": [
       "[Row(dest='LAX', count=14434),\n",
       " Row(dest='ATL', count=12808),\n",
       " Row(dest='SFO', count=11907),\n",
       " Row(dest='MCO', count=11709),\n",
       " Row(dest='BOS', count=11609),\n",
       " Row(dest='ORD', count=11589),\n",
       " Row(dest='MIA', count=9928),\n",
       " Row(dest='CLT', count=9624),\n",
       " Row(dest='FLL', count=9471),\n",
       " Row(dest='DCA', count=6748)]"
      ]
     },
     "execution_count": 15,
     "metadata": {},
     "output_type": "execute_result"
    }
   ],
   "source": [
    "from pyspark.sql.functions import *\n",
    "flightsDF.groupBy('dest').count().orderBy(desc('count')).take(10)"
   ]
  },
  {
   "cell_type": "markdown",
   "metadata": {},
   "source": [
    "### Find top 10 destinations with the worst avg arrival delay, ignoring flights that arrived early"
   ]
  },
  {
   "cell_type": "code",
   "execution_count": 16,
   "metadata": {},
   "outputs": [
    {
     "data": {
      "text/plain": [
       "[Row(dest='EGE', avg_delay=80.59016393442623),\n",
       " Row(dest='AVP', avg_delay=67.0),\n",
       " Row(dest='JAC', avg_delay=59.666666666666664),\n",
       " Row(dest='CAK', avg_delay=57.907042253521126),\n",
       " Row(dest='TUL', avg_delay=56.99152542372882),\n",
       " Row(dest='MSN', avg_delay=54.80237154150198),\n",
       " Row(dest='IAD', avg_delay=53.324599708879184),\n",
       " Row(dest='BGR', avg_delay=52.73504273504273),\n",
       " Row(dest='OKC', avg_delay=52.14503816793893),\n",
       " Row(dest='TVC', avg_delay=51.15151515151515)]"
      ]
     },
     "execution_count": 16,
     "metadata": {},
     "output_type": "execute_result"
    }
   ],
   "source": [
    "sqlContext.sql(\"select dest, avg(arr_delay) as avg_delay from flight where arr_delay > 0 group by dest order by avg_delay desc\").take(10)"
   ]
  },
  {
   "cell_type": "code",
   "execution_count": 17,
   "metadata": {},
   "outputs": [
    {
     "data": {
      "text/plain": [
       "[Row(dest='EGE', avg(arr_delay)=80.59016393442623),\n",
       " Row(dest='AVP', avg(arr_delay)=67.0),\n",
       " Row(dest='JAC', avg(arr_delay)=59.666666666666664),\n",
       " Row(dest='CAK', avg(arr_delay)=57.907042253521126),\n",
       " Row(dest='TUL', avg(arr_delay)=56.99152542372882),\n",
       " Row(dest='MSN', avg(arr_delay)=54.80237154150198),\n",
       " Row(dest='IAD', avg(arr_delay)=53.324599708879184),\n",
       " Row(dest='BGR', avg(arr_delay)=52.73504273504273),\n",
       " Row(dest='OKC', avg(arr_delay)=52.14503816793893),\n",
       " Row(dest='TVC', avg(arr_delay)=51.15151515151515)]"
      ]
     },
     "execution_count": 17,
     "metadata": {},
     "output_type": "execute_result"
    }
   ],
   "source": [
    "flightsDF.where('arr_delay > 0').groupBy('dest').avg('arr_delay').orderBy(desc('avg(arr_delay)')).take(10)"
   ]
  },
  {
   "cell_type": "markdown",
   "metadata": {},
   "source": [
    "### Take a sample of 1% of the flights and then calculate the average departure delay for that sample"
   ]
  },
  {
   "cell_type": "code",
   "execution_count": 18,
   "metadata": {},
   "outputs": [
    {
     "data": {
      "text/plain": [
       "[Row(avg(dep_delay)=13.81475604918683)]"
      ]
     },
     "execution_count": 18,
     "metadata": {},
     "output_type": "execute_result"
    }
   ],
   "source": [
    "flightsDF.sample(False,0.01).registerTempTable(\"sample_flight\")\n",
    "sqlContext.sql(\"select avg(dep_delay) from sample_flight\").collect()"
   ]
  },
  {
   "cell_type": "code",
   "execution_count": 19,
   "metadata": {},
   "outputs": [
    {
     "data": {
      "text/plain": [
       "[Row(avg(dep_delay)=12.98184627269216)]"
      ]
     },
     "execution_count": 19,
     "metadata": {},
     "output_type": "execute_result"
    }
   ],
   "source": [
    "flightsDF.sample(False,0.01).groupBy().avg('dep_delay').collect()"
   ]
  },
  {
   "cell_type": "markdown",
   "metadata": {},
   "source": [
    "### For all flights from JFK during June, show the average departure delay for each destination"
   ]
  },
  {
   "cell_type": "code",
   "execution_count": 20,
   "metadata": {},
   "outputs": [
    {
     "data": {
      "text/plain": [
       "[Row(dest='MSP', delay=28.69047619047619),\n",
       " Row(dest='SMF', delay=22.96551724137931),\n",
       " Row(dest='OAK', delay=22.75862068965517),\n",
       " Row(dest='DEN', delay=19.083333333333332),\n",
       " Row(dest='JAX', delay=18.49425287356322),\n",
       " Row(dest='CVG', delay=17.571428571428573),\n",
       " Row(dest='SAT', delay=17.17241379310345),\n",
       " Row(dest='PSE', delay=17.133333333333333),\n",
       " Row(dest='BUR', delay=16.428571428571427),\n",
       " Row(dest='SLC', delay=14.965909090909092),\n",
       " Row(dest='RSW', delay=14.913793103448276),\n",
       " Row(dest='BNA', delay=14.172413793103448),\n",
       " Row(dest='ATL', delay=13.491620111731844),\n",
       " Row(dest='IAD', delay=13.333333333333334),\n",
       " Row(dest='BOS', delay=13.006864988558352),\n",
       " Row(dest='BUF', delay=12.900826446280991),\n",
       " Row(dest='SAN', delay=12.286713286713287),\n",
       " Row(dest='SJC', delay=12.241379310344827),\n",
       " Row(dest='ORD', delay=12.136054421768707),\n",
       " Row(dest='CLT', delay=12.104803493449781),\n",
       " Row(dest='CMH', delay=11.862068965517242),\n",
       " Row(dest='SYR', delay=11.656862745098039),\n",
       " Row(dest='SEA', delay=11.639024390243902),\n",
       " Row(dest='TPA', delay=11.58235294117647),\n",
       " Row(dest='BQN', delay=11.266666666666667),\n",
       " Row(dest='MSY', delay=10.96629213483146),\n",
       " Row(dest='SFO', delay=10.873850197109068),\n",
       " Row(dest='ORF', delay=10.678571428571429),\n",
       " Row(dest='AUS', delay=10.537931034482758),\n",
       " Row(dest='CLE', delay=10.25),\n",
       " Row(dest='FLL', delay=10.187290969899665),\n",
       " Row(dest='LGB', delay=10.172413793103448),\n",
       " Row(dest='PBI', delay=10.10344827586207),\n",
       " Row(dest='ROC', delay=10.017699115044248),\n",
       " Row(dest='IND', delay=9.925925925925926),\n",
       " Row(dest='PHX', delay=9.714285714285714),\n",
       " Row(dest='LAS', delay=9.663841807909604),\n",
       " Row(dest='DFW', delay=9.101694915254237),\n",
       " Row(dest='SJU', delay=8.947368421052632),\n",
       " Row(dest='PDX', delay=8.267441860465116),\n",
       " Row(dest='MCO', delay=7.70509977827051),\n",
       " Row(dest='RDU', delay=7.691489361702128),\n",
       " Row(dest='PWM', delay=7.4453125),\n",
       " Row(dest='BWI', delay=6.896551724137931),\n",
       " Row(dest='LAX', delay=6.699814126394052),\n",
       " Row(dest='CHS', delay=6.4),\n",
       " Row(dest='ABQ', delay=5.7),\n",
       " Row(dest='DCA', delay=5.372781065088757),\n",
       " Row(dest='BTV', delay=4.851851851851852),\n",
       " Row(dest='SAV', delay=4.267857142857143),\n",
       " Row(dest='MIA', delay=4.007490636704119),\n",
       " Row(dest='MVY', delay=3.7666666666666666),\n",
       " Row(dest='HOU', delay=3.4745762711864407),\n",
       " Row(dest='STT', delay=1.1454545454545455),\n",
       " Row(dest='ACK', delay=1.0980392156862746),\n",
       " Row(dest='HYA', delay=-1.6),\n",
       " Row(dest='HNL', delay=-1.7586206896551724),\n",
       " Row(dest='PIT', delay=-1.96),\n",
       " Row(dest='SRQ', delay=-2.533333333333333),\n",
       " Row(dest='DTW', delay=-4.75)]"
      ]
     },
     "execution_count": 20,
     "metadata": {},
     "output_type": "execute_result"
    }
   ],
   "source": [
    "sqlContext.sql(\"select dest, avg(dep_delay) as delay from flight where origin='JFK' and month=6 group by dest order by delay desc\").collect()"
   ]
  },
  {
   "cell_type": "code",
   "execution_count": 21,
   "metadata": {},
   "outputs": [
    {
     "data": {
      "text/plain": [
       "[Row(dest='MSP', avg(dep_delay)=28.69047619047619),\n",
       " Row(dest='SMF', avg(dep_delay)=22.96551724137931),\n",
       " Row(dest='OAK', avg(dep_delay)=22.75862068965517),\n",
       " Row(dest='DEN', avg(dep_delay)=19.083333333333332),\n",
       " Row(dest='JAX', avg(dep_delay)=18.49425287356322),\n",
       " Row(dest='CVG', avg(dep_delay)=17.571428571428573),\n",
       " Row(dest='SAT', avg(dep_delay)=17.17241379310345),\n",
       " Row(dest='PSE', avg(dep_delay)=17.133333333333333),\n",
       " Row(dest='BUR', avg(dep_delay)=16.428571428571427),\n",
       " Row(dest='SLC', avg(dep_delay)=14.965909090909092),\n",
       " Row(dest='RSW', avg(dep_delay)=14.913793103448276),\n",
       " Row(dest='BNA', avg(dep_delay)=14.172413793103448),\n",
       " Row(dest='ATL', avg(dep_delay)=13.491620111731844),\n",
       " Row(dest='IAD', avg(dep_delay)=13.333333333333334),\n",
       " Row(dest='BOS', avg(dep_delay)=13.006864988558352),\n",
       " Row(dest='BUF', avg(dep_delay)=12.900826446280991),\n",
       " Row(dest='SAN', avg(dep_delay)=12.286713286713287),\n",
       " Row(dest='SJC', avg(dep_delay)=12.241379310344827),\n",
       " Row(dest='ORD', avg(dep_delay)=12.136054421768707),\n",
       " Row(dest='CLT', avg(dep_delay)=12.104803493449781),\n",
       " Row(dest='CMH', avg(dep_delay)=11.862068965517242),\n",
       " Row(dest='SYR', avg(dep_delay)=11.656862745098039),\n",
       " Row(dest='SEA', avg(dep_delay)=11.639024390243902),\n",
       " Row(dest='TPA', avg(dep_delay)=11.58235294117647),\n",
       " Row(dest='BQN', avg(dep_delay)=11.266666666666667),\n",
       " Row(dest='MSY', avg(dep_delay)=10.96629213483146),\n",
       " Row(dest='SFO', avg(dep_delay)=10.873850197109068),\n",
       " Row(dest='ORF', avg(dep_delay)=10.678571428571429),\n",
       " Row(dest='AUS', avg(dep_delay)=10.537931034482758),\n",
       " Row(dest='CLE', avg(dep_delay)=10.25),\n",
       " Row(dest='FLL', avg(dep_delay)=10.187290969899665),\n",
       " Row(dest='LGB', avg(dep_delay)=10.172413793103448),\n",
       " Row(dest='PBI', avg(dep_delay)=10.10344827586207),\n",
       " Row(dest='ROC', avg(dep_delay)=10.017699115044248),\n",
       " Row(dest='IND', avg(dep_delay)=9.925925925925926),\n",
       " Row(dest='PHX', avg(dep_delay)=9.714285714285714),\n",
       " Row(dest='LAS', avg(dep_delay)=9.663841807909604),\n",
       " Row(dest='DFW', avg(dep_delay)=9.101694915254237),\n",
       " Row(dest='SJU', avg(dep_delay)=8.947368421052632),\n",
       " Row(dest='PDX', avg(dep_delay)=8.267441860465116),\n",
       " Row(dest='MCO', avg(dep_delay)=7.70509977827051),\n",
       " Row(dest='RDU', avg(dep_delay)=7.691489361702128),\n",
       " Row(dest='PWM', avg(dep_delay)=7.4453125),\n",
       " Row(dest='BWI', avg(dep_delay)=6.896551724137931),\n",
       " Row(dest='LAX', avg(dep_delay)=6.699814126394052),\n",
       " Row(dest='CHS', avg(dep_delay)=6.4),\n",
       " Row(dest='ABQ', avg(dep_delay)=5.7),\n",
       " Row(dest='DCA', avg(dep_delay)=5.372781065088757),\n",
       " Row(dest='BTV', avg(dep_delay)=4.851851851851852),\n",
       " Row(dest='SAV', avg(dep_delay)=4.267857142857143),\n",
       " Row(dest='MIA', avg(dep_delay)=4.007490636704119),\n",
       " Row(dest='MVY', avg(dep_delay)=3.7666666666666666),\n",
       " Row(dest='HOU', avg(dep_delay)=3.4745762711864407),\n",
       " Row(dest='STT', avg(dep_delay)=1.1454545454545455),\n",
       " Row(dest='ACK', avg(dep_delay)=1.0980392156862746),\n",
       " Row(dest='HYA', avg(dep_delay)=-1.6),\n",
       " Row(dest='HNL', avg(dep_delay)=-1.7586206896551724),\n",
       " Row(dest='PIT', avg(dep_delay)=-1.96),\n",
       " Row(dest='SRQ', avg(dep_delay)=-2.533333333333333),\n",
       " Row(dest='DTW', avg(dep_delay)=-4.75)]"
      ]
     },
     "execution_count": 21,
     "metadata": {},
     "output_type": "execute_result"
    }
   ],
   "source": [
    "flightsDF.where(\"origin = 'JFK' and month = 6\").groupBy('dest').avg('dep_delay').orderBy(desc('avg(dep_delay)')).collect()"
   ]
  },
  {
   "cell_type": "markdown",
   "metadata": {},
   "source": [
    "### For every origin/dest pair, count the number of flights"
   ]
  },
  {
   "cell_type": "code",
   "execution_count": 22,
   "metadata": {
    "scrolled": true
   },
   "outputs": [
    {
     "data": {
      "text/plain": [
       "[Row(origin='EWR', dest='SFO', number=4539),\n",
       " Row(origin='EWR', dest='BOS', number=4268),\n",
       " Row(origin='EWR', dest='LAX', number=4226),\n",
       " Row(origin='EWR', dest='ATL', number=4182),\n",
       " Row(origin='EWR', dest='MCO', number=4164),\n",
       " Row(origin='EWR', dest='CLT', number=3921),\n",
       " Row(origin='EWR', dest='ORD', number=3272),\n",
       " Row(origin='EWR', dest='IAH', number=3073),\n",
       " Row(origin='EWR', dest='FLL', number=2909),\n",
       " Row(origin='EWR', dest='DEN', number=2243),\n",
       " Row(origin='EWR', dest='DFW', number=2224),\n",
       " Row(origin='EWR', dest='DTW', number=2149),\n",
       " Row(origin='EWR', dest='MIA', number=2094),\n",
       " Row(origin='EWR', dest='PHX', number=2002),\n",
       " Row(origin='EWR', dest='PBI', number=1874),\n",
       " Row(origin='EWR', dest='TPA', number=1833),\n",
       " Row(origin='EWR', dest='BNA', number=1797),\n",
       " Row(origin='EWR', dest='STL', number=1740),\n",
       " Row(origin='EWR', dest='LAS', number=1555),\n",
       " Row(origin='EWR', dest='MDW', number=1537),\n",
       " Row(origin='EWR', dest='MSP', number=1485),\n",
       " Row(origin='EWR', dest='SEA', number=1364),\n",
       " Row(origin='EWR', dest='DCA', number=1309),\n",
       " Row(origin='EWR', dest='IND', number=1239),\n",
       " Row(origin='EWR', dest='CVG', number=1187),\n",
       " Row(origin='EWR', dest='RIC', number=1183),\n",
       " Row(origin='EWR', dest='CLE', number=1171),\n",
       " Row(origin='EWR', dest='RSW', number=1160),\n",
       " Row(origin='EWR', dest='JAX', number=998),\n",
       " Row(origin='EWR', dest='MCI', number=995),\n",
       " Row(origin='EWR', dest='CHS', number=986),\n",
       " Row(origin='EWR', dest='MSY', number=982),\n",
       " Row(origin='EWR', dest='SJU', number=949),\n",
       " Row(origin='EWR', dest='SAN', number=884),\n",
       " Row(origin='EWR', dest='HOU', number=784),\n",
       " Row(origin='EWR', dest='CMH', number=763),\n",
       " Row(origin='EWR', dest='RDU', number=741),\n",
       " Row(origin='EWR', dest='MKE', number=676),\n",
       " Row(origin='EWR', dest='MEM', number=660),\n",
       " Row(origin='EWR', dest='SNA', number=657),\n",
       " Row(origin='EWR', dest='GSO', number=644),\n",
       " Row(origin='EWR', dest='IAD', number=629),\n",
       " Row(origin='EWR', dest='AUS', number=568),\n",
       " Row(origin='EWR', dest='DAY', number=566),\n",
       " Row(origin='EWR', dest='SAV', number=557),\n",
       " Row(origin='EWR', dest='OMA', number=544),\n",
       " Row(origin='EWR', dest='SDF', number=529),\n",
       " Row(origin='EWR', dest='GSP', number=518),\n",
       " Row(origin='EWR', dest='ROC', number=504),\n",
       " Row(origin='EWR', dest='GRR', number=490),\n",
       " Row(origin='EWR', dest='PDX', number=418),\n",
       " Row(origin='EWR', dest='PWM', number=392),\n",
       " Row(origin='EWR', dest='PIT', number=353),\n",
       " Row(origin='EWR', dest='BUF', number=334),\n",
       " Row(origin='EWR', dest='MHT', number=324),\n",
       " Row(origin='EWR', dest='HNL', number=301),\n",
       " Row(origin='EWR', dest='BTV', number=300),\n",
       " Row(origin='EWR', dest='SLC', number=285),\n",
       " Row(origin='EWR', dest='MSN', number=280),\n",
       " Row(origin='EWR', dest='BQN', number=251),\n",
       " Row(origin='EWR', dest='TYS', number=238),\n",
       " Row(origin='EWR', dest='OKC', number=223),\n",
       " Row(origin='EWR', dest='ORF', number=211),\n",
       " Row(origin='EWR', dest='BDL', number=210),\n",
       " Row(origin='EWR', dest='SAT', number=205),\n",
       " Row(origin='EWR', dest='TUL', number=201),\n",
       " Row(origin='EWR', dest='XNA', number=195),\n",
       " Row(origin='EWR', dest='BWI', number=185),\n",
       " Row(origin='EWR', dest='DSM', number=179),\n",
       " Row(origin='EWR', dest='STT', number=174),\n",
       " Row(origin='EWR', dest='PVD', number=169),\n",
       " Row(origin='EWR', dest='ALB', number=169),\n",
       " Row(origin='EWR', dest='AVL', number=145),\n",
       " Row(origin='EWR', dest='SYR', number=86),\n",
       " Row(origin='EWR', dest='EGE', number=80),\n",
       " Row(origin='EWR', dest='BZN', number=51),\n",
       " Row(origin='EWR', dest='CAE', number=21),\n",
       " Row(origin='EWR', dest='TVC', number=20),\n",
       " Row(origin='EWR', dest='JAC', number=19),\n",
       " Row(origin='EWR', dest='ANC', number=13),\n",
       " Row(origin='EWR', dest='HDN', number=13),\n",
       " Row(origin='EWR', dest='MTJ', number=12),\n",
       " Row(origin='EWR', dest='PHL', number=7),\n",
       " Row(origin='EWR', dest='SBN', number=6),\n",
       " Row(origin='EWR', dest='MDT', number=5),\n",
       " Row(origin='EWR', dest='AVP', number=1),\n",
       " Row(origin='JFK', dest='LAX', number=10208),\n",
       " Row(origin='JFK', dest='SFO', number=7368),\n",
       " Row(origin='JFK', dest='MCO', number=4467),\n",
       " Row(origin='JFK', dest='BOS', number=4111),\n",
       " Row(origin='JFK', dest='SJU', number=4027),\n",
       " Row(origin='JFK', dest='LAS', number=3355),\n",
       " Row(origin='JFK', dest='FLL', number=3258),\n",
       " Row(origin='JFK', dest='MIA', number=2750),\n",
       " Row(origin='JFK', dest='CLT', number=2272),\n",
       " Row(origin='JFK', dest='BUF', number=2164),\n",
       " Row(origin='JFK', dest='TPA', number=2019),\n",
       " Row(origin='JFK', dest='SEA', number=1815),\n",
       " Row(origin='JFK', dest='PHX', number=1784),\n",
       " Row(origin='JFK', dest='RDU', number=1770),\n",
       " Row(origin='JFK', dest='SLC', number=1706),\n",
       " Row(origin='JFK', dest='ATL', number=1701),\n",
       " Row(origin='JFK', dest='DCA', number=1686),\n",
       " Row(origin='JFK', dest='IAD', number=1604),\n",
       " Row(origin='JFK', dest='SAN', number=1402),\n",
       " Row(origin='JFK', dest='AUS', number=1370),\n",
       " Row(origin='JFK', dest='PBI', number=1362),\n",
       " Row(origin='JFK', dest='ORD', number=1265),\n",
       " Row(origin='JFK', dest='PWM', number=1076),\n",
       " Row(origin='JFK', dest='ROC', number=1036),\n",
       " Row(origin='JFK', dest='BTV', number=1004),\n",
       " Row(origin='JFK', dest='SYR', number=937),\n",
       " Row(origin='JFK', dest='MSY', number=908),\n",
       " Row(origin='JFK', dest='RSW', number=856),\n",
       " Row(origin='JFK', dest='JAX', number=843),\n",
       " Row(origin='JFK', dest='PDX', number=725),\n",
       " Row(origin='JFK', dest='CHS', number=587),\n",
       " Row(origin='JFK', dest='DEN', number=579),\n",
       " Row(origin='JFK', dest='CMH', number=576),\n",
       " Row(origin='JFK', dest='HOU', number=570),\n",
       " Row(origin='JFK', dest='BQN', number=535),\n",
       " Row(origin='JFK', dest='LGB', number=526),\n",
       " Row(origin='JFK', dest='SAV', number=514),\n",
       " Row(origin='JFK', dest='DFW', number=474),\n",
       " Row(origin='JFK', dest='MSP', number=458),\n",
       " Row(origin='JFK', dest='STT', number=450),\n",
       " Row(origin='JFK', dest='PIT', number=384),\n",
       " Row(origin='JFK', dest='SRQ', number=370),\n",
       " Row(origin='JFK', dest='BUR', number=289),\n",
       " Row(origin='JFK', dest='PSE', number=289),\n",
       " Row(origin='JFK', dest='BNA', number=284),\n",
       " Row(origin='JFK', dest='ORF', number=282),\n",
       " Row(origin='JFK', dest='BWI', number=282),\n",
       " Row(origin='JFK', dest='CVG', number=282),\n",
       " Row(origin='JFK', dest='CLE', number=280),\n",
       " Row(origin='JFK', dest='IND', number=278),\n",
       " Row(origin='JFK', dest='ABQ', number=278),\n",
       " Row(origin='JFK', dest='ACK', number=277),\n",
       " Row(origin='JFK', dest='HNL', number=260),\n",
       " Row(origin='JFK', dest='SJC', number=252),\n",
       " Row(origin='JFK', dest='OAK', number=247),\n",
       " Row(origin='JFK', dest='SMF', number=246),\n",
       " Row(origin='JFK', dest='SAT', number=242),\n",
       " Row(origin='JFK', dest='DTW', number=198),\n",
       " Row(origin='JFK', dest='MVY', number=159),\n",
       " Row(origin='JFK', dest='EGE', number=85),\n",
       " Row(origin='JFK', dest='HYA', number=75),\n",
       " Row(origin='JFK', dest='PSP', number=17),\n",
       " Row(origin='JFK', dest='IAH', number=7),\n",
       " Row(origin='JFK', dest='JAC', number=1),\n",
       " Row(origin='JFK', dest='PHL', number=1),\n",
       " Row(origin='LGA', dest='ORD', number=7052),\n",
       " Row(origin='LGA', dest='ATL', number=6925),\n",
       " Row(origin='LGA', dest='MIA', number=5084),\n",
       " Row(origin='LGA', dest='DFW', number=3789),\n",
       " Row(origin='LGA', dest='DCA', number=3753),\n",
       " Row(origin='LGA', dest='DTW', number=3663),\n",
       " Row(origin='LGA', dest='CLT', number=3431),\n",
       " Row(origin='LGA', dest='FLL', number=3304),\n",
       " Row(origin='LGA', dest='BOS', number=3230),\n",
       " Row(origin='LGA', dest='MCO', number=3078),\n",
       " Row(origin='LGA', dest='DEN', number=2939),\n",
       " Row(origin='LGA', dest='BNA', number=2600),\n",
       " Row(origin='LGA', dest='RDU', number=2499),\n",
       " Row(origin='LGA', dest='IAH', number=2346),\n",
       " Row(origin='LGA', dest='PBI', number=2307),\n",
       " Row(origin='LGA', dest='MSP', number=2220),\n",
       " Row(origin='LGA', dest='CLE', number=2111),\n",
       " Row(origin='LGA', dest='STL', number=2065),\n",
       " Row(origin='LGA', dest='MDW', number=1937),\n",
       " Row(origin='LGA', dest='TPA', number=1852),\n",
       " Row(origin='LGA', dest='CMH', number=1816),\n",
       " Row(origin='LGA', dest='MKE', number=1176),\n",
       " Row(origin='LGA', dest='RIC', number=1135),\n",
       " Row(origin='LGA', dest='IAD', number=1091),\n",
       " Row(origin='LGA', dest='ORF', number=1014),\n",
       " Row(origin='LGA', dest='HOU', number=905),\n",
       " Row(origin='LGA', dest='GSO', number=868),\n",
       " Row(origin='LGA', dest='MSY', number=738),\n",
       " Row(origin='LGA', dest='CAK', number=708),\n",
       " Row(origin='LGA', dest='PHL', number=702),\n",
       " Row(origin='LGA', dest='CHS', number=574),\n",
       " Row(origin='LGA', dest='RSW', number=569),\n",
       " Row(origin='LGA', dest='SDF', number=542),\n",
       " Row(origin='LGA', dest='SRQ', number=496),\n",
       " Row(origin='LGA', dest='DAY', number=490),\n",
       " Row(origin='LGA', dest='XNA', number=441),\n",
       " Row(origin='LGA', dest='MCI', number=406),\n",
       " Row(origin='LGA', dest='CAE', number=382),\n",
       " Row(origin='LGA', dest='SAV', number=368),\n",
       " Row(origin='LGA', dest='SYR', number=332),\n",
       " Row(origin='LGA', dest='CHO', number=329),\n",
       " Row(origin='LGA', dest='BGR', number=274),\n",
       " Row(origin='LGA', dest='GRR', number=266),\n",
       " Row(origin='LGA', dest='PIT', number=262),\n",
       " Row(origin='LGA', dest='ROC', number=254),\n",
       " Row(origin='LGA', dest='BTV', number=229),\n",
       " Row(origin='LGA', dest='ILM', number=223),\n",
       " Row(origin='LGA', dest='LIT', number=204),\n",
       " Row(origin='LGA', dest='MSN', number=188),\n",
       " Row(origin='LGA', dest='BUF', number=169),\n",
       " Row(origin='LGA', dest='TYS', number=167),\n",
       " Row(origin='LGA', dest='MHT', number=146),\n",
       " Row(origin='LGA', dest='PWM', number=131),\n",
       " Row(origin='LGA', dest='ROA', number=125),\n",
       " Row(origin='LGA', dest='BHM', number=124),\n",
       " Row(origin='LGA', dest='OMA', number=87),\n",
       " Row(origin='LGA', dest='CVG', number=78),\n",
       " Row(origin='LGA', dest='JAX', number=67),\n",
       " Row(origin='LGA', dest='IND', number=49),\n",
       " Row(origin='LGA', dest='TVC', number=36),\n",
       " Row(origin='LGA', dest='EYW', number=32),\n",
       " Row(origin='LGA', dest='DAL', number=15),\n",
       " Row(origin='LGA', dest='BZN', number=15),\n",
       " Row(origin='LGA', dest='MYR', number=11),\n",
       " Row(origin='LGA', dest='AGS', number=3),\n",
       " Row(origin='LGA', dest='GSP', number=3),\n",
       " Row(origin='LGA', dest='MEM', number=3),\n",
       " Row(origin='LGA', dest='SBN', number=2),\n",
       " Row(origin='LGA', dest='AVL', number=2),\n",
       " Row(origin='LGA', dest='DSM', number=1)]"
      ]
     },
     "execution_count": 22,
     "metadata": {},
     "output_type": "execute_result"
    }
   ],
   "source": [
    "sqlContext.sql(\"select origin, dest, count(1) as number from flight group by origin, dest order by origin, number desc\").collect()"
   ]
  },
  {
   "cell_type": "code",
   "execution_count": 23,
   "metadata": {
    "scrolled": true
   },
   "outputs": [
    {
     "data": {
      "text/plain": [
       "[Row(origin='EWR', dest='SFO', count=4539),\n",
       " Row(origin='EWR', dest='BOS', count=4268),\n",
       " Row(origin='EWR', dest='LAX', count=4226),\n",
       " Row(origin='EWR', dest='ATL', count=4182),\n",
       " Row(origin='EWR', dest='MCO', count=4164),\n",
       " Row(origin='EWR', dest='CLT', count=3921),\n",
       " Row(origin='EWR', dest='ORD', count=3272),\n",
       " Row(origin='EWR', dest='IAH', count=3073),\n",
       " Row(origin='EWR', dest='FLL', count=2909),\n",
       " Row(origin='EWR', dest='DEN', count=2243),\n",
       " Row(origin='EWR', dest='DFW', count=2224),\n",
       " Row(origin='EWR', dest='DTW', count=2149),\n",
       " Row(origin='EWR', dest='MIA', count=2094),\n",
       " Row(origin='EWR', dest='PHX', count=2002),\n",
       " Row(origin='EWR', dest='PBI', count=1874),\n",
       " Row(origin='EWR', dest='TPA', count=1833),\n",
       " Row(origin='EWR', dest='BNA', count=1797),\n",
       " Row(origin='EWR', dest='STL', count=1740),\n",
       " Row(origin='EWR', dest='LAS', count=1555),\n",
       " Row(origin='EWR', dest='MDW', count=1537),\n",
       " Row(origin='EWR', dest='MSP', count=1485),\n",
       " Row(origin='EWR', dest='SEA', count=1364),\n",
       " Row(origin='EWR', dest='DCA', count=1309),\n",
       " Row(origin='EWR', dest='IND', count=1239),\n",
       " Row(origin='EWR', dest='CVG', count=1187),\n",
       " Row(origin='EWR', dest='RIC', count=1183),\n",
       " Row(origin='EWR', dest='CLE', count=1171),\n",
       " Row(origin='EWR', dest='RSW', count=1160),\n",
       " Row(origin='EWR', dest='JAX', count=998),\n",
       " Row(origin='EWR', dest='MCI', count=995),\n",
       " Row(origin='EWR', dest='CHS', count=986),\n",
       " Row(origin='EWR', dest='MSY', count=982),\n",
       " Row(origin='EWR', dest='SJU', count=949),\n",
       " Row(origin='EWR', dest='SAN', count=884),\n",
       " Row(origin='EWR', dest='HOU', count=784),\n",
       " Row(origin='EWR', dest='CMH', count=763),\n",
       " Row(origin='EWR', dest='RDU', count=741),\n",
       " Row(origin='EWR', dest='MKE', count=676),\n",
       " Row(origin='EWR', dest='MEM', count=660),\n",
       " Row(origin='EWR', dest='SNA', count=657),\n",
       " Row(origin='EWR', dest='GSO', count=644),\n",
       " Row(origin='EWR', dest='IAD', count=629),\n",
       " Row(origin='EWR', dest='AUS', count=568),\n",
       " Row(origin='EWR', dest='DAY', count=566),\n",
       " Row(origin='EWR', dest='SAV', count=557),\n",
       " Row(origin='EWR', dest='OMA', count=544),\n",
       " Row(origin='EWR', dest='SDF', count=529),\n",
       " Row(origin='EWR', dest='GSP', count=518),\n",
       " Row(origin='EWR', dest='ROC', count=504),\n",
       " Row(origin='EWR', dest='GRR', count=490),\n",
       " Row(origin='EWR', dest='PDX', count=418),\n",
       " Row(origin='EWR', dest='PWM', count=392),\n",
       " Row(origin='EWR', dest='PIT', count=353),\n",
       " Row(origin='EWR', dest='BUF', count=334),\n",
       " Row(origin='EWR', dest='MHT', count=324),\n",
       " Row(origin='EWR', dest='HNL', count=301),\n",
       " Row(origin='EWR', dest='BTV', count=300),\n",
       " Row(origin='EWR', dest='SLC', count=285),\n",
       " Row(origin='EWR', dest='MSN', count=280),\n",
       " Row(origin='EWR', dest='BQN', count=251),\n",
       " Row(origin='EWR', dest='TYS', count=238),\n",
       " Row(origin='EWR', dest='OKC', count=223),\n",
       " Row(origin='EWR', dest='ORF', count=211),\n",
       " Row(origin='EWR', dest='BDL', count=210),\n",
       " Row(origin='EWR', dest='SAT', count=205),\n",
       " Row(origin='EWR', dest='TUL', count=201),\n",
       " Row(origin='EWR', dest='XNA', count=195),\n",
       " Row(origin='EWR', dest='BWI', count=185),\n",
       " Row(origin='EWR', dest='DSM', count=179),\n",
       " Row(origin='EWR', dest='STT', count=174),\n",
       " Row(origin='EWR', dest='PVD', count=169),\n",
       " Row(origin='EWR', dest='ALB', count=169),\n",
       " Row(origin='EWR', dest='AVL', count=145),\n",
       " Row(origin='EWR', dest='SYR', count=86),\n",
       " Row(origin='EWR', dest='EGE', count=80),\n",
       " Row(origin='EWR', dest='BZN', count=51),\n",
       " Row(origin='EWR', dest='CAE', count=21),\n",
       " Row(origin='EWR', dest='TVC', count=20),\n",
       " Row(origin='EWR', dest='JAC', count=19),\n",
       " Row(origin='EWR', dest='ANC', count=13),\n",
       " Row(origin='EWR', dest='HDN', count=13),\n",
       " Row(origin='EWR', dest='MTJ', count=12),\n",
       " Row(origin='EWR', dest='PHL', count=7),\n",
       " Row(origin='EWR', dest='SBN', count=6),\n",
       " Row(origin='EWR', dest='MDT', count=5),\n",
       " Row(origin='EWR', dest='AVP', count=1),\n",
       " Row(origin='JFK', dest='LAX', count=10208),\n",
       " Row(origin='JFK', dest='SFO', count=7368),\n",
       " Row(origin='JFK', dest='MCO', count=4467),\n",
       " Row(origin='JFK', dest='BOS', count=4111),\n",
       " Row(origin='JFK', dest='SJU', count=4027),\n",
       " Row(origin='JFK', dest='LAS', count=3355),\n",
       " Row(origin='JFK', dest='FLL', count=3258),\n",
       " Row(origin='JFK', dest='MIA', count=2750),\n",
       " Row(origin='JFK', dest='CLT', count=2272),\n",
       " Row(origin='JFK', dest='BUF', count=2164),\n",
       " Row(origin='JFK', dest='TPA', count=2019),\n",
       " Row(origin='JFK', dest='SEA', count=1815),\n",
       " Row(origin='JFK', dest='PHX', count=1784),\n",
       " Row(origin='JFK', dest='RDU', count=1770),\n",
       " Row(origin='JFK', dest='SLC', count=1706),\n",
       " Row(origin='JFK', dest='ATL', count=1701),\n",
       " Row(origin='JFK', dest='DCA', count=1686),\n",
       " Row(origin='JFK', dest='IAD', count=1604),\n",
       " Row(origin='JFK', dest='SAN', count=1402),\n",
       " Row(origin='JFK', dest='AUS', count=1370),\n",
       " Row(origin='JFK', dest='PBI', count=1362),\n",
       " Row(origin='JFK', dest='ORD', count=1265),\n",
       " Row(origin='JFK', dest='PWM', count=1076),\n",
       " Row(origin='JFK', dest='ROC', count=1036),\n",
       " Row(origin='JFK', dest='BTV', count=1004),\n",
       " Row(origin='JFK', dest='SYR', count=937),\n",
       " Row(origin='JFK', dest='MSY', count=908),\n",
       " Row(origin='JFK', dest='RSW', count=856),\n",
       " Row(origin='JFK', dest='JAX', count=843),\n",
       " Row(origin='JFK', dest='PDX', count=725),\n",
       " Row(origin='JFK', dest='CHS', count=587),\n",
       " Row(origin='JFK', dest='DEN', count=579),\n",
       " Row(origin='JFK', dest='CMH', count=576),\n",
       " Row(origin='JFK', dest='HOU', count=570),\n",
       " Row(origin='JFK', dest='BQN', count=535),\n",
       " Row(origin='JFK', dest='LGB', count=526),\n",
       " Row(origin='JFK', dest='SAV', count=514),\n",
       " Row(origin='JFK', dest='DFW', count=474),\n",
       " Row(origin='JFK', dest='MSP', count=458),\n",
       " Row(origin='JFK', dest='STT', count=450),\n",
       " Row(origin='JFK', dest='PIT', count=384),\n",
       " Row(origin='JFK', dest='SRQ', count=370),\n",
       " Row(origin='JFK', dest='BUR', count=289),\n",
       " Row(origin='JFK', dest='PSE', count=289),\n",
       " Row(origin='JFK', dest='BNA', count=284),\n",
       " Row(origin='JFK', dest='ORF', count=282),\n",
       " Row(origin='JFK', dest='BWI', count=282),\n",
       " Row(origin='JFK', dest='CVG', count=282),\n",
       " Row(origin='JFK', dest='CLE', count=280),\n",
       " Row(origin='JFK', dest='IND', count=278),\n",
       " Row(origin='JFK', dest='ABQ', count=278),\n",
       " Row(origin='JFK', dest='ACK', count=277),\n",
       " Row(origin='JFK', dest='HNL', count=260),\n",
       " Row(origin='JFK', dest='SJC', count=252),\n",
       " Row(origin='JFK', dest='OAK', count=247),\n",
       " Row(origin='JFK', dest='SMF', count=246),\n",
       " Row(origin='JFK', dest='SAT', count=242),\n",
       " Row(origin='JFK', dest='DTW', count=198),\n",
       " Row(origin='JFK', dest='MVY', count=159),\n",
       " Row(origin='JFK', dest='EGE', count=85),\n",
       " Row(origin='JFK', dest='HYA', count=75),\n",
       " Row(origin='JFK', dest='PSP', count=17),\n",
       " Row(origin='JFK', dest='IAH', count=7),\n",
       " Row(origin='JFK', dest='JAC', count=1),\n",
       " Row(origin='JFK', dest='PHL', count=1),\n",
       " Row(origin='LGA', dest='ORD', count=7052),\n",
       " Row(origin='LGA', dest='ATL', count=6925),\n",
       " Row(origin='LGA', dest='MIA', count=5084),\n",
       " Row(origin='LGA', dest='DFW', count=3789),\n",
       " Row(origin='LGA', dest='DCA', count=3753),\n",
       " Row(origin='LGA', dest='DTW', count=3663),\n",
       " Row(origin='LGA', dest='CLT', count=3431),\n",
       " Row(origin='LGA', dest='FLL', count=3304),\n",
       " Row(origin='LGA', dest='BOS', count=3230),\n",
       " Row(origin='LGA', dest='MCO', count=3078),\n",
       " Row(origin='LGA', dest='DEN', count=2939),\n",
       " Row(origin='LGA', dest='BNA', count=2600),\n",
       " Row(origin='LGA', dest='RDU', count=2499),\n",
       " Row(origin='LGA', dest='IAH', count=2346),\n",
       " Row(origin='LGA', dest='PBI', count=2307),\n",
       " Row(origin='LGA', dest='MSP', count=2220),\n",
       " Row(origin='LGA', dest='CLE', count=2111),\n",
       " Row(origin='LGA', dest='STL', count=2065),\n",
       " Row(origin='LGA', dest='MDW', count=1937),\n",
       " Row(origin='LGA', dest='TPA', count=1852),\n",
       " Row(origin='LGA', dest='CMH', count=1816),\n",
       " Row(origin='LGA', dest='MKE', count=1176),\n",
       " Row(origin='LGA', dest='RIC', count=1135),\n",
       " Row(origin='LGA', dest='IAD', count=1091),\n",
       " Row(origin='LGA', dest='ORF', count=1014),\n",
       " Row(origin='LGA', dest='HOU', count=905),\n",
       " Row(origin='LGA', dest='GSO', count=868),\n",
       " Row(origin='LGA', dest='MSY', count=738),\n",
       " Row(origin='LGA', dest='CAK', count=708),\n",
       " Row(origin='LGA', dest='PHL', count=702),\n",
       " Row(origin='LGA', dest='CHS', count=574),\n",
       " Row(origin='LGA', dest='RSW', count=569),\n",
       " Row(origin='LGA', dest='SDF', count=542),\n",
       " Row(origin='LGA', dest='SRQ', count=496),\n",
       " Row(origin='LGA', dest='DAY', count=490),\n",
       " Row(origin='LGA', dest='XNA', count=441),\n",
       " Row(origin='LGA', dest='MCI', count=406),\n",
       " Row(origin='LGA', dest='CAE', count=382),\n",
       " Row(origin='LGA', dest='SAV', count=368),\n",
       " Row(origin='LGA', dest='SYR', count=332),\n",
       " Row(origin='LGA', dest='CHO', count=329),\n",
       " Row(origin='LGA', dest='BGR', count=274),\n",
       " Row(origin='LGA', dest='GRR', count=266),\n",
       " Row(origin='LGA', dest='PIT', count=262),\n",
       " Row(origin='LGA', dest='ROC', count=254),\n",
       " Row(origin='LGA', dest='BTV', count=229),\n",
       " Row(origin='LGA', dest='ILM', count=223),\n",
       " Row(origin='LGA', dest='LIT', count=204),\n",
       " Row(origin='LGA', dest='MSN', count=188),\n",
       " Row(origin='LGA', dest='BUF', count=169),\n",
       " Row(origin='LGA', dest='TYS', count=167),\n",
       " Row(origin='LGA', dest='MHT', count=146),\n",
       " Row(origin='LGA', dest='PWM', count=131),\n",
       " Row(origin='LGA', dest='ROA', count=125),\n",
       " Row(origin='LGA', dest='BHM', count=124),\n",
       " Row(origin='LGA', dest='OMA', count=87),\n",
       " Row(origin='LGA', dest='CVG', count=78),\n",
       " Row(origin='LGA', dest='JAX', count=67),\n",
       " Row(origin='LGA', dest='IND', count=49),\n",
       " Row(origin='LGA', dest='TVC', count=36),\n",
       " Row(origin='LGA', dest='EYW', count=32),\n",
       " Row(origin='LGA', dest='DAL', count=15),\n",
       " Row(origin='LGA', dest='BZN', count=15),\n",
       " Row(origin='LGA', dest='MYR', count=11),\n",
       " Row(origin='LGA', dest='AGS', count=3),\n",
       " Row(origin='LGA', dest='GSP', count=3),\n",
       " Row(origin='LGA', dest='MEM', count=3),\n",
       " Row(origin='LGA', dest='SBN', count=2),\n",
       " Row(origin='LGA', dest='AVL', count=2),\n",
       " Row(origin='LGA', dest='DSM', count=1)]"
      ]
     },
     "execution_count": 23,
     "metadata": {},
     "output_type": "execute_result"
    }
   ],
   "source": [
    "flightsDF.groupBy(['origin','dest']).count().orderBy(['origin','count'],ascending=[1,0]).collect()"
   ]
  },
  {
   "cell_type": "code",
   "execution_count": 24,
   "metadata": {
    "collapsed": true
   },
   "outputs": [],
   "source": [
    "sc.stop()"
   ]
  },
  {
   "cell_type": "code",
   "execution_count": null,
   "metadata": {
    "collapsed": true
   },
   "outputs": [],
   "source": []
  }
 ],
 "metadata": {
  "kernelspec": {
   "display_name": "Python 3",
   "language": "python",
   "name": "python3"
  }
 },
 "nbformat": 4,
 "nbformat_minor": 1
}
