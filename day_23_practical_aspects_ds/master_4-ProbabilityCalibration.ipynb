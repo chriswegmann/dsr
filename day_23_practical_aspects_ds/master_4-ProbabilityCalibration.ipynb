{
 "cells": [
  {
   "cell_type": "markdown",
   "metadata": {},
   "source": [
    "### Load data"
   ]
  },
  {
   "cell_type": "code",
   "execution_count": 11,
   "metadata": {},
   "outputs": [
    {
     "data": {
      "text/html": [
       "<div>\n",
       "<style scoped>\n",
       "    .dataframe tbody tr th:only-of-type {\n",
       "        vertical-align: middle;\n",
       "    }\n",
       "\n",
       "    .dataframe tbody tr th {\n",
       "        vertical-align: top;\n",
       "    }\n",
       "\n",
       "    .dataframe thead th {\n",
       "        text-align: right;\n",
       "    }\n",
       "</style>\n",
       "<table border=\"1\" class=\"dataframe\">\n",
       "  <thead>\n",
       "    <tr style=\"text-align: right;\">\n",
       "      <th></th>\n",
       "      <th>label</th>\n",
       "      <th>predGbt</th>\n",
       "      <th>predReg</th>\n",
       "      <th>predReg_up</th>\n",
       "    </tr>\n",
       "  </thead>\n",
       "  <tbody>\n",
       "    <tr>\n",
       "      <th>0</th>\n",
       "      <td>1</td>\n",
       "      <td>0.072760</td>\n",
       "      <td>0.143811</td>\n",
       "      <td>0.816192</td>\n",
       "    </tr>\n",
       "    <tr>\n",
       "      <th>1</th>\n",
       "      <td>0</td>\n",
       "      <td>0.011367</td>\n",
       "      <td>0.010142</td>\n",
       "      <td>0.238092</td>\n",
       "    </tr>\n",
       "    <tr>\n",
       "      <th>2</th>\n",
       "      <td>0</td>\n",
       "      <td>0.006054</td>\n",
       "      <td>0.001968</td>\n",
       "      <td>0.055726</td>\n",
       "    </tr>\n",
       "    <tr>\n",
       "      <th>3</th>\n",
       "      <td>0</td>\n",
       "      <td>0.011367</td>\n",
       "      <td>0.004056</td>\n",
       "      <td>0.144815</td>\n",
       "    </tr>\n",
       "    <tr>\n",
       "      <th>4</th>\n",
       "      <td>0</td>\n",
       "      <td>0.010848</td>\n",
       "      <td>0.009670</td>\n",
       "      <td>0.254874</td>\n",
       "    </tr>\n",
       "  </tbody>\n",
       "</table>\n",
       "</div>"
      ],
      "text/plain": [
       "   label   predGbt   predReg  predReg_up\n",
       "0      1  0.072760  0.143811    0.816192\n",
       "1      0  0.011367  0.010142    0.238092\n",
       "2      0  0.006054  0.001968    0.055726\n",
       "3      0  0.011367  0.004056    0.144815\n",
       "4      0  0.010848  0.009670    0.254874"
      ]
     },
     "execution_count": 11,
     "metadata": {},
     "output_type": "execute_result"
    }
   ],
   "source": [
    "import pandas as pd\n",
    "predictions = pd.read_csv(\"./data/predictions_up.csv\")\n",
    "predictions.head()"
   ]
  },
  {
   "cell_type": "markdown",
   "metadata": {},
   "source": [
    "### Calibration error"
   ]
  },
  {
   "cell_type": "code",
   "execution_count": 12,
   "metadata": {},
   "outputs": [],
   "source": [
    "import math\n",
    "def calibrationError(predictions, modelName, bucketSize = 100):\n",
    "    count, sumPrediction, sumLabel = 0, 0, 0\n",
    "    bucketFraudRate = []\n",
    "    bucketPrediction = []\n",
    "    bucketErrors = []\n",
    "    for index, row in predictions.sort_values(by=[modelName]).iterrows():\n",
    "        sumLabel = sumLabel + row[\"label\"]\n",
    "        sumPrediction = sumPrediction + row[modelName]\n",
    "        count = count + 1\n",
    "        if(count == bucketSize):\n",
    "            predMean = sumPrediction / float(bucketSize)\n",
    "            fraudRate = sumLabel / float(bucketSize)\n",
    "            bucketFraudRate.append(fraudRate)\n",
    "            bucketPrediction.append(predMean)\n",
    "            bucketErrors.append(math.sqrt((predMean-fraudRate)*(predMean-fraudRate)))\n",
    "            count, sumPrediction, sumLabel = 0, 0, 0\n",
    "\n",
    "    return (bucketFraudRate, bucketPrediction, sum(bucketErrors) / float(len(bucketErrors)))"
   ]
  },
  {
   "cell_type": "code",
   "execution_count": 13,
   "metadata": {},
   "outputs": [
    {
     "data": {
      "image/png": "[encoded data removed]",
      "text/plain": [
       "<matplotlib.figure.Figure at 0x10b4cec18>"
      ]
     },
     "metadata": {},
     "output_type": "display_data"
    }
   ],
   "source": [
    "fraudRate_gbt, scores_gbt, err_gbt = calibrationError(predictions, \"predGbt\")\n",
    "fraudRate_reg, scores_reg, err_reg = calibrationError(predictions, \"predReg\")\n",
    "fraudRate_regup, scores_regup, err_regup = calibrationError(predictions, \"predReg_up\")\n",
    "%matplotlib inline\n",
    "import matplotlib.pyplot as plt\n",
    "plt.figure()\n",
    "plt.plot([0, 1], [0, 1], label = \"perfect\")\n",
    "plt.plot(scores_gbt, fraudRate_gbt, color = 'g', label = \"gbt_err:{:.3f}\".format(err_gbt))\n",
    "plt.plot(scores_reg, fraudRate_reg, color = 'b', label = \"reg:{:.3f}\".format(err_reg))\n",
    "plt.plot(scores_regup, fraudRate_regup, color = 'r', label = \"reg_up:{:.3f}\".format(err_regup))\n",
    "plt.legend()\n",
    "plt.grid()\n",
    "plt.show()"
   ]
  },
  {
   "cell_type": "markdown",
   "metadata": {},
   "source": [
    "### Calibration algorithm"
   ]
  },
  {
   "cell_type": "code",
   "execution_count": 14,
   "metadata": {},
   "outputs": [],
   "source": [
    "def trainCalibration(predictions, modelName, bucketSize = 100):\n",
    "    count, sumLabel = 0, 0\n",
    "    buckets = []\n",
    "    for index, row in predictions.sort_values(by=[modelName]).iterrows():\n",
    "        sumLabel = sumLabel + row[\"label\"]\n",
    "        count = count + 1\n",
    "        if(count == bucketSize):\n",
    "            fraudRate = sumLabel / float(bucketSize)\n",
    "            buckets.append((row[modelName], fraudRate))\n",
    "            count, sumLabel = 0, 0\n",
    "    \n",
    "    buckets.append((1,1))\n",
    "    return buckets"
   ]
  },
  {
   "cell_type": "code",
   "execution_count": 15,
   "metadata": {},
   "outputs": [],
   "source": [
    "def getCalibratedProb(p, calibBuckets):\n",
    "    i = 0\n",
    "    final_p = 0\n",
    "    while(p > calibBuckets[i][0]):\n",
    "        final_p = calibBuckets[i][1]\n",
    "        i = i+1\n",
    "    return final_p"
   ]
  },
  {
   "cell_type": "code",
   "execution_count": 16,
   "metadata": {},
   "outputs": [],
   "source": [
    "# \n",
    "predictions_train = pd.read_csv(\"./data/predictions_train_up.csv\")"
   ]
  },
  {
   "cell_type": "code",
   "execution_count": 17,
   "metadata": {},
   "outputs": [
    {
     "data": {
      "text/plain": [
       "0.020669892473118297"
      ]
     },
     "execution_count": 17,
     "metadata": {},
     "output_type": "execute_result"
    }
   ],
   "source": [
    "calibGbt = trainCalibration(predictions_train, \"predGbt\")\n",
    "predictions[\"calibGbt\"] = predictions[\"predGbt\"].map(lambda x: getCalibratedProb(x, calibGbt))\n",
    "calibrationError(predictions, \"calibGbt\")[2]"
   ]
  },
  {
   "cell_type": "code",
   "execution_count": 18,
   "metadata": {},
   "outputs": [
    {
     "data": {
      "text/plain": [
       "0.012749462365591416"
      ]
     },
     "execution_count": 18,
     "metadata": {},
     "output_type": "execute_result"
    }
   ],
   "source": [
    "calibReg = trainCalibration(predictions_train, \"predReg\")\n",
    "predictions[\"calibReg\"] = predictions[\"predReg\"].map(lambda x: getCalibratedProb(x, calibReg))\n",
    "calibrationError(predictions, \"calibReg\")[2]"
   ]
  },
  {
   "cell_type": "code",
   "execution_count": 19,
   "metadata": {},
   "outputs": [
    {
     "data": {
      "text/plain": [
       "0.02373118279569894"
      ]
     },
     "execution_count": 19,
     "metadata": {},
     "output_type": "execute_result"
    }
   ],
   "source": [
    "calibReg_up = trainCalibration(predictions_train, \"predReg_up\")\n",
    "predictions[\"calibReg_up\"] = predictions[\"predReg_up\"].map(lambda x: getCalibratedProb(x, calibReg_up))\n",
    "calibrationError(predictions, \"calibReg_up\")[2]"
   ]
  }
 ],
 "metadata": {
  "kernelspec": {
   "display_name": "Python 3",
   "language": "python",
   "name": "python3"
  },
  "language_info": {
   "codemirror_mode": {
    "name": "ipython",
    "version": 3
   },
   "file_extension": ".py",
   "mimetype": "text/x-python",
   "name": "python",
   "nbconvert_exporter": "python",
   "pygments_lexer": "ipython3",
   "version": "3.5.4"
  }
 },
 "nbformat": 4,
 "nbformat_minor": 2
}
