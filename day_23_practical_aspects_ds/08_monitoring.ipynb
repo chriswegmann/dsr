{
 "cells": [
  {
   "cell_type": "code",
   "execution_count": 210,
   "metadata": {},
   "outputs": [],
   "source": [
    "import pandas as pd\n",
    "import numpy as np\n",
    "import seaborn as sns\n",
    "import matplotlib.pyplot as plt"
   ]
  },
  {
   "cell_type": "code",
   "execution_count": 46,
   "metadata": {},
   "outputs": [],
   "source": [
    "df = pd.read_csv('amount.log', sep=';', names=['datetime','value'])\n",
    "df['datetime'] = pd.to_datetime(df['datetime'])\n",
    "df['unix_ts'] = df['datetime'].astype(np.int64)"
   ]
  },
  {
   "cell_type": "code",
   "execution_count": 244,
   "metadata": {},
   "outputs": [
    {
     "data": {
      "text/html": [
       "<div>\n",
       "<style scoped>\n",
       "    .dataframe tbody tr th:only-of-type {\n",
       "        vertical-align: middle;\n",
       "    }\n",
       "\n",
       "    .dataframe tbody tr th {\n",
       "        vertical-align: top;\n",
       "    }\n",
       "\n",
       "    .dataframe thead th {\n",
       "        text-align: right;\n",
       "    }\n",
       "</style>\n",
       "<table border=\"1\" class=\"dataframe\">\n",
       "  <thead>\n",
       "    <tr style=\"text-align: right;\">\n",
       "      <th></th>\n",
       "      <th>datetime</th>\n",
       "      <th>value</th>\n",
       "      <th>unix_ts</th>\n",
       "    </tr>\n",
       "  </thead>\n",
       "  <tbody>\n",
       "    <tr>\n",
       "      <th>0</th>\n",
       "      <td>2018-04-07 10:43:32.735173</td>\n",
       "      <td>90.0</td>\n",
       "      <td>1523097812735173000</td>\n",
       "    </tr>\n",
       "    <tr>\n",
       "      <th>1</th>\n",
       "      <td>2018-04-07 10:43:32.745919</td>\n",
       "      <td>123.0</td>\n",
       "      <td>1523097812745919000</td>\n",
       "    </tr>\n",
       "    <tr>\n",
       "      <th>2</th>\n",
       "      <td>2018-04-07 10:43:32.756769</td>\n",
       "      <td>306.0</td>\n",
       "      <td>1523097812756769000</td>\n",
       "    </tr>\n",
       "    <tr>\n",
       "      <th>3</th>\n",
       "      <td>2018-04-07 10:43:32.767120</td>\n",
       "      <td>96.0</td>\n",
       "      <td>1523097812767120000</td>\n",
       "    </tr>\n",
       "    <tr>\n",
       "      <th>4</th>\n",
       "      <td>2018-04-07 10:43:32.779127</td>\n",
       "      <td>84.0</td>\n",
       "      <td>1523097812779127000</td>\n",
       "    </tr>\n",
       "  </tbody>\n",
       "</table>\n",
       "</div>"
      ],
      "text/plain": [
       "                    datetime  value              unix_ts\n",
       "0 2018-04-07 10:43:32.735173   90.0  1523097812735173000\n",
       "1 2018-04-07 10:43:32.745919  123.0  1523097812745919000\n",
       "2 2018-04-07 10:43:32.756769  306.0  1523097812756769000\n",
       "3 2018-04-07 10:43:32.767120   96.0  1523097812767120000\n",
       "4 2018-04-07 10:43:32.779127   84.0  1523097812779127000"
      ]
     },
     "execution_count": 244,
     "metadata": {},
     "output_type": "execute_result"
    }
   ],
   "source": [
    "df.head()"
   ]
  },
  {
   "cell_type": "code",
   "execution_count": 275,
   "metadata": {},
   "outputs": [
    {
     "name": "stdout",
     "output_type": "stream",
     "text": [
      "<class 'pandas.core.frame.DataFrame'>\n",
      "Int64Index: 9999 entries, 0 to 9998\n",
      "Data columns (total 3 columns):\n",
      "datetime    9999 non-null datetime64[ns]\n",
      "value       9999 non-null float64\n",
      "unix_ts     9999 non-null int64\n",
      "dtypes: datetime64[ns](1), float64(1), int64(1)\n",
      "memory usage: 312.5 KB\n"
     ]
    }
   ],
   "source": [
    "df.info()"
   ]
  },
  {
   "cell_type": "code",
   "execution_count": 276,
   "metadata": {},
   "outputs": [],
   "source": [
    "w1 = 10           # large window (in seconds)\n",
    "w2 = 1            # small window (in seconds)\n",
    "step_size = 0.5"
   ]
  },
  {
   "cell_type": "code",
   "execution_count": 277,
   "metadata": {},
   "outputs": [],
   "source": [
    "df.sort_values('unix_ts', inplace=True)"
   ]
  },
  {
   "cell_type": "code",
   "execution_count": 278,
   "metadata": {},
   "outputs": [],
   "source": [
    "start_time = df['unix_ts'].min()\n",
    "end_time = df['unix_ts'].max()"
   ]
  },
  {
   "cell_type": "code",
   "execution_count": 279,
   "metadata": {},
   "outputs": [],
   "source": [
    "window_start = start_time\n",
    "window_end = start_time + w2 * 10**9"
   ]
  },
  {
   "cell_type": "code",
   "execution_count": 280,
   "metadata": {},
   "outputs": [],
   "source": [
    "df_shift = pd.DataFrame(columns=['time', 'mean', 'variance'])"
   ]
  },
  {
   "cell_type": "code",
   "execution_count": 281,
   "metadata": {},
   "outputs": [],
   "source": [
    "while window_end < end_time:\n",
    "    \n",
    "    df_temp = df[(df['unix_ts'] > window_start) & (df['unix_ts'] < window_end)]\n",
    "    \n",
    "    df_shift = df_shift.append({'time': df_temp['datetime'].min(),\n",
    "                                'mean': df_temp['value'].mean(), \n",
    "                                'variance': df_temp['value'].var()}, \n",
    "                                ignore_index=True)\n",
    "    window_start = window_start + step_size * 10**9\n",
    "    window_end = window_end + step_size * 10**9"
   ]
  },
  {
   "cell_type": "code",
   "execution_count": 282,
   "metadata": {},
   "outputs": [
    {
     "data": {
      "text/html": [
       "<div>\n",
       "<style scoped>\n",
       "    .dataframe tbody tr th:only-of-type {\n",
       "        vertical-align: middle;\n",
       "    }\n",
       "\n",
       "    .dataframe tbody tr th {\n",
       "        vertical-align: top;\n",
       "    }\n",
       "\n",
       "    .dataframe thead th {\n",
       "        text-align: right;\n",
       "    }\n",
       "</style>\n",
       "<table border=\"1\" class=\"dataframe\">\n",
       "  <thead>\n",
       "    <tr style=\"text-align: right;\">\n",
       "      <th></th>\n",
       "      <th>time</th>\n",
       "      <th>mean</th>\n",
       "      <th>variance</th>\n",
       "    </tr>\n",
       "  </thead>\n",
       "  <tbody>\n",
       "    <tr>\n",
       "      <th>0</th>\n",
       "      <td>2018-04-07 10:43:32.745919</td>\n",
       "      <td>283.317073</td>\n",
       "      <td>40307.009335</td>\n",
       "    </tr>\n",
       "    <tr>\n",
       "      <th>1</th>\n",
       "      <td>2018-04-07 10:43:33.245750</td>\n",
       "      <td>243.182927</td>\n",
       "      <td>47674.892051</td>\n",
       "    </tr>\n",
       "    <tr>\n",
       "      <th>2</th>\n",
       "      <td>2018-04-07 10:43:33.740975</td>\n",
       "      <td>242.000000</td>\n",
       "      <td>56144.222222</td>\n",
       "    </tr>\n",
       "    <tr>\n",
       "      <th>3</th>\n",
       "      <td>2018-04-07 10:43:34.239633</td>\n",
       "      <td>279.827160</td>\n",
       "      <td>60202.044753</td>\n",
       "    </tr>\n",
       "    <tr>\n",
       "      <th>4</th>\n",
       "      <td>2018-04-07 10:43:34.745003</td>\n",
       "      <td>270.825000</td>\n",
       "      <td>53898.070253</td>\n",
       "    </tr>\n",
       "  </tbody>\n",
       "</table>\n",
       "</div>"
      ],
      "text/plain": [
       "                        time        mean      variance\n",
       "0 2018-04-07 10:43:32.745919  283.317073  40307.009335\n",
       "1 2018-04-07 10:43:33.245750  243.182927  47674.892051\n",
       "2 2018-04-07 10:43:33.740975  242.000000  56144.222222\n",
       "3 2018-04-07 10:43:34.239633  279.827160  60202.044753\n",
       "4 2018-04-07 10:43:34.745003  270.825000  53898.070253"
      ]
     },
     "execution_count": 282,
     "metadata": {},
     "output_type": "execute_result"
    }
   ],
   "source": [
    "df_shift.head()"
   ]
  },
  {
   "cell_type": "code",
   "execution_count": 283,
   "metadata": {},
   "outputs": [
    {
     "data": {
      "image/png": "[encoded data removed]",
      "text/plain": [
       "<Figure size 432x288 with 1 Axes>"
      ]
     },
     "metadata": {
      "needs_background": "light"
     },
     "output_type": "display_data"
    }
   ],
   "source": [
    "sns.lineplot(df_shift['time'], df_shift['mean']);"
   ]
  },
  {
   "cell_type": "code",
   "execution_count": 284,
   "metadata": {},
   "outputs": [
    {
     "data": {
      "image/png": "[encoded data removed]",
      "text/plain": [
       "<Figure size 432x288 with 1 Axes>"
      ]
     },
     "metadata": {
      "needs_background": "light"
     },
     "output_type": "display_data"
    }
   ],
   "source": [
    "sns.lineplot(df_shift['time'], df_shift['variance']);"
   ]
  }
 ],
 "metadata": {
  "kernelspec": {
   "display_name": "Python 3",
   "language": "python",
   "name": "python3"
  },
  "language_info": {
   "codemirror_mode": {
    "name": "ipython",
    "version": 3
   },
   "file_extension": ".py",
   "mimetype": "text/x-python",
   "name": "python",
   "nbconvert_exporter": "python",
   "pygments_lexer": "ipython3",
   "version": "3.6.6"
  }
 },
 "nbformat": 4,
 "nbformat_minor": 2
}
