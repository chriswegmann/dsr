{
 "cells": [
  {
   "cell_type": "code",
   "execution_count": 58,
   "metadata": {},
   "outputs": [],
   "source": [
    "import keras\n",
    "from keras.datasets import fashion_mnist\n",
    "from keras import models, layers\n",
    "%matplotlib inline\n",
    "import matplotlib.pyplot as plt\n",
    "import numpy as np\n",
    "#print(keras.__version__)"
   ]
  },
  {
   "cell_type": "markdown",
   "metadata": {},
   "source": [
    "The model could be improved by adding an additional layer and more batches (apparently 50 worked well)."
   ]
  },
  {
   "cell_type": "code",
   "execution_count": 59,
   "metadata": {},
   "outputs": [
    {
     "name": "stdout",
     "output_type": "stream",
     "text": [
      "_________________________________________________________________\n",
      "Layer (type)                 Output Shape              Param #   \n",
      "=================================================================\n",
      "dense_17 (Dense)             (None, 512)               401920    \n",
      "_________________________________________________________________\n",
      "dense_18 (Dense)             (None, 300)               153900    \n",
      "_________________________________________________________________\n",
      "dense_19 (Dense)             (None, 10)                3010      \n",
      "=================================================================\n",
      "Total params: 558,830\n",
      "Trainable params: 558,830\n",
      "Non-trainable params: 0\n",
      "_________________________________________________________________\n"
     ]
    }
   ],
   "source": [
    "model = models.Sequential()\n",
    "model.add(layers.Dense(\n",
    "    512, \n",
    "    activation=\"relu\", \n",
    "    input_shape=(28 * 28,)\n",
    "))\n",
    "model.add(layers.Dense(\n",
    "    300, \n",
    "    activation=\"relu\", \n",
    "))\n",
    "model.add(layers.Dense(10, activation=\"softmax\"))\n",
    "model.summary()\n",
    "\n",
    "model.compile(\n",
    "    optimizer=\"rmsprop\",\n",
    "    loss=\"categorical_crossentropy\",\n",
    "    metrics=[\"accuracy\"]\n",
    ")"
   ]
  },
  {
   "cell_type": "code",
   "execution_count": 60,
   "metadata": {},
   "outputs": [
    {
     "name": "stdout",
     "output_type": "stream",
     "text": [
      "Train: (60000, 28, 28)\n",
      "Test: (10000, 28, 28)\n"
     ]
    },
    {
     "data": {
      "image/png": "[encoded data removed]",
      "text/plain": [
       "<matplotlib.figure.Figure at 0x26205c38b38>"
      ]
     },
     "metadata": {
      "needs_background": "light"
     },
     "output_type": "display_data"
    },
    {
     "data": {
      "image/png": "[encoded data removed]",
      "text/plain": [
       "<matplotlib.figure.Figure at 0x26206248a90>"
      ]
     },
     "metadata": {
      "needs_background": "light"
     },
     "output_type": "display_data"
    },
    {
     "data": {
      "image/png": "[encoded data removed]",
      "text/plain": [
       "<matplotlib.figure.Figure at 0x262058c25c0>"
      ]
     },
     "metadata": {
      "needs_background": "light"
     },
     "output_type": "display_data"
    },
    {
     "name": "stdout",
     "output_type": "stream",
     "text": [
      "Before: 9\n",
      "After: [0. 0. 0. 0. 0. 0. 0. 0. 0. 1.]\n"
     ]
    }
   ],
   "source": [
    "(train_images, train_labels), (test_images, test_labels) = fashion_mnist.load_data()\n",
    "print(\"Train:\", train_images.shape)\n",
    "print(\"Test:\", test_images.shape)\n",
    "\n",
    "for i in range(3):\n",
    "    plt.imshow(train_images[i], cmap=\"gray\")\n",
    "    plt.title(\"image \" + str(i) + \": \" + str(train_labels[i]))\n",
    "    plt.show()\n",
    "\n",
    "train_images = train_images.reshape((60000, 28 * 28))\n",
    "train_images = train_images.astype(\"float32\") / 255.0\n",
    "\n",
    "test_images = test_images.reshape((10000, 28 * 28))\n",
    "test_images = test_images.astype(\"float32\") / 255.0\n",
    "\n",
    "from keras.utils import to_categorical\n",
    "\n",
    "print(\"Before:\", train_labels[0])\n",
    "train_labels = to_categorical(train_labels)\n",
    "test_labels = to_categorical(test_labels)\n",
    "print(\"After:\", train_labels[0])"
   ]
  },
  {
   "cell_type": "code",
   "execution_count": 61,
   "metadata": {},
   "outputs": [
    {
     "name": "stdout",
     "output_type": "stream",
     "text": [
      "Epoch 1/50\n",
      "60000/60000 [==============================] - 10s 159us/step - loss: 0.5416 - acc: 0.8030\n",
      "Epoch 2/50\n",
      "60000/60000 [==============================] - 9s 153us/step - loss: 0.3753 - acc: 0.8613\n",
      "Epoch 3/50\n",
      "60000/60000 [==============================] - 9s 145us/step - loss: 0.3349 - acc: 0.8769\n",
      "Epoch 4/50\n",
      "60000/60000 [==============================] - 9s 145us/step - loss: 0.3116 - acc: 0.8849\n",
      "Epoch 5/50\n",
      "60000/60000 [==============================] - 9s 150us/step - loss: 0.2915 - acc: 0.8916\n",
      "Epoch 6/50\n",
      "60000/60000 [==============================] - 9s 148us/step - loss: 0.2799 - acc: 0.8957\n",
      "Epoch 7/50\n",
      "60000/60000 [==============================] - 9s 146us/step - loss: 0.2684 - acc: 0.9009\n",
      "Epoch 8/50\n",
      "60000/60000 [==============================] - 9s 147us/step - loss: 0.2589 - acc: 0.9043\n",
      "Epoch 9/50\n",
      "60000/60000 [==============================] - 9s 147us/step - loss: 0.2501 - acc: 0.9081\n",
      "Epoch 10/50\n",
      "60000/60000 [==============================] - 9s 147us/step - loss: 0.2405 - acc: 0.9106\n",
      "Epoch 11/50\n",
      "60000/60000 [==============================] - 9s 151us/step - loss: 0.2330 - acc: 0.9135\n",
      "Epoch 12/50\n",
      "60000/60000 [==============================] - 9s 148us/step - loss: 0.2267 - acc: 0.9158\n",
      "Epoch 13/50\n",
      "60000/60000 [==============================] - 9s 149us/step - loss: 0.2237 - acc: 0.9169\n",
      "Epoch 14/50\n",
      "60000/60000 [==============================] - 9s 149us/step - loss: 0.2171 - acc: 0.9194\n",
      "Epoch 15/50\n",
      "60000/60000 [==============================] - 9s 157us/step - loss: 0.2119 - acc: 0.9216\n",
      "Epoch 16/50\n",
      "60000/60000 [==============================] - 10s 160us/step - loss: 0.2106 - acc: 0.9214\n",
      "Epoch 17/50\n",
      "60000/60000 [==============================] - 10s 161us/step - loss: 0.2038 - acc: 0.9248\n",
      "Epoch 18/50\n",
      "60000/60000 [==============================] - 10s 160us/step - loss: 0.2026 - acc: 0.9255\n",
      "Epoch 19/50\n",
      "60000/60000 [==============================] - 9s 155us/step - loss: 0.1978 - acc: 0.9269\n",
      "Epoch 20/50\n",
      "60000/60000 [==============================] - 9s 151us/step - loss: 0.1948 - acc: 0.9277\n",
      "Epoch 21/50\n",
      "60000/60000 [==============================] - 10s 173us/step - loss: 0.1885 - acc: 0.9310\n",
      "Epoch 22/50\n",
      "60000/60000 [==============================] - 11s 175us/step - loss: 0.1858 - acc: 0.93170s - loss: 0.\n",
      "Epoch 23/50\n",
      "60000/60000 [==============================] - 10s 171us/step - loss: 0.1831 - acc: 0.9325\n",
      "Epoch 24/50\n",
      "60000/60000 [==============================] - 10s 167us/step - loss: 0.1825 - acc: 0.9340\n",
      "Epoch 25/50\n",
      "60000/60000 [==============================] - 10s 165us/step - loss: 0.1805 - acc: 0.9355\n",
      "Epoch 26/50\n",
      "60000/60000 [==============================] - 10s 166us/step - loss: 0.1795 - acc: 0.9344\n",
      "Epoch 27/50\n",
      "60000/60000 [==============================] - 10s 169us/step - loss: 0.1766 - acc: 0.9356\n",
      "Epoch 28/50\n",
      "60000/60000 [==============================] - 10s 167us/step - loss: 0.1741 - acc: 0.9385\n",
      "Epoch 29/50\n",
      "60000/60000 [==============================] - 10s 165us/step - loss: 0.1719 - acc: 0.9382\n",
      "Epoch 30/50\n",
      "60000/60000 [==============================] - 10s 173us/step - loss: 0.1707 - acc: 0.9389\n",
      "Epoch 31/50\n",
      "60000/60000 [==============================] - 10s 169us/step - loss: 0.1682 - acc: 0.9395\n",
      "Epoch 32/50\n",
      "60000/60000 [==============================] - 10s 171us/step - loss: 0.1684 - acc: 0.9396\n",
      "Epoch 33/50\n",
      "60000/60000 [==============================] - 10s 165us/step - loss: 0.1657 - acc: 0.9414\n",
      "Epoch 34/50\n",
      "60000/60000 [==============================] - 11s 180us/step - loss: 0.1630 - acc: 0.9428\n",
      "Epoch 35/50\n",
      "60000/60000 [==============================] - 11s 176us/step - loss: 0.1617 - acc: 0.9420\n",
      "Epoch 36/50\n",
      "60000/60000 [==============================] - 11s 179us/step - loss: 0.1625 - acc: 0.9429\n",
      "Epoch 37/50\n",
      "60000/60000 [==============================] - 10s 174us/step - loss: 0.1585 - acc: 0.9444\n",
      "Epoch 38/50\n",
      "60000/60000 [==============================] - 10s 175us/step - loss: 0.1553 - acc: 0.9454\n",
      "Epoch 39/50\n",
      "60000/60000 [==============================] - 12s 194us/step - loss: 0.1554 - acc: 0.9467\n",
      "Epoch 40/50\n",
      "60000/60000 [==============================] - 10s 161us/step - loss: 0.1499 - acc: 0.9472\n",
      "Epoch 41/50\n",
      "60000/60000 [==============================] - 12s 200us/step - loss: 0.1505 - acc: 0.9464\n",
      "Epoch 42/50\n",
      "60000/60000 [==============================] - 10s 162us/step - loss: 0.1476 - acc: 0.9472\n",
      "Epoch 43/50\n",
      "60000/60000 [==============================] - 10s 162us/step - loss: 0.1487 - acc: 0.94901s - loss:\n",
      "Epoch 44/50\n",
      "60000/60000 [==============================] - 11s 177us/step - loss: 0.1487 - acc: 0.9492\n",
      "Epoch 45/50\n",
      "60000/60000 [==============================] - 10s 171us/step - loss: 0.1454 - acc: 0.9494\n",
      "Epoch 46/50\n",
      "60000/60000 [==============================] - 11s 182us/step - loss: 0.1444 - acc: 0.9503\n",
      "Epoch 47/50\n",
      "60000/60000 [==============================] - 12s 194us/step - loss: 0.1433 - acc: 0.9513\n",
      "Epoch 48/50\n",
      "60000/60000 [==============================] - 12s 203us/step - loss: 0.1411 - acc: 0.9517\n",
      "Epoch 49/50\n",
      "60000/60000 [==============================] - 12s 193us/step - loss: 0.1426 - acc: 0.9511\n",
      "Epoch 50/50\n",
      "60000/60000 [==============================] - 12s 200us/step - loss: 0.1401 - acc: 0.9527\n"
     ]
    }
   ],
   "source": [
    "history = model.fit(\n",
    "    train_images, \n",
    "    train_labels, \n",
    "    epochs=50, \n",
    "    batch_size=128\n",
    ")"
   ]
  },
  {
   "cell_type": "code",
   "execution_count": 62,
   "metadata": {},
   "outputs": [
    {
     "data": {
      "image/png": "[encoded data removed]",
      "text/plain": [
       "<matplotlib.figure.Figure at 0x2620021a438>"
      ]
     },
     "metadata": {
      "needs_background": "light"
     },
     "output_type": "display_data"
    },
    {
     "data": {
      "image/png": "[encoded data removed]",
      "text/plain": [
       "<matplotlib.figure.Figure at 0x262002237f0>"
      ]
     },
     "metadata": {
      "needs_background": "light"
     },
     "output_type": "display_data"
    }
   ],
   "source": [
    "plt.plot(history.history[\"loss\"], label=\"loss\")\n",
    "plt.legend()\n",
    "plt.show()\n",
    "plt.close()\n",
    "\n",
    "plt.plot(history.history[\"acc\"], label=\"acc\")\n",
    "plt.legend()\n",
    "plt.show()\n",
    "plt.close()"
   ]
  },
  {
   "cell_type": "code",
   "execution_count": 63,
   "metadata": {},
   "outputs": [
    {
     "name": "stdout",
     "output_type": "stream",
     "text": [
      "10000/10000 [==============================] - 1s 113us/step\n",
      "0.6260498329639435 0.8892\n"
     ]
    }
   ],
   "source": [
    "test_loss, test_acc = model.evaluate(test_images, test_labels)\n",
    "print(test_loss, test_acc)"
   ]
  },
  {
   "cell_type": "code",
   "execution_count": 64,
   "metadata": {},
   "outputs": [
    {
     "name": "stdout",
     "output_type": "stream",
     "text": [
      "1.0\n",
      "9\n",
      "[0. 0. 0. 0. 0. 0. 0. 0. 0. 1.]\n"
     ]
    }
   ],
   "source": [
    "print(np.max(model.predict(train_images[0:1])))\n",
    "print(np.argmax(model.predict(train_images[0:1])))\n",
    "print(train_labels[0])"
   ]
  }
 ],
 "metadata": {
  "kernelspec": {
   "display_name": "Python 3",
   "language": "python",
   "name": "python3"
  },
  "language_info": {
   "codemirror_mode": {
    "name": "ipython",
    "version": 3
   },
   "file_extension": ".py",
   "mimetype": "text/x-python",
   "name": "python",
   "nbconvert_exporter": "python",
   "pygments_lexer": "ipython3",
   "version": "3.6.4"
  }
 },
 "nbformat": 4,
 "nbformat_minor": 2
}
