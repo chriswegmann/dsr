{
 "cells": [
  {
   "cell_type": "code",
   "execution_count": 1,
   "metadata": {},
   "outputs": [
    {
     "name": "stderr",
     "output_type": "stream",
     "text": [
      "Using TensorFlow backend.\n"
     ]
    }
   ],
   "source": [
    "import keras\n",
    "from keras.datasets import mnist"
   ]
  },
  {
   "cell_type": "code",
   "execution_count": 2,
   "metadata": {},
   "outputs": [],
   "source": [
    "import numpy as np\n",
    "import random\n",
    "from sklearn.model_selection import train_test_split\n",
    "from sklearn.utils import shuffle"
   ]
  },
  {
   "cell_type": "code",
   "execution_count": 3,
   "metadata": {},
   "outputs": [
    {
     "data": {
      "text/plain": [
       "array([0, 1, 2, 3])"
      ]
     },
     "execution_count": 3,
     "metadata": {},
     "output_type": "execute_result"
    }
   ],
   "source": [
    "np.arange(4)"
   ]
  },
  {
   "cell_type": "code",
   "execution_count": 3,
   "metadata": {
    "collapsed": true
   },
   "outputs": [],
   "source": [
    "(x_train, y_train),(x_valid, y_valid) = mnist.load_data()"
   ]
  },
  {
   "cell_type": "code",
   "execution_count": 4,
   "metadata": {
    "collapsed": true
   },
   "outputs": [],
   "source": [
    "y_train = keras.utils.to_categorical(y_train, 10)\n",
    "y_valid = keras.utils.to_categorical(y_valid, 10)"
   ]
  },
  {
   "cell_type": "code",
   "execution_count": 5,
   "metadata": {},
   "outputs": [
    {
     "data": {
      "text/plain": [
       "(10000, 10)"
      ]
     },
     "execution_count": 5,
     "metadata": {},
     "output_type": "execute_result"
    }
   ],
   "source": [
    "y_valid.shape"
   ]
  },
  {
   "cell_type": "code",
   "execution_count": 6,
   "metadata": {
    "collapsed": true
   },
   "outputs": [],
   "source": [
    "from sklearn.model_selection import train_test_split\n",
    "x_t, x_v, y_t, y_v = x_train, x_valid, y_train, y_valid\n",
    "#x_t, x_v, y_t, y_v = train_test_split(x_valid, y_valid, test_size=0.2, random_state=42) "
   ]
  },
  {
   "cell_type": "code",
   "execution_count": 7,
   "metadata": {},
   "outputs": [
    {
     "name": "stdout",
     "output_type": "stream",
     "text": [
      "(60000, 28, 28) (60000, 10) (10000, 28, 28) (10000, 10)\n"
     ]
    }
   ],
   "source": [
    "print(x_t.shape, y_t.shape, x_v.shape, y_v.shape)"
   ]
  },
  {
   "cell_type": "code",
   "execution_count": 8,
   "metadata": {
    "collapsed": true
   },
   "outputs": [],
   "source": [
    "x_t = x_t.astype('float32')\n",
    "x_v = x_v.astype('float32')\n",
    "x_t /= 255\n",
    "x_v /= 255"
   ]
  },
  {
   "cell_type": "code",
   "execution_count": 10,
   "metadata": {
    "collapsed": true
   },
   "outputs": [],
   "source": [
    "x_t = x_t.reshape(x_t.shape[0], 784)\n",
    "x_v = x_v.reshape(x_v.shape[0], 784)"
   ]
  },
  {
   "cell_type": "code",
   "execution_count": 11,
   "metadata": {
    "collapsed": true
   },
   "outputs": [],
   "source": [
    "def sigmoid(z):\n",
    "    return (1 / (1 + np.exp(-z)))\n",
    "\n",
    "def sigmoid_(z):\n",
    "    return (sigmoid(z)*(1-sigmoid(z)))\n"
   ]
  },
  {
   "cell_type": "code",
   "execution_count": 33,
   "metadata": {
    "collapsed": true
   },
   "outputs": [],
   "source": [
    "class Neuralnet(object):\n",
    "    def __init__(self, size):\n",
    "        self.layers = len(size)\n",
    "        self.size = size\n",
    "        self.weights = [np.random.randn(y, x) for x, y in zip(size[:-1], size[1:])]\n",
    "        self.biases = [np.random.randn(y, 1) for y in size[1:]]\n",
    "        \n",
    "    def forward(self, a):\n",
    "        a = a.T\n",
    "        for w, b in zip(self.weights, self.biases):\n",
    "            a = sigmoid((w @ a) + b)\n",
    "        return a.T\n",
    "    \n",
    "    def SGD(self, X, y, epochs, lr, bs, test_data = False):\n",
    "        \n",
    "        if test_data: \n",
    "            X_t, y_t = test_data\n",
    "            n_test = len(X_t)\n",
    "        n = len(X)\n",
    "        for e in range(epochs):\n",
    "            X, y = shuffle(X, y, random_state=42)\n",
    "            X_batches = [X[k:k+bs] for k in range(0, n, bs)]\n",
    "            y_batches = [y[k:k+bs] for k in range(0, n, bs)]\n",
    "            for x_, y_ in zip(X_batches, y_batches):\n",
    "                self.update_minibatch(lr/bs, x_, y_)\n",
    "            \n",
    "            if test_data:\n",
    "                print (\"Epoch {0}: {1} / {2}\".format(e, self.evaluate(X_t, y_t), n_test))\n",
    "            else:\n",
    "                print (\"Epoch {} complete\".format(e))\n",
    "                \n",
    "    def update_minibatch(self,lr, x, y):\n",
    "        dW, db = self.backprop(x,y)\n",
    "        for i in range(len(self.weights)):\n",
    "            self.weights[i] = self.weights[i] - lr * dW[i]\n",
    "            self.biases[i] = self.biases[i] - lr * db[i]\n",
    "            \n",
    "            \n",
    "        \n",
    "    def backprop(self,x,y):\n",
    "        dw = [np.zeros(w.shape) for w in self.weights]\n",
    "        db = [np.zeros(b.shape) for b in self.biases]\n",
    "        a = x.T\n",
    "        activations = [a]\n",
    "        zs = []\n",
    "        for w, b in zip(self.weights, self.biases):\n",
    "            z = w @ a + b\n",
    "            zs.append(z)\n",
    "            a = sigmoid(z)\n",
    "            activations.append(a)\n",
    "        delta = (a - y.T) * sigmoid_(z)\n",
    "        #print(delta.shape)\n",
    "        dw[-1] = delta @ activations[-2].T\n",
    "        db[-1] = np.reshape(np.average(delta, axis=1),(db[-1].shape[0],1))\n",
    "        \n",
    "        for l in range(2, self.layers):\n",
    "            delta = self.weights[-l+1].T @ delta * sigmoid_(zs[-l])\n",
    "            #print(delta.shape)\n",
    "            dw[-l] = delta @ activations[-l-1].T\n",
    "            db[-l] = np.reshape(np.average(delta, axis=1),(db[-l].shape[0],1))\n",
    "        \n",
    "        return dw, db\n",
    "        \n",
    "        \n",
    "    def evaluate(self, x, y):\n",
    "        y_ = [np.argmax(a) for a in self.forward(x)]\n",
    "        y = [np.argmax(l) for l in y]\n",
    "        return sum(int(a==l) for a,l in zip(y_, y))"
   ]
  },
  {
   "cell_type": "code",
   "execution_count": 37,
   "metadata": {
    "collapsed": true
   },
   "outputs": [],
   "source": [
    "net = Neuralnet([784, 10])"
   ]
  },
  {
   "cell_type": "code",
   "execution_count": 39,
   "metadata": {},
   "outputs": [
    {
     "name": "stdout",
     "output_type": "stream",
     "text": [
      "Epoch 0: 4939 / 10000\n",
      "Epoch 1: 4963 / 10000\n",
      "Epoch 2: 4991 / 10000\n",
      "Epoch 3: 5015 / 10000\n",
      "Epoch 4: 5094 / 10000\n",
      "Epoch 5: 5672 / 10000\n",
      "Epoch 6: 5685 / 10000\n",
      "Epoch 7: 5689 / 10000\n",
      "Epoch 8: 5692 / 10000\n",
      "Epoch 9: 5703 / 10000\n",
      "Epoch 10: 5698 / 10000\n",
      "Epoch 11: 5717 / 10000\n",
      "Epoch 12: 5715 / 10000\n",
      "Epoch 13: 5715 / 10000\n",
      "Epoch 14: 5714 / 10000\n",
      "Epoch 15: 5709 / 10000\n",
      "Epoch 16: 5730 / 10000\n",
      "Epoch 17: 5723 / 10000\n",
      "Epoch 18: 5724 / 10000\n",
      "Epoch 19: 5716 / 10000\n",
      "Epoch 20: 5736 / 10000\n",
      "Epoch 21: 5730 / 10000\n",
      "Epoch 22: 5739 / 10000\n",
      "Epoch 23: 5734 / 10000\n",
      "Epoch 24: 5740 / 10000\n",
      "Epoch 25: 5714 / 10000\n",
      "Epoch 26: 5724 / 10000\n",
      "Epoch 27: 5736 / 10000\n",
      "Epoch 28: 5739 / 10000\n",
      "Epoch 29: 5732 / 10000\n"
     ]
    }
   ],
   "source": [
    "net.SGD(x_t, y_t, 30, 3.0, 16, test_data=(x_v, y_v))"
   ]
  },
  {
   "cell_type": "code",
   "execution_count": null,
   "metadata": {
    "collapsed": true
   },
   "outputs": [],
   "source": []
  },
  {
   "cell_type": "code",
   "execution_count": null,
   "metadata": {
    "collapsed": true
   },
   "outputs": [],
   "source": []
  },
  {
   "cell_type": "markdown",
   "metadata": {},
   "source": [
    "# Single fwd-pass and backprop for 1 batch"
   ]
  },
  {
   "cell_type": "code",
   "execution_count": 41,
   "metadata": {
    "collapsed": true
   },
   "outputs": [],
   "source": [
    "bs = 32 #batch size"
   ]
  },
  {
   "cell_type": "code",
   "execution_count": 42,
   "metadata": {},
   "outputs": [
    {
     "data": {
      "text/plain": [
       "(784, 32)"
      ]
     },
     "execution_count": 42,
     "metadata": {},
     "output_type": "execute_result"
    }
   ],
   "source": [
    "x = x_t[:bs].T; x.shape # take batch and transpose of ease of calculations - Features"
   ]
  },
  {
   "cell_type": "code",
   "execution_count": 43,
   "metadata": {},
   "outputs": [
    {
     "data": {
      "text/plain": [
       "(10, 32)"
      ]
     },
     "execution_count": 43,
     "metadata": {},
     "output_type": "execute_result"
    }
   ],
   "source": [
    "y = y_t[:bs].T; y.shape # take batch and transpose of ease of calculations - Labels"
   ]
  },
  {
   "cell_type": "code",
   "execution_count": 44,
   "metadata": {
    "collapsed": true
   },
   "outputs": [],
   "source": [
    "w1 = np.random.randn(128, 784) # Initialise weights for 1st layer-128 number of neurons, -784 features incoming\n",
    "b1 = np.zeros((128,1))         # Initialise biases for 1st layer  -128 number of neurons\n",
    "w2 = np.random.randn(10, 128)  # Initialise weights for 2nd layer -10 number of neurons, -128 features incoming\n",
    "b2 = np.zeros((10,1))          # Initialise biases for 2nd layer -10 number of neurons"
   ]
  },
  {
   "cell_type": "markdown",
   "metadata": {},
   "source": [
    "## Learning loop"
   ]
  },
  {
   "cell_type": "markdown",
   "metadata": {},
   "source": [
    "### Forward pass"
   ]
  },
  {
   "cell_type": "code",
   "execution_count": 45,
   "metadata": {},
   "outputs": [
    {
     "data": {
      "text/plain": [
       "(128, 32)"
      ]
     },
     "execution_count": 45,
     "metadata": {},
     "output_type": "execute_result"
    }
   ],
   "source": [
    "z1 = w1 @ x + b1; z1.shape # Vectorize calculations for 1st layer"
   ]
  },
  {
   "cell_type": "code",
   "execution_count": 46,
   "metadata": {},
   "outputs": [
    {
     "data": {
      "text/plain": [
       "(128, 32)"
      ]
     },
     "execution_count": 46,
     "metadata": {},
     "output_type": "execute_result"
    }
   ],
   "source": [
    "a1 = sigmoid(z1); a1.shape # Adding the non-linearity - sigmoid activation"
   ]
  },
  {
   "cell_type": "code",
   "execution_count": 47,
   "metadata": {},
   "outputs": [
    {
     "data": {
      "text/plain": [
       "(10, 32)"
      ]
     },
     "execution_count": 47,
     "metadata": {},
     "output_type": "execute_result"
    }
   ],
   "source": [
    "z2 = w2 @ a1 + b2; z2.shape # Vectorize calculations for 2nd/output layer"
   ]
  },
  {
   "cell_type": "code",
   "execution_count": 48,
   "metadata": {},
   "outputs": [
    {
     "data": {
      "text/plain": [
       "(10, 32)"
      ]
     },
     "execution_count": 48,
     "metadata": {},
     "output_type": "execute_result"
    }
   ],
   "source": [
    "a2 = sigmoid(z2); a2.shape # Adding the non-linearity - sigmoid activation"
   ]
  },
  {
   "cell_type": "markdown",
   "metadata": {},
   "source": [
    "### Quadratic cost"
   ]
  },
  {
   "cell_type": "code",
   "execution_count": 49,
   "metadata": {},
   "outputs": [
    {
     "data": {
      "text/plain": [
       "(10, 32)"
      ]
     },
     "execution_count": 49,
     "metadata": {},
     "output_type": "execute_result"
    }
   ],
   "source": [
    "c = (a2 - y); c.shape # Quadratic cost derivative"
   ]
  },
  {
   "cell_type": "code",
   "execution_count": 50,
   "metadata": {},
   "outputs": [
    {
     "data": {
      "text/plain": [
       "(10, 32)"
      ]
     },
     "execution_count": 50,
     "metadata": {},
     "output_type": "execute_result"
    }
   ],
   "source": [
    "zp2 = sigmoid_(z2); zp2.shape # Sigmoid prime for output activations"
   ]
  },
  {
   "cell_type": "markdown",
   "metadata": {},
   "source": [
    "### Backprop"
   ]
  },
  {
   "cell_type": "code",
   "execution_count": 51,
   "metadata": {},
   "outputs": [
    {
     "data": {
      "text/plain": [
       "(10, 32)"
      ]
     },
     "execution_count": 51,
     "metadata": {},
     "output_type": "execute_result"
    }
   ],
   "source": [
    "delta2 = c * zp2; delta2.shape # Error for last layer"
   ]
  },
  {
   "cell_type": "code",
   "execution_count": null,
   "metadata": {
    "collapsed": true
   },
   "outputs": [],
   "source": [
    "db2 = np.reshape(np.average(delta2, axis=1),(10,1)); db2.shape # Derivative of cost w.r.t biases 2nd/output layer"
   ]
  },
  {
   "cell_type": "code",
   "execution_count": null,
   "metadata": {
    "collapsed": true
   },
   "outputs": [],
   "source": [
    "dw2 = delta2 @ a1.T; dw2.shape # Derivative of cost w.r.t weights 2nd/output layer"
   ]
  },
  {
   "cell_type": "code",
   "execution_count": null,
   "metadata": {
    "collapsed": true
   },
   "outputs": [],
   "source": [
    "delta1 = (w2.T @ delta2) * sigmoid_(z1); delta1.shape # Cost/Error w.r.t 1st layer"
   ]
  },
  {
   "cell_type": "code",
   "execution_count": null,
   "metadata": {
    "collapsed": true
   },
   "outputs": [],
   "source": [
    "db1 = np.reshape(np.average(delta1, axis=1),(10,1)); db1.shape # Derivative of cost w.r.t biases 1st hidden layer"
   ]
  },
  {
   "cell_type": "code",
   "execution_count": null,
   "metadata": {
    "collapsed": true
   },
   "outputs": [],
   "source": [
    "dw1 = delta1 @ x.T; dw1.shape # # Derivative of cost w.r.t weights for 1st hidden layer  layer"
   ]
  },
  {
   "cell_type": "markdown",
   "metadata": {},
   "source": [
    "### Update weights"
   ]
  },
  {
   "cell_type": "code",
   "execution_count": null,
   "metadata": {
    "collapsed": true
   },
   "outputs": [],
   "source": [
    "w1 = w1 - 0.01*dw1/bs\n",
    "b1 = b1 - 0.01*db1/bs\n",
    "w2 = w2 - 0.01*dw2/bs\n",
    "b2 = b2 - 0.01*db2/bs"
   ]
  },
  {
   "cell_type": "code",
   "execution_count": null,
   "metadata": {
    "collapsed": true
   },
   "outputs": [],
   "source": []
  },
  {
   "cell_type": "code",
   "execution_count": null,
   "metadata": {
    "collapsed": true
   },
   "outputs": [],
   "source": []
  },
  {
   "cell_type": "code",
   "execution_count": null,
   "metadata": {
    "collapsed": true
   },
   "outputs": [],
   "source": []
  },
  {
   "cell_type": "code",
   "execution_count": null,
   "metadata": {
    "collapsed": true
   },
   "outputs": [],
   "source": []
  },
  {
   "cell_type": "code",
   "execution_count": null,
   "metadata": {
    "collapsed": true
   },
   "outputs": [],
   "source": []
  },
  {
   "cell_type": "code",
   "execution_count": null,
   "metadata": {
    "collapsed": true
   },
   "outputs": [],
   "source": []
  }
 ],
 "metadata": {
  "kernelspec": {
   "display_name": "Python 3",
   "language": "python",
   "name": "python3"
  },
  "language_info": {
   "codemirror_mode": {
    "name": "ipython",
    "version": 3
   },
   "file_extension": ".py",
   "mimetype": "text/x-python",
   "name": "python",
   "nbconvert_exporter": "python",
   "pygments_lexer": "ipython3",
   "version": "3.6.5"
  }
 },
 "nbformat": 4,
 "nbformat_minor": 2
}
