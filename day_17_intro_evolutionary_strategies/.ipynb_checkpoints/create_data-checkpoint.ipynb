{
 "cells": [
  {
   "cell_type": "code",
   "execution_count": null,
   "metadata": {
    "collapsed": false
   },
   "outputs": [],
   "source": [
    "from mss import mss\n",
    "import numpy as np\n",
    "from PIL import Image\n",
    "import cv2"
   ]
  },
  {
   "cell_type": "code",
   "execution_count": null,
   "metadata": {
    "collapsed": false
   },
   "outputs": [],
   "source": [
    "def get_frames(bbox=[60,100,1000,760]):\n",
    "    \n",
    "    mon = {'top': bbox[0], 'left': bbox[1], 'width': bbox[2], 'height': bbox[3]}\n",
    "    sct = mss()\n",
    "    sct.get_pixels(mon)\n",
    "    img = Image.frombytes('RGB', (sct.width, sct.height), sct.image)\n",
    "    return np.array(img)\n",
    "\n",
    "\n",
    "def display_frames(bbox=[60,100,1000,760]):\n",
    "    \n",
    "    while True:\n",
    "        frame = get_frames(bbox=[60,100,1000,760])\n",
    "        cv2.imshow('window',frame)#cv2.cvtColor(frame, cv2.COLOR_BGR2RGB))\n",
    "        if cv2.waitKey(25) & 0xFF == ord('q'):\n",
    "            cv2.destroyAllWindows()\n",
    "            break"
   ]
  },
  {
   "cell_type": "code",
   "execution_count": null,
   "metadata": {
    "collapsed": false
   },
   "outputs": [],
   "source": [
    "import ctypes"
   ]
  },
  {
   "cell_type": "code",
   "execution_count": null,
   "metadata": {
    "collapsed": false
   },
   "outputs": [],
   "source": [
    "from pyautogui import keyDown, keyUp, press"
   ]
  },
  {
   "cell_type": "code",
   "execution_count": null,
   "metadata": {
    "collapsed": false
   },
   "outputs": [],
   "source": [
    "import sys, termios, tty, os, time\n",
    " \n"
   ]
  },
  {
   "cell_type": "code",
   "execution_count": null,
   "metadata": {
    "collapsed": true
   },
   "outputs": [],
   "source": [
    "fd = sys.stdin.fileno()"
   ]
  },
  {
   "cell_type": "code",
   "execution_count": null,
   "metadata": {
    "collapsed": false
   },
   "outputs": [],
   "source": [
    "from curtsies import Input\n",
    "\n",
    "def main():\n",
    "    with Input(keynames='curses') as input_generator:\n",
    "        for e in input_generator:\n",
    "            print(repr(e))"
   ]
  },
  {
   "cell_type": "code",
   "execution_count": null,
   "metadata": {
    "collapsed": false
   },
   "outputs": [],
   "source": [
    "main()"
   ]
  },
  {
   "cell_type": "code",
   "execution_count": 2,
   "metadata": {
    "collapsed": false
   },
   "outputs": [
    {
     "ename": "ImportError",
     "evalue": "No module named 'getch'",
     "output_type": "error",
     "traceback": [
      "\u001b[0;31m---------------------------------------------------------------------------\u001b[0m",
      "\u001b[0;31mImportError\u001b[0m                               Traceback (most recent call last)",
      "\u001b[0;32m<ipython-input-2-787fcf41427b>\u001b[0m in \u001b[0;36m<module>\u001b[0;34m()\u001b[0m\n\u001b[0;32m----> 1\u001b[0;31m \u001b[0;32mimport\u001b[0m \u001b[0mgetch\u001b[0m\u001b[0;34m\u001b[0m\u001b[0m\n\u001b[0m\u001b[1;32m      2\u001b[0m \u001b[0;32mwhile\u001b[0m \u001b[0;32mTrue\u001b[0m\u001b[0;34m:\u001b[0m\u001b[0;34m\u001b[0m\u001b[0m\n\u001b[1;32m      3\u001b[0m     \u001b[0mchar\u001b[0m \u001b[0;34m=\u001b[0m \u001b[0mgetch\u001b[0m\u001b[0;34m.\u001b[0m\u001b[0mgetch\u001b[0m\u001b[0;34m(\u001b[0m\u001b[0;34m)\u001b[0m\u001b[0;34m\u001b[0m\u001b[0m\n\u001b[1;32m      4\u001b[0m     \u001b[0mprint\u001b[0m\u001b[0;34m(\u001b[0m\u001b[0mchar\u001b[0m\u001b[0;34m)\u001b[0m\u001b[0;34m\u001b[0m\u001b[0m\n",
      "\u001b[0;31mImportError\u001b[0m: No module named 'getch'"
     ]
    }
   ],
   "source": [
    "import getch\n",
    "while True:\n",
    "    char = getch.getch()\n",
    "    print(char)"
   ]
  },
  {
   "cell_type": "code",
   "execution_count": 4,
   "metadata": {
    "collapsed": false
   },
   "outputs": [
    {
     "ename": "ImportError",
     "evalue": "No module named 'evdev'",
     "output_type": "error",
     "traceback": [
      "\u001b[0;31m---------------------------------------------------------------------------\u001b[0m",
      "\u001b[0;31mImportError\u001b[0m                               Traceback (most recent call last)",
      "\u001b[0;32m<ipython-input-4-377d84985805>\u001b[0m in \u001b[0;36m<module>\u001b[0;34m()\u001b[0m\n\u001b[0;32m----> 1\u001b[0;31m \u001b[0;32mfrom\u001b[0m \u001b[0mevdev\u001b[0m \u001b[0;32mimport\u001b[0m \u001b[0mInputDevice\u001b[0m\u001b[0;34m,\u001b[0m \u001b[0mcategorize\u001b[0m\u001b[0;34m,\u001b[0m \u001b[0mecodes\u001b[0m\u001b[0;34m\u001b[0m\u001b[0m\n\u001b[0m\u001b[1;32m      2\u001b[0m \u001b[0;32mfrom\u001b[0m \u001b[0mselect\u001b[0m \u001b[0;32mimport\u001b[0m \u001b[0mselect\u001b[0m\u001b[0;34m\u001b[0m\u001b[0m\n\u001b[1;32m      3\u001b[0m \u001b[0mdev\u001b[0m \u001b[0;34m=\u001b[0m \u001b[0mInputDevice\u001b[0m\u001b[0;34m(\u001b[0m\u001b[0;34m'/dev/input/event1'\u001b[0m\u001b[0;34m)\u001b[0m\u001b[0;34m\u001b[0m\u001b[0m\n\u001b[1;32m      4\u001b[0m \u001b[0;34m\u001b[0m\u001b[0m\n\u001b[1;32m      5\u001b[0m \u001b[0mprint\u001b[0m\u001b[0;34m(\u001b[0m\u001b[0mdev\u001b[0m\u001b[0;34m)\u001b[0m\u001b[0;34m\u001b[0m\u001b[0m\n",
      "\u001b[0;31mImportError\u001b[0m: No module named 'evdev'"
     ]
    }
   ],
   "source": [
    ">>> from evdev import InputDevice, categorize, ecodes\n",
    ">>> from select import select\n",
    ">>> dev = InputDevice('/dev/input/event1')\n",
    "\n",
    ">>> print(dev)\n",
    "\n",
    "\n",
    ">>> while True:\n",
    "...    r,w,x = select([dev], [], [])\n",
    "...    for event in dev.read():\n",
    "...        if event.type == ecodes.EV_KEY:\n",
    "...            print(categorize(event))"
   ]
  },
  {
   "cell_type": "code",
   "execution_count": 7,
   "metadata": {
    "collapsed": false
   },
   "outputs": [],
   "source": [
    "from __future__ import print_function\n",
    "\n",
    "# Libraries we need\n",
    "import pyxhook\n",
    "import time\n"
   ]
  },
  {
   "cell_type": "code",
   "execution_count": 10,
   "metadata": {
    "collapsed": false
   },
   "outputs": [],
   "source": [
    "def get_key():\n",
    "    # This function is called every time a key is presssed\n",
    "    def kbevent(event):\n",
    "        global running\n",
    "        # print key info\n",
    "        print(event.Key)\n",
    "\n",
    "        # If the ascii value matches spacebar, terminate the while loop\n",
    "        if event.Ascii == 32:\n",
    "            running = False\n",
    "        #return (event.key)\n",
    "\n",
    "    # Create hookmanager\n",
    "    hookman = pyxhook.HookManager()\n",
    "    # Define our callback to fire when a key is pressed down\n",
    "    hookman.KeyDown = kbevent\n",
    "    # Hook the keyboard\n",
    "    hookman.HookKeyboard()\n",
    "    # Start our listener\n",
    "    hookman.start()\n",
    "\n",
    "    # Create a loop to keep the application running\n",
    "    running = True\n",
    "    #return(event.key)\n",
    "    while running:\n",
    "        time.sleep(0.1)\n",
    "\n",
    "    # Close the listener when we are done\n",
    "    hookman.cancel()"
   ]
  },
  {
   "cell_type": "code",
   "execution_count": 11,
   "metadata": {
    "collapsed": false
   },
   "outputs": [
    {
     "name": "stdout",
     "output_type": "stream",
     "text": [
      "<function get_key at 0x7fd22574b950>\n"
     ]
    }
   ],
   "source": [
    "print(get_key)"
   ]
  },
  {
   "cell_type": "code",
   "execution_count": null,
   "metadata": {
    "collapsed": true
   },
   "outputs": [],
   "source": [
    "wwww"
   ]
  }
 ],
 "metadata": {
  "kernelspec": {
   "display_name": "Python 3",
   "language": "python",
   "name": "python3"
  },
  "language_info": {
   "codemirror_mode": {
    "name": "ipython",
    "version": 3
   },
   "file_extension": ".py",
   "mimetype": "text/x-python",
   "name": "python",
   "nbconvert_exporter": "python",
   "pygments_lexer": "ipython3",
   "version": "3.5.2"
  },
  "widgets": {
   "state": {},
   "version": "1.1.2"
  }
 },
 "nbformat": 4,
 "nbformat_minor": 2
}
