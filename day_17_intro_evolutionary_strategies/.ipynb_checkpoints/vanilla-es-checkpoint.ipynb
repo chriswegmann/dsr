{
 "cells": [
  {
   "cell_type": "code",
   "execution_count": 1,
   "metadata": {},
   "outputs": [],
   "source": [
    "import numpy as np\n",
    "import matplotlib.pyplot as plt\n",
    "import time\n",
    "import seaborn as sns\n",
    "%matplotlib inline"
   ]
  },
  {
   "cell_type": "code",
   "execution_count": 2,
   "metadata": {},
   "outputs": [
    {
     "name": "stdout",
     "output_type": "stream",
     "text": [
      "\u001b[33mWARN: gym.spaces.Box autodetected dtype as <class 'numpy.float32'>. Please provide explicit dtype.\u001b[0m\n"
     ]
    }
   ],
   "source": [
    "# import\n",
    "import gym\n",
    "env = gym.make('CartPole-v1')"
   ]
  },
  {
   "cell_type": "code",
   "execution_count": 3,
   "metadata": {},
   "outputs": [],
   "source": [
    "obs = env.reset()\n",
    "num_params = len(obs)"
   ]
  },
  {
   "cell_type": "code",
   "execution_count": 4,
   "metadata": {},
   "outputs": [],
   "source": [
    "def evaluate(W):\n",
    "    X = env.reset()\n",
    "    for t in range(1,201):\n",
    "        action = 0 if W@X < 0 else 1\n",
    "        X, reward, done, _ = env.step(action)\n",
    "        if done:\n",
    "            return t\n",
    "    return t"
   ]
  },
  {
   "cell_type": "code",
   "execution_count": null,
   "metadata": {},
   "outputs": [],
   "source": []
  },
  {
   "cell_type": "code",
   "execution_count": 6,
   "metadata": {},
   "outputs": [],
   "source": [
    "class SimpleES():\n",
    "    \"\"\"Simple Evolution strategies\"\"\"\n",
    "    def __init__(self, popsize=256):\n",
    "        self.popsize = popsize\n",
    "        self.mu = np.random.normal(0,1,4)\n",
    "        self.cov = np.full((4,4), 0.5)\n",
    "        self.best_s = self.mu\n",
    "        self.best_r = 0\n",
    "        self.first_gen = True\n",
    "    \n",
    "    def ask(self):\n",
    "        self.sols = np.random.multivariate_normal(self.mu, self.cov, self.popsize)\n",
    "        return self.sols\n",
    "        ### --- TO DO --- ###\n",
    "        # Return a list of solutions sampled from given mean and std deviation\n",
    "        # Hint: np.random.multivariate_normal\n",
    "        ### --- TO DO --- ###\n",
    "        \n",
    "    def tell(self, fit_list):\n",
    "        self.fit = fit_list\n",
    "        self.best_i = np.argmax(fit_list)\n",
    "        self.best_s_ = self.sols[self.best_i]  # best of the solutions generated in previous step\n",
    "        self.best_r_ = self.fit[self.best_i]   # reward of the best solution\n",
    "        \n",
    "        if (self.first_gen or (self.best_r < self.best_r_)):\n",
    "            self.first_gen = False\n",
    "            self.best_r = self.best_r_\n",
    "        self.mu = self.best_s_ # re-centering the normal distribution (used in ask() function)\n",
    "        \n",
    "        ### --- TO DO --- ###\n",
    "        # Find the index for best sols\n",
    "        # Hint: np.argmax\n",
    "        ### --- TO DO --- ###\n",
    "    \n",
    "    def result(self):\n",
    "        return self.mu, self.best_r, self.best_r_, None\n",
    "        # return the best fitness and solution\n",
    "        "
   ]
  },
  {
   "cell_type": "code",
   "execution_count": null,
   "metadata": {},
   "outputs": [],
   "source": []
  },
  {
   "cell_type": "code",
   "execution_count": 7,
   "metadata": {},
   "outputs": [],
   "source": [
    "class SimpleGA:\n",
    "    \"\"\"Simple Genetic Algorithm\"\"\"\n",
    "    def __init__(self, num_params, # Number of input features\n",
    "                 popsize=256,      # Number of sols that we want to generate \n",
    "                 sig_init=0.1,     # Std deviation \n",
    "                 sig_decay=0.999,  # Rate of decay for std deviation\n",
    "                 sig_lim=0.01,     # Min limit when to stop the decay\n",
    "                 elite_ratio=0.1,  # Elite popuation % to keep\n",
    "                 w_decay=0.1,      \n",
    "                 forget_best=False):\n",
    "        \n",
    "        self.num_params = num_params\n",
    "        self.popsize = popsize\n",
    "        self.sig_init = sig_init\n",
    "        self.sig_decay = sig_decay\n",
    "        self.sig_lim = sig_lim\n",
    "        self.elite_ratio = elite_ratio\n",
    "        self.w_decay = w_decay\n",
    "        self.first_gen = True\n",
    "        self.forget_best = forget_best\n",
    "        self.sig = self.sig_init\n",
    "        \n",
    "        # Initiate the size of elite population (total best sols to keep)\n",
    "        self.elite_popsize = int(self.popsize*self.elite_ratio)\n",
    "        # Initiate weights for best sols\n",
    "        self.elite_w = np.zeros((self.elite_popsize, self.num_params))\n",
    "        # Initiate fitness for best sols\n",
    "        self.elite_r = np.zeros(self.elite_popsize)\n",
    "        # Initiate parameters for best solution\n",
    "        self.best_s = np.zeros(self.num_params)\n",
    "        # Initiate best reward\n",
    "        self.best_r = 0\n",
    "        \n",
    "    def ask(self):\n",
    "        # Gaussian noise to be added after random recombination of bst sols (mating)\n",
    "        self.noise = np.random.randn(self.popsize, self.num_params)*self.sig\n",
    "        solutions = []\n",
    "        \n",
    "        ### --- TO DO --- ###\n",
    "        # Mating: generate a new solution by\n",
    "        # randomly combining parameters from two different parent(elite) solutions \n",
    "        # add gaussian noise to the newly generated solution\n",
    "        # Hint1: np.random.rand\n",
    "        # Hint2: np.random.choice\n",
    "        # Hint3: Creating a separate 'mate' function might help\n",
    "        \n",
    "        ### --- TO DO --- ###\n",
    "        \n",
    "        # convert the list to numpy array\n",
    "        solutions = np.array(solutions)\n",
    "        self.solutions = solutions\n",
    "        return solutions\n",
    "        \n",
    "    def tell(self, reward_list):\n",
    "        # assert that we have reward for every solution\n",
    "        assert (len(reward_list) == self.popsize), \"Incosistant reward size\"\n",
    "        r_list = reward_list    \n",
    "        \n",
    "        if self.forget_best or self.first_gen:\n",
    "            r = r_list\n",
    "            soln = self.solutions\n",
    "        else: \n",
    "            # add new rewards & solns to best from last genenrations.\n",
    "            r = np.concatenate([r_list,  self.elite_r])\n",
    "            soln = np.concatenate([self.solutions, self.elite_w])\n",
    "        \n",
    "        # get the indices for population with best rewards (elite population)\n",
    "        idx = r.argsort()[::-1][0:self.elite_popsize]\n",
    "        self.elite_r = r[idx]\n",
    "        self.elite_w = soln[idx]\n",
    "        \n",
    "        # best reward for this interation\n",
    "        self.best_r_ = self.elite_r[0]\n",
    "        \n",
    "        if self.first_gen or (self.best_r_ > self.best_r):\n",
    "            self.first_gen = False\n",
    "            self.best_s = np.copy(self.elite_w[0])\n",
    "            self.best_r = self.elite_r[0]\n",
    "        \n",
    "        if self.sig > self.sig_lim:\n",
    "            self.sig *= self.sig_decay\n",
    "    \n",
    "    def result(self):\n",
    "        return self.best_s, self.best_r, self.best_r_, self.sig\n",
    "        \n",
    "        "
   ]
  },
  {
   "cell_type": "code",
   "execution_count": null,
   "metadata": {},
   "outputs": [],
   "source": []
  },
  {
   "cell_type": "code",
   "execution_count": 8,
   "metadata": {},
   "outputs": [],
   "source": [
    "class SimpleNES():\n",
    "    \"\"\"Simple Natural Evolution Strategies\"\"\"\n",
    "    def __init__(self, num_params, \n",
    "                 popsize=256, \n",
    "                 sig_init=0.1, \n",
    "                 sig_decay=0.999, \n",
    "                 sig_lim=0.01, \n",
    "                 alpha = 0.1):\n",
    "        \n",
    "        self.num_params = num_params\n",
    "        self.popsize = popsize\n",
    "        self.sig_init = sig_init\n",
    "        self.sig_decay = sig_decay\n",
    "        self.sig_lim = sig_lim\n",
    "        self.first_gen = True\n",
    "        self.sig = self.sig_init\n",
    "        self.alpha = alpha\n",
    "        \n",
    "        # Initialise the memory for solutions and best solution\n",
    "        self.solutions = np.random.randn(self.popsize, self.num_params)\n",
    "        self.best_s = np.zeros(self.num_params)\n",
    "        self.best_r = 0\n",
    "        \n",
    "    def ask(self):\n",
    "        ### --- TO DO --- ###\n",
    "        # Return array of solutions with guasina noise added to it.\n",
    "        pass\n",
    "        #return solutions\n",
    "        ### --- TO DO --- ###\n",
    "        \n",
    "    def tell(self, reward_list):\n",
    "        assert (len(reward_list) == self.popsize), \"Inconsistant reward size\"\n",
    "        \n",
    "        ### --- TO DO --- ###\n",
    "        # Update best current reward and best solution\n",
    "        # ---idx = \n",
    "        # ---self.best_r_ = \n",
    "        # ---self.best_s = \n",
    "        \n",
    "        # Normalise the reward to gaussian distribution\n",
    "        # ---self.r = (reward - mean(reward)) / std(reward)\n",
    "        \n",
    "        # Perform the parameter update (SGD)\n",
    "        # ---delta = Noise weighted by respective reward (Hint: np.dot/@ and noise.T)\n",
    "        # ---j_theta = (alpha / num_solutions*sigma) * delta \n",
    "        # --- solutions = solution + j_theta\n",
    "        ### --- TO DO --- ###\n",
    "        \n",
    "        if self.first_gen or (self.best_r_ > self.best_r):\n",
    "            self.first_gen = False\n",
    "            self.best_r = self.best_r_\n",
    "        \n",
    "        if self.sig > self.sig_lim:\n",
    "            self.sig *= self.sig_decay\n",
    "            \n",
    "    def result(self):\n",
    "        return self.best_s, self.best_r, self.best_r_, self.sig\n",
    "        "
   ]
  },
  {
   "cell_type": "code",
   "execution_count": 9,
   "metadata": {},
   "outputs": [],
   "source": [
    "MY_REQUIRED_FITNESS = 199"
   ]
  },
  {
   "cell_type": "code",
   "execution_count": 11,
   "metadata": {},
   "outputs": [
    {
     "name": "stdout",
     "output_type": "stream",
     "text": [
      "1 50.0 50.0\n",
      "2 51.0 51.0\n",
      "3 51.0 28.0\n",
      "4 51.0 29.0\n",
      "5 51.0 31.0\n",
      "6 96.0 96.0\n",
      "7 96.0 61.0\n",
      "8 200.0 200.0\n"
     ]
    }
   ],
   "source": [
    "solver = SimpleES(num_params)\n",
    "e = 0\n",
    "while e < 100:\n",
    "\n",
    "    # ask the ES to give us a set of candidate solutions\n",
    "    solutions = solver.ask()\n",
    "\n",
    "    # create an array to hold the fitness results.\n",
    "    fitness_list = np.zeros(solver.popsize)\n",
    "\n",
    "    # evaluate the fitness for each given solution.\n",
    "    for i in range(solver.popsize):\n",
    "        fitness_list[i] = evaluate(solutions[i])\n",
    "\n",
    "    # give list of fitness results back to ES\n",
    "    solver.tell(fitness_list)\n",
    "\n",
    "    # get best parameter, fitness from ES\n",
    "    best_solution, best_fitness_ever, best_fitness_current, sigma = solver.result()\n",
    "    e += 1\n",
    "    print(e, best_fitness_ever, best_fitness_current)\n",
    "    #print (best_fitness)\n",
    "    if best_fitness_ever > MY_REQUIRED_FITNESS:\n",
    "        break"
   ]
  },
  {
   "cell_type": "code",
   "execution_count": null,
   "metadata": {},
   "outputs": [],
   "source": []
  },
  {
   "cell_type": "code",
   "execution_count": null,
   "metadata": {},
   "outputs": [],
   "source": []
  },
  {
   "cell_type": "code",
   "execution_count": null,
   "metadata": {},
   "outputs": [],
   "source": []
  },
  {
   "cell_type": "code",
   "execution_count": null,
   "metadata": {},
   "outputs": [],
   "source": []
  },
  {
   "cell_type": "code",
   "execution_count": null,
   "metadata": {},
   "outputs": [],
   "source": []
  },
  {
   "cell_type": "code",
   "execution_count": null,
   "metadata": {},
   "outputs": [],
   "source": []
  },
  {
   "cell_type": "code",
   "execution_count": null,
   "metadata": {},
   "outputs": [],
   "source": []
  },
  {
   "cell_type": "code",
   "execution_count": null,
   "metadata": {},
   "outputs": [],
   "source": []
  },
  {
   "cell_type": "code",
   "execution_count": null,
   "metadata": {},
   "outputs": [],
   "source": []
  }
 ],
 "metadata": {
  "kernelspec": {
   "display_name": "Python 3",
   "language": "python",
   "name": "python3"
  },
  "language_info": {
   "codemirror_mode": {
    "name": "ipython",
    "version": 3
   },
   "file_extension": ".py",
   "mimetype": "text/x-python",
   "name": "python",
   "nbconvert_exporter": "python",
   "pygments_lexer": "ipython3",
   "version": "3.6.6"
  }
 },
 "nbformat": 4,
 "nbformat_minor": 2
}
