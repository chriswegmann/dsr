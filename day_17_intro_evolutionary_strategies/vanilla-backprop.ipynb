{
 "cells": [
  {
   "cell_type": "code",
   "execution_count": 1,
   "metadata": {},
   "outputs": [
    {
     "name": "stderr",
     "output_type": "stream",
     "text": [
      "Using TensorFlow backend.\n"
     ]
    }
   ],
   "source": [
    "import keras\n",
    "from keras.datasets import mnist"
   ]
  },
  {
   "cell_type": "code",
   "execution_count": 2,
   "metadata": {},
   "outputs": [],
   "source": [
    "import numpy as np\n",
    "import random\n",
    "from sklearn.model_selection import train_test_split\n",
    "from sklearn.utils import shuffle"
   ]
  },
  {
   "cell_type": "code",
   "execution_count": 3,
   "metadata": {},
   "outputs": [
    {
     "data": {
      "text/plain": [
       "array([0, 1, 2, 3])"
      ]
     },
     "execution_count": 3,
     "metadata": {},
     "output_type": "execute_result"
    }
   ],
   "source": [
    "np.arange(4)"
   ]
  },
  {
   "cell_type": "code",
   "execution_count": 4,
   "metadata": {},
   "outputs": [],
   "source": [
    "(x_train, y_train),(x_valid, y_valid) = mnist.load_data()"
   ]
  },
  {
   "cell_type": "code",
   "execution_count": 5,
   "metadata": {},
   "outputs": [],
   "source": [
    "y_train = keras.utils.to_categorical(y_train, 10)\n",
    "y_valid = keras.utils.to_categorical(y_valid, 10)"
   ]
  },
  {
   "cell_type": "code",
   "execution_count": 6,
   "metadata": {},
   "outputs": [
    {
     "data": {
      "text/plain": [
       "(10000, 10)"
      ]
     },
     "execution_count": 6,
     "metadata": {},
     "output_type": "execute_result"
    }
   ],
   "source": [
    "y_valid.shape"
   ]
  },
  {
   "cell_type": "code",
   "execution_count": 7,
   "metadata": {},
   "outputs": [],
   "source": [
    "from sklearn.model_selection import train_test_split\n",
    "x_t, x_v, y_t, y_v = x_train, x_valid, y_train, y_valid\n",
    "#x_t, x_v, y_t, y_v = train_test_split(x_valid, y_valid, test_size=0.2, random_state=42) "
   ]
  },
  {
   "cell_type": "code",
   "execution_count": 8,
   "metadata": {},
   "outputs": [
    {
     "name": "stdout",
     "output_type": "stream",
     "text": [
      "(60000, 28, 28) (60000, 10) (10000, 28, 28) (10000, 10)\n"
     ]
    }
   ],
   "source": [
    "print(x_t.shape, y_t.shape, x_v.shape, y_v.shape)"
   ]
  },
  {
   "cell_type": "code",
   "execution_count": 9,
   "metadata": {},
   "outputs": [],
   "source": [
    "x_t = x_t.astype('float32')\n",
    "x_v = x_v.astype('float32')\n",
    "x_t /= 255\n",
    "x_v /= 255"
   ]
  },
  {
   "cell_type": "code",
   "execution_count": 10,
   "metadata": {},
   "outputs": [],
   "source": [
    "x_t = x_t.reshape(x_t.shape[0], 784)\n",
    "x_v = x_v.reshape(x_v.shape[0], 784)"
   ]
  },
  {
   "cell_type": "code",
   "execution_count": 11,
   "metadata": {},
   "outputs": [],
   "source": [
    "def sigmoid(z):\n",
    "    return (1 / (1 + np.exp(-z)))\n",
    "\n",
    "def sigmoid_(z):\n",
    "    return (sigmoid(z)*(1-sigmoid(z)))\n"
   ]
  },
  {
   "cell_type": "code",
   "execution_count": 12,
   "metadata": {},
   "outputs": [],
   "source": [
    "class Neuralnet(object):\n",
    "    def __init__(self, size):\n",
    "        self.layers = len(size)\n",
    "        self.size = size\n",
    "        self.weights = [np.random.randn(y, x) for x, y in zip(size[:-1], size[1:])]\n",
    "        self.biases = [np.random.randn(y, 1) for y in size[1:]]\n",
    "        \n",
    "    def forward(self, a):\n",
    "        a = a.T\n",
    "        for w, b in zip(self.weights, self.biases):\n",
    "            a = sigmoid((w @ a) + b)\n",
    "        return a.T\n",
    "    \n",
    "    def SGD(self, X, y, epochs, lr, bs, test_data = False):\n",
    "        \n",
    "        if test_data: \n",
    "            X_t, y_t = test_data\n",
    "            n_test = len(X_t)\n",
    "        n = len(X)\n",
    "        for e in range(epochs):\n",
    "            X, y = shuffle(X, y, random_state=42)\n",
    "            X_batches = [X[k:k+bs] for k in range(0, n, bs)]\n",
    "            y_batches = [y[k:k+bs] for k in range(0, n, bs)]\n",
    "            for x_, y_ in zip(X_batches, y_batches):\n",
    "                self.update_minibatch(lr/bs, x_, y_)\n",
    "            \n",
    "            if test_data:\n",
    "                print (\"Epoch {0}: {1} / {2}\".format(e, self.evaluate(X_t, y_t), n_test))\n",
    "            else:\n",
    "                print (\"Epoch {} complete\".format(e))\n",
    "                \n",
    "    def update_minibatch(self,lr, x, y):\n",
    "        dW, db = self.backprop(x,y)\n",
    "        for i in range(len(self.weights)):\n",
    "            self.weights[i] = self.weights[i] - lr * dW[i]\n",
    "            self.biases[i] = self.biases[i] - lr * db[i]\n",
    "            \n",
    "            \n",
    "        \n",
    "    def backprop(self,x,y):\n",
    "        dw = [np.zeros(w.shape) for w in self.weights]\n",
    "        db = [np.zeros(b.shape) for b in self.biases]\n",
    "        a = x.T\n",
    "        activations = [a]\n",
    "        zs = []\n",
    "        for w, b in zip(self.weights, self.biases):\n",
    "            z = w @ a + b\n",
    "            zs.append(z)\n",
    "            a = sigmoid(z)\n",
    "            activations.append(a)\n",
    "        delta = (a - y.T) * sigmoid_(z)\n",
    "        #print(delta.shape)\n",
    "        dw[-1] = delta @ activations[-2].T\n",
    "        db[-1] = np.reshape(np.average(delta, axis=1),(db[-1].shape[0],1))\n",
    "        \n",
    "        for l in range(2, self.layers):\n",
    "            delta = self.weights[-l+1].T @ delta * sigmoid_(zs[-l])\n",
    "            #print(delta.shape)\n",
    "            dw[-l] = delta @ activations[-l-1].T\n",
    "            db[-l] = np.reshape(np.average(delta, axis=1),(db[-l].shape[0],1))\n",
    "        \n",
    "        return dw, db\n",
    "        \n",
    "        \n",
    "    def evaluate(self, x, y):\n",
    "        y_ = [np.argmax(a) for a in self.forward(x)]\n",
    "        y = [np.argmax(l) for l in y]\n",
    "        return sum(int(a==l) for a,l in zip(y_, y))"
   ]
  },
  {
   "cell_type": "code",
   "execution_count": 13,
   "metadata": {},
   "outputs": [],
   "source": [
    "net = Neuralnet([784, 16, 16, 10])"
   ]
  },
  {
   "cell_type": "code",
   "execution_count": 14,
   "metadata": {},
   "outputs": [
    {
     "name": "stdout",
     "output_type": "stream",
     "text": [
      "Epoch 0: 8884 / 10000\n",
      "Epoch 1: 9132 / 10000\n",
      "Epoch 2: 9177 / 10000\n",
      "Epoch 3: 9230 / 10000\n",
      "Epoch 4: 9240 / 10000\n",
      "Epoch 5: 9242 / 10000\n",
      "Epoch 6: 9298 / 10000\n",
      "Epoch 7: 9310 / 10000\n",
      "Epoch 8: 9344 / 10000\n",
      "Epoch 9: 9324 / 10000\n",
      "Epoch 10: 9343 / 10000\n",
      "Epoch 11: 9293 / 10000\n",
      "Epoch 12: 9356 / 10000\n",
      "Epoch 13: 9312 / 10000\n",
      "Epoch 14: 9385 / 10000\n",
      "Epoch 15: 9383 / 10000\n",
      "Epoch 16: 9389 / 10000\n",
      "Epoch 17: 9378 / 10000\n",
      "Epoch 18: 9396 / 10000\n",
      "Epoch 19: 9403 / 10000\n",
      "Epoch 20: 9375 / 10000\n",
      "Epoch 21: 9418 / 10000\n",
      "Epoch 22: 9423 / 10000\n",
      "Epoch 23: 9350 / 10000\n",
      "Epoch 24: 9401 / 10000\n",
      "Epoch 25: 9380 / 10000\n",
      "Epoch 26: 9423 / 10000\n",
      "Epoch 27: 9417 / 10000\n",
      "Epoch 28: 9420 / 10000\n",
      "Epoch 29: 9422 / 10000\n"
     ]
    }
   ],
   "source": [
    "net.SGD(x_t, y_t, 30, 3.0, 16, test_data=(x_v, y_v))"
   ]
  },
  {
   "cell_type": "code",
   "execution_count": null,
   "metadata": {},
   "outputs": [],
   "source": []
  },
  {
   "cell_type": "code",
   "execution_count": null,
   "metadata": {},
   "outputs": [],
   "source": []
  },
  {
   "cell_type": "markdown",
   "metadata": {},
   "source": [
    "# Single fwd-pass and backprop for one batch"
   ]
  },
  {
   "cell_type": "code",
   "execution_count": 15,
   "metadata": {},
   "outputs": [],
   "source": [
    "bs = 32 #batch size"
   ]
  },
  {
   "cell_type": "code",
   "execution_count": 16,
   "metadata": {},
   "outputs": [
    {
     "data": {
      "text/plain": [
       "(784, 32)"
      ]
     },
     "execution_count": 16,
     "metadata": {},
     "output_type": "execute_result"
    }
   ],
   "source": [
    "x = x_t[:bs].T; x.shape # take batch and transpose of ease of calculations - Features"
   ]
  },
  {
   "cell_type": "code",
   "execution_count": 17,
   "metadata": {},
   "outputs": [
    {
     "data": {
      "text/plain": [
       "(10, 32)"
      ]
     },
     "execution_count": 17,
     "metadata": {},
     "output_type": "execute_result"
    }
   ],
   "source": [
    "y = y_t[:bs].T; y.shape # take batch and transpose of ease of calculations - Labels"
   ]
  },
  {
   "cell_type": "code",
   "execution_count": 18,
   "metadata": {},
   "outputs": [],
   "source": [
    "w1 = np.random.randn(128, 784) # Initialise weights for 1st layer-128 number of neurons, -784 features incoming\n",
    "b1 = np.zeros((128,1))         # Initialise biases for 1st layer  -128 number of neurons\n",
    "w2 = np.random.randn(10, 128)  # Initialise weights for 2nd layer -10 number of neurons, -128 features incoming\n",
    "b2 = np.zeros((10,1))          # Initialise biases for 2nd layer -10 number of neurons"
   ]
  },
  {
   "cell_type": "markdown",
   "metadata": {},
   "source": [
    "## Learning loop"
   ]
  },
  {
   "cell_type": "markdown",
   "metadata": {},
   "source": [
    "### Forward pass"
   ]
  },
  {
   "cell_type": "code",
   "execution_count": 19,
   "metadata": {},
   "outputs": [
    {
     "data": {
      "text/plain": [
       "(128, 32)"
      ]
     },
     "execution_count": 19,
     "metadata": {},
     "output_type": "execute_result"
    }
   ],
   "source": [
    "z1 = w1 @ x + b1; z1.shape # Vectorize calculations for 1st layer"
   ]
  },
  {
   "cell_type": "code",
   "execution_count": 20,
   "metadata": {},
   "outputs": [
    {
     "data": {
      "text/plain": [
       "(128, 32)"
      ]
     },
     "execution_count": 20,
     "metadata": {},
     "output_type": "execute_result"
    }
   ],
   "source": [
    "a1 = sigmoid(z1); a1.shape # Adding the non-linearity - sigmoid activation"
   ]
  },
  {
   "cell_type": "code",
   "execution_count": 21,
   "metadata": {},
   "outputs": [
    {
     "data": {
      "text/plain": [
       "(10, 32)"
      ]
     },
     "execution_count": 21,
     "metadata": {},
     "output_type": "execute_result"
    }
   ],
   "source": [
    "z2 = w2 @ a1 + b2; z2.shape # Vectorize calculations for 2nd/output layer"
   ]
  },
  {
   "cell_type": "code",
   "execution_count": 22,
   "metadata": {},
   "outputs": [
    {
     "data": {
      "text/plain": [
       "(10, 32)"
      ]
     },
     "execution_count": 22,
     "metadata": {},
     "output_type": "execute_result"
    }
   ],
   "source": [
    "a2 = sigmoid(z2); a2.shape # Adding the non-linearity - sigmoid activation"
   ]
  },
  {
   "cell_type": "markdown",
   "metadata": {},
   "source": [
    "### Quadratic cost"
   ]
  },
  {
   "cell_type": "code",
   "execution_count": 23,
   "metadata": {},
   "outputs": [
    {
     "data": {
      "text/plain": [
       "(10, 32)"
      ]
     },
     "execution_count": 23,
     "metadata": {},
     "output_type": "execute_result"
    }
   ],
   "source": [
    "c = (a2 - y); c.shape # Quadratic cost derivative"
   ]
  },
  {
   "cell_type": "code",
   "execution_count": 24,
   "metadata": {},
   "outputs": [
    {
     "data": {
      "text/plain": [
       "(10, 32)"
      ]
     },
     "execution_count": 24,
     "metadata": {},
     "output_type": "execute_result"
    }
   ],
   "source": [
    "zp2 = sigmoid_(z2); zp2.shape # Sigmoid prime for output activations"
   ]
  },
  {
   "cell_type": "markdown",
   "metadata": {},
   "source": [
    "### Backprop"
   ]
  },
  {
   "cell_type": "code",
   "execution_count": 25,
   "metadata": {},
   "outputs": [
    {
     "data": {
      "text/plain": [
       "(10, 32)"
      ]
     },
     "execution_count": 25,
     "metadata": {},
     "output_type": "execute_result"
    }
   ],
   "source": [
    "delta2 = c * zp2; delta2.shape # Error for last layer"
   ]
  },
  {
   "cell_type": "code",
   "execution_count": 26,
   "metadata": {},
   "outputs": [
    {
     "data": {
      "text/plain": [
       "(10, 1)"
      ]
     },
     "execution_count": 26,
     "metadata": {},
     "output_type": "execute_result"
    }
   ],
   "source": [
    "db2 = np.reshape(np.average(delta2, axis=1),(10,1)); db2.shape # Derivative of cost w.r.t biases 2nd/output layer"
   ]
  },
  {
   "cell_type": "code",
   "execution_count": 27,
   "metadata": {},
   "outputs": [
    {
     "data": {
      "text/plain": [
       "(10, 128)"
      ]
     },
     "execution_count": 27,
     "metadata": {},
     "output_type": "execute_result"
    }
   ],
   "source": [
    "dw2 = delta2 @ a1.T; dw2.shape # Derivative of cost w.r.t weights 2nd/output layer"
   ]
  },
  {
   "cell_type": "code",
   "execution_count": 28,
   "metadata": {},
   "outputs": [
    {
     "data": {
      "text/plain": [
       "(128, 32)"
      ]
     },
     "execution_count": 28,
     "metadata": {},
     "output_type": "execute_result"
    }
   ],
   "source": [
    "delta1 = (w2.T @ delta2) * sigmoid_(z1); delta1.shape # Cost/Error w.r.t 1st layer"
   ]
  },
  {
   "cell_type": "code",
   "execution_count": 30,
   "metadata": {},
   "outputs": [
    {
     "data": {
      "text/plain": [
       "(128, 1)"
      ]
     },
     "execution_count": 30,
     "metadata": {},
     "output_type": "execute_result"
    }
   ],
   "source": [
    "db1 = np.reshape(np.average(delta1, axis=1),(128,1)); db1.shape # Derivative of cost w.r.t biases 1st hidden layer"
   ]
  },
  {
   "cell_type": "code",
   "execution_count": 31,
   "metadata": {},
   "outputs": [
    {
     "data": {
      "text/plain": [
       "(128, 784)"
      ]
     },
     "execution_count": 31,
     "metadata": {},
     "output_type": "execute_result"
    }
   ],
   "source": [
    "dw1 = delta1 @ x.T; dw1.shape # # Derivative of cost w.r.t weights for 1st hidden layer  layer"
   ]
  },
  {
   "cell_type": "markdown",
   "metadata": {},
   "source": [
    "### Update weights"
   ]
  },
  {
   "cell_type": "code",
   "execution_count": null,
   "metadata": {},
   "outputs": [],
   "source": [
    "w1 = w1 - 0.01*dw1/bs\n",
    "b1 = b1 - 0.01*db1/bs\n",
    "w2 = w2 - 0.01*dw2/bs\n",
    "b2 = b2 - 0.01*db2/bs"
   ]
  },
  {
   "cell_type": "code",
   "execution_count": null,
   "metadata": {},
   "outputs": [],
   "source": []
  },
  {
   "cell_type": "code",
   "execution_count": null,
   "metadata": {},
   "outputs": [],
   "source": []
  },
  {
   "cell_type": "code",
   "execution_count": null,
   "metadata": {},
   "outputs": [],
   "source": []
  },
  {
   "cell_type": "code",
   "execution_count": null,
   "metadata": {},
   "outputs": [],
   "source": []
  },
  {
   "cell_type": "code",
   "execution_count": null,
   "metadata": {},
   "outputs": [],
   "source": []
  },
  {
   "cell_type": "code",
   "execution_count": null,
   "metadata": {},
   "outputs": [],
   "source": []
  }
 ],
 "metadata": {
  "kernelspec": {
   "display_name": "Python 3",
   "language": "python",
   "name": "python3"
  },
  "language_info": {
   "codemirror_mode": {
    "name": "ipython",
    "version": 3
   },
   "file_extension": ".py",
   "mimetype": "text/x-python",
   "name": "python",
   "nbconvert_exporter": "python",
   "pygments_lexer": "ipython3",
   "version": "3.6.6"
  }
 },
 "nbformat": 4,
 "nbformat_minor": 2
}
