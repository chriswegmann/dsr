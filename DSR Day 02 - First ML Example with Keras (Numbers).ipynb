{
 "cells": [
  {
   "cell_type": "code",
   "execution_count": 59,
   "metadata": {},
   "outputs": [],
   "source": [
    "#!pip install keras\n",
    "#!pip install tensorflow"
   ]
  },
  {
   "cell_type": "code",
   "execution_count": 60,
   "metadata": {},
   "outputs": [],
   "source": [
    "import keras\n",
    "from keras.datasets import mnist\n",
    "from keras import models, layers\n",
    "from keras.utils import to_categorical\n",
    "%matplotlib inline\n",
    "import matplotlib.pyplot as plt\n",
    "import numpy as np\n",
    "#print(keras.__version__)"
   ]
  },
  {
   "cell_type": "markdown",
   "metadata": {},
   "source": [
    "#### Model Initialisation\n",
    "We use a model to deal with a classification problem. For this, we use a dense (aka fully connected, i.e. each input node is connected to every output node) model with two layers which we add consecutively. The input into a model is typically a vector / matrix / tensor; only the first layer has an input shape (the others will be simple vectors). This means fixed input size for each layer:\n",
    "* First layer: input = 784 = 28 * 28 and output = 512\n",
    "* Second layer: input = 512 and output = 10\n",
    "\n",
    "The input size of the second layer is exactly the output size of the first layer."
   ]
  },
  {
   "cell_type": "code",
   "execution_count": 61,
   "metadata": {},
   "outputs": [],
   "source": [
    "model = models.Sequential()\n",
    "model.add(layers.Dense(\n",
    "    512, \n",
    "    activation=\"relu\", \n",
    "    input_shape=(28 * 28,)\n",
    "))\n",
    "model.add(layers.Dense(10, activation=\"softmax\"))\n",
    "\n",
    "model.compile(\n",
    "    optimizer=\"rmsprop\",\n",
    "    loss=\"categorical_crossentropy\",\n",
    "    metrics=[\"accuracy\"]\n",
    ")"
   ]
  },
  {
   "cell_type": "markdown",
   "metadata": {},
   "source": [
    "#### Additional explanations\n",
    "Internally, the algorithm does a vector multiplication with a weight matrix _W_ 784 x 512 in order to arrive at the output of 512. It also adds a bias _b_ of size 1 x 512 to it - that's why the sum of parameters of 401'920 is the sum of 784 x 512 and 512.\n",
    "\n",
    "The algorithm changes the weights and biases until we have a good matching. This is then repeated for the other layer(s).\n",
    "\n",
    "_Hyperparameter_: The 512 above is a hyperparameter. Here we knew already what to take, but normally we would need to set this appropriately. Typically this is smaller than the input vector.\n",
    "\n",
    "_Activation function_: The 'activation' parameter determines how the threshold (see axiom comparison) is set. It's an activation function (which makes it non-linear and thus allows dealing with non-linear effects). Here we use the ReLU (rectified linear unit) function (which is typically a good start) and Softmax (the sum of all outputs is 1, and each output is between 0 and 1) function (which is typically used for classification problems). The bias helps to set the activation up and down. It makes fire the right neurons at the right time.\n",
    "\n",
    "_Compilation_: The 'optimizer' changes the learning time. The _rmsprop_ is always a good start. The 'loss' stands for loss function - how far is the result from the expected? We use categorical_crossentropy; 'categorical' because we have more than two classes, 'cross-entropy' because we use this measure (=distances between probability distributions) to measure the difference between categories; this is typically used for categorical classifications.\n",
    "What to take for which problem is in the end a decision tree (see later days). The _metrics_ can be either 'accuracy' or 'loss'; here we use 'accuracy' because it's a classification program."
   ]
  },
  {
   "cell_type": "code",
   "execution_count": 62,
   "metadata": {},
   "outputs": [
    {
     "name": "stdout",
     "output_type": "stream",
     "text": [
      "_________________________________________________________________\n",
      "Layer (type)                 Output Shape              Param #   \n",
      "=================================================================\n",
      "dense_14 (Dense)             (None, 512)               401920    \n",
      "_________________________________________________________________\n",
      "dense_15 (Dense)             (None, 10)                5130      \n",
      "=================================================================\n",
      "Total params: 407,050\n",
      "Trainable params: 407,050\n",
      "Non-trainable params: 0\n",
      "_________________________________________________________________\n"
     ]
    }
   ],
   "source": [
    "model.summary()"
   ]
  },
  {
   "cell_type": "code",
   "execution_count": 63,
   "metadata": {},
   "outputs": [],
   "source": [
    "(train_images, train_labels), (test_images, test_labels) = mnist.load_data()\n",
    "#print(\"Train:\", train_images.shape)\n",
    "#print(\"Test:\", test_images.shape)\n",
    "\n",
    "#for i in range(1):\n",
    "#    plt.imshow(train_images[i], cmap=\"gray\")\n",
    "#    plt.title(\"image \" + str(i) + \": \" + str(train_labels[i]))\n",
    "#    plt.show()\n",
    "\n",
    "train_images = train_images.reshape((60000, 28 * 28))\n",
    "train_images = train_images.astype(\"float32\") / 255.0\n",
    "\n",
    "test_images = test_images.reshape((10000, 28 * 28))\n",
    "test_images = test_images.astype(\"float32\") / 255.0\n",
    "\n",
    "#print(\"Before:\", train_labels[0])\n",
    "train_labels = to_categorical(train_labels)\n",
    "test_labels = to_categorical(test_labels)\n",
    "#print(\"After:\", train_labels[0])"
   ]
  },
  {
   "cell_type": "markdown",
   "metadata": {},
   "source": [
    "#### Reshaping / data typing\n",
    "We need to convert to a vector.\n",
    "We need to convert to floats between 0 and 1; in general NN do not like numbers from different domains."
   ]
  },
  {
   "cell_type": "code",
   "execution_count": 64,
   "metadata": {},
   "outputs": [],
   "source": [
    "#model.evaluate(train_images, train_labels)"
   ]
  },
  {
   "cell_type": "code",
   "execution_count": 65,
   "metadata": {},
   "outputs": [],
   "source": [
    "#print(np.max(model.predict(train_images[0:1])))\n",
    "#print(np.argmax(model.predict(train_images[0:1])))\n",
    "#print(train_labels[0])"
   ]
  },
  {
   "cell_type": "code",
   "execution_count": 66,
   "metadata": {},
   "outputs": [
    {
     "name": "stdout",
     "output_type": "stream",
     "text": [
      "Epoch 1/5\n",
      "60000/60000 [==============================] - 8s 126us/step - loss: 0.2552 - acc: 0.9262\n",
      "Epoch 2/5\n",
      "60000/60000 [==============================] - 7s 110us/step - loss: 0.1048 - acc: 0.9684\n",
      "Epoch 3/5\n",
      "60000/60000 [==============================] - 7s 111us/step - loss: 0.0687 - acc: 0.9792\n",
      "Epoch 4/5\n",
      "60000/60000 [==============================] - 7s 111us/step - loss: 0.0495 - acc: 0.9846\n",
      "Epoch 5/5\n",
      "60000/60000 [==============================] - 7s 114us/step - loss: 0.0383 - acc: 0.9884\n"
     ]
    }
   ],
   "source": [
    "history = model.fit(\n",
    "    train_images, \n",
    "    train_labels, \n",
    "    epochs=5, \n",
    "    batch_size=128\n",
    ")"
   ]
  },
  {
   "cell_type": "markdown",
   "metadata": {},
   "source": [
    "#### Fitting (Epochs / Batches / Steps)\n",
    "* One epoch means going through all 60'000 pictures.\n",
    "* After each batch of 128 pictures the weights / biases are updated (this is a step), then the next batch is run through. Batch size needs to be a power of 2.\n"
   ]
  },
  {
   "cell_type": "code",
   "execution_count": 67,
   "metadata": {},
   "outputs": [
    {
     "data": {
      "image/png": "[encoded data removed]",
      "text/plain": [
       "<matplotlib.figure.Figure at 0x24e8fc0d978>"
      ]
     },
     "metadata": {
      "needs_background": "light"
     },
     "output_type": "display_data"
    },
    {
     "data": {
      "image/png": "[encoded data removed]",
      "text/plain": [
       "<matplotlib.figure.Figure at 0x24e8fc2feb8>"
      ]
     },
     "metadata": {
      "needs_background": "light"
     },
     "output_type": "display_data"
    }
   ],
   "source": [
    "plt.plot(history.history[\"loss\"], label=\"loss\")\n",
    "plt.legend()\n",
    "plt.show()\n",
    "plt.close()\n",
    "\n",
    "plt.plot(history.history[\"acc\"], label=\"acc\")\n",
    "plt.legend()\n",
    "plt.show()\n",
    "plt.close()"
   ]
  },
  {
   "cell_type": "code",
   "execution_count": 68,
   "metadata": {},
   "outputs": [
    {
     "name": "stdout",
     "output_type": "stream",
     "text": [
      "10000/10000 [==============================] - 1s 75us/step\n",
      "0.06849146048831753 0.9787\n"
     ]
    }
   ],
   "source": [
    "test_loss, test_acc = model.evaluate(test_images, test_labels)\n",
    "print(test_loss, test_acc)"
   ]
  },
  {
   "cell_type": "markdown",
   "metadata": {},
   "source": [
    "Above we test the accuracy of the model with the test data set."
   ]
  },
  {
   "cell_type": "code",
   "execution_count": 69,
   "metadata": {},
   "outputs": [
    {
     "name": "stdout",
     "output_type": "stream",
     "text": [
      "0.9975885\n",
      "5\n",
      "[0. 0. 0. 0. 0. 1. 0. 0. 0. 0.]\n"
     ]
    }
   ],
   "source": [
    "print(np.max(model.predict(train_images[0:1])))\n",
    "print(np.argmax(model.predict(train_images[0:1])))\n",
    "print(train_labels[0])"
   ]
  },
  {
   "cell_type": "markdown",
   "metadata": {},
   "source": [
    "And we also test the prediction for one specific picture of the train data set."
   ]
  }
 ],
 "metadata": {
  "kernelspec": {
   "display_name": "Python 3",
   "language": "python",
   "name": "python3"
  },
  "language_info": {
   "codemirror_mode": {
    "name": "ipython",
    "version": 3
   },
   "file_extension": ".py",
   "mimetype": "text/x-python",
   "name": "python",
   "nbconvert_exporter": "python",
   "pygments_lexer": "ipython3",
   "version": "3.6.4"
  }
 },
 "nbformat": 4,
 "nbformat_minor": 2
}
