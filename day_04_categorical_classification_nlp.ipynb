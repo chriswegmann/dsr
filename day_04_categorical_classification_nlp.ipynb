{
 "cells": [
  {
   "cell_type": "code",
   "execution_count": 1,
   "metadata": {},
   "outputs": [
    {
     "name": "stderr",
     "output_type": "stream",
     "text": [
      "C:\\Users\\Christian\\Anaconda3\\lib\\site-packages\\h5py\\__init__.py:36: FutureWarning: Conversion of the second argument of issubdtype from `float` to `np.floating` is deprecated. In future, it will be treated as `np.float64 == np.dtype(float).type`.\n",
      "  from ._conv import register_converters as _register_converters\n",
      "Using TensorFlow backend.\n"
     ]
    }
   ],
   "source": [
    "from keras.datasets import reuters\n",
    "import numpy as np\n",
    "import matplotlib as plt\n",
    "from keras.utils import to_categorical\n",
    "\n",
    "(train_data, train_labels), (test_data, test_labels) = reuters.load_data(num_words=10000)"
   ]
  },
  {
   "cell_type": "code",
   "execution_count": 2,
   "metadata": {},
   "outputs": [
    {
     "name": "stdout",
     "output_type": "stream",
     "text": [
      "Number of data sets: 8982\n",
      "Label of first data set: 3\n",
      "Data of first data set:\n",
      "[1, 2, 2, 8, 43, 10, 447, 5, 25, 207, 270, 5, 3095, 111, 16, 369, 186, 90, 67, 7, 89, 5, 19, 102, 6, 19, 124, 15, 90, 67, 84, 22, 482, 26, 7, 48, 4, 49, 8, 864, 39, 209, 154, 6, 151, 6, 83, 11, 15, 22, 155, 11, 15, 7, 48, 9, 4579, 1005, 504, 6, 258, 6, 272, 11, 15, 22, 134, 44, 11, 15, 16, 8, 197, 1245, 90, 67, 52, 29, 209, 30, 32, 132, 6, 109, 15, 17, 12]\n"
     ]
    }
   ],
   "source": [
    "print(\"Number of data sets: \" + str(len(train_labels)))\n",
    "print(\"Label of first data set: \" + str(train_labels[0]))\n",
    "print(\"Data of first data set:\\n\" + str(train_data[0]))"
   ]
  },
  {
   "cell_type": "code",
   "execution_count": 3,
   "metadata": {},
   "outputs": [
    {
     "name": "stdout",
     "output_type": "stream",
     "text": [
      "min:  13\n",
      "max:  2376\n",
      "mean: 145.5398574927633\n",
      "std:  145.81413013409278\n"
     ]
    }
   ],
   "source": [
    "# General statistics of train data\n",
    "lengths = [len(x) for x in train_data]\n",
    "print(\"min:  \" + str(np.min(lengths)))\n",
    "print(\"max:  \" + str(np.max(lengths)))\n",
    "print(\"mean: \" + str(np.mean(lengths)))\n",
    "print(\"std:  \" + str(np.std(lengths)))"
   ]
  },
  {
   "cell_type": "code",
   "execution_count": 4,
   "metadata": {},
   "outputs": [
    {
     "name": "stdout",
     "output_type": "stream",
     "text": [
      "min:  0\n",
      "max:  45\n",
      "All labels: [ 0  1  2  3  4  5  6  7  8  9 10 11 12 13 14 15 16 17 18 19 20 21 22 23\n",
      " 24 25 26 27 28 29 30 31 32 33 34 35 36 37 38 39 40 41 42 43 44 45]\n",
      "\n",
      "First label (not encoded): 3\n",
      "First label (one-hot-encoded):[0. 0. 0. 1. 0. 0. 0. 0. 0. 0. 0. 0. 0. 0. 0. 0. 0. 0. 0. 0. 0. 0. 0. 0.\n",
      " 0. 0. 0. 0. 0. 0. 0. 0. 0. 0. 0. 0. 0. 0. 0. 0. 0. 0. 0. 0. 0. 0.]\n"
     ]
    }
   ],
   "source": [
    "# One-hot-encoding\n",
    "train_labels_cat = to_categorical(train_labels)\n",
    "test_labels_cat = to_categorical(test_labels)\n",
    "\n",
    "print(\"min:  \" + str(np.min(train_labels)))\n",
    "print(\"max:  \" + str(np.max(train_labels)))\n",
    "print(\"All labels: \" + str(np.unique(train_labels)))\n",
    "print(\"\\nFirst label (not encoded): \" + str(train_labels[0]))\n",
    "print(\"First label (one-hot-encoded):\" + str(train_labels_cat[0]))"
   ]
  },
  {
   "cell_type": "code",
   "execution_count": 5,
   "metadata": {},
   "outputs": [
    {
     "name": "stdout",
     "output_type": "stream",
     "text": [
      "Label of first data set: 3\n",
      "\n",
      "Encoded data:\n",
      "[1, 2, 2, 8, 43, 10, 447, 5, 25, 207, 270, 5, 3095, 111, 16, 369, 186, 90, 67, 7, 89, 5, 19, 102, 6, 19, 124, 15, 90, 67, 84, 22, 482, 26, 7, 48, 4, 49, 8, 864, 39, 209, 154, 6, 151, 6, 83, 11, 15, 22, 155, 11, 15, 7, 48, 9, 4579, 1005, 504, 6, 258, 6, 272, 11, 15, 22, 134, 44, 11, 15, 16, 8, 197, 1245, 90, 67, 52, 29, 209, 30, 32, 132, 6, 109, 15, 17, 12]\n",
      "\n",
      "Decoded data:\n",
      "? ? ? said as a result of its december acquisition of space co it expects earnings per share in 1987 of 1 15 to 1 30 dlrs per share up from 70 cts in 1986 the company said pretax net should rise to nine to 10 mln dlrs from six mln dlrs in 1986 and rental operation revenues to 19 to 22 mln dlrs from 12 5 mln dlrs it said cash flow per share this year should be 2 50 to three dlrs reuter 3\n"
     ]
    }
   ],
   "source": [
    "word_index = reuters.get_word_index\n",
    "word_index_dict = word_index()\n",
    "      \n",
    "label = train_labels[0]\n",
    "review = train_data[0]\n",
    "reverse_word_index = dict([(value, key) for (key, value) in word_index_dict.items()])\n",
    "decoded_review = \" \".join(\n",
    "    [reverse_word_index.get(index - 3, \"?\") for index in review]\n",
    ")\n",
    "print(\"Label of first data set: \" + str(label))\n",
    "print(\"\\nEncoded data:\\n\" + str(review))\n",
    "print(\"\\nDecoded data:\\n\" + decoded_review)"
   ]
  },
  {
   "cell_type": "code",
   "execution_count": 6,
   "metadata": {},
   "outputs": [
    {
     "name": "stdout",
     "output_type": "stream",
     "text": [
      "[0. 1. 1. ... 0. 0. 0.]\n",
      "(10000,)\n",
      "(8982, 10000)\n"
     ]
    }
   ],
   "source": [
    "# Vectorize data such that it fits the model\n",
    "def vectorize_sequences(sequences, dimension=10000):\n",
    "    results = np.zeros((len(sequences), dimension))\n",
    "    for i, sequences in enumerate(sequences):\n",
    "        results[i, sequences] = 1.0\n",
    "    return results\n",
    "\n",
    "x_train = vectorize_sequences(train_data)\n",
    "x_test = vectorize_sequences(test_data)\n",
    "print(x_train[0])\n",
    "print(x_train[0].shape)\n",
    "print(x_train.shape)"
   ]
  },
  {
   "cell_type": "code",
   "execution_count": 7,
   "metadata": {},
   "outputs": [
    {
     "name": "stdout",
     "output_type": "stream",
     "text": [
      "_________________________________________________________________\n",
      "Layer (type)                 Output Shape              Param #   \n",
      "=================================================================\n",
      "dense_1 (Dense)              (None, 500)               5000500   \n",
      "_________________________________________________________________\n",
      "dense_2 (Dense)              (None, 500)               250500    \n",
      "_________________________________________________________________\n",
      "dense_3 (Dense)              (None, 46)                23046     \n",
      "=================================================================\n",
      "Total params: 5,274,046\n",
      "Trainable params: 5,274,046\n",
      "Non-trainable params: 0\n",
      "_________________________________________________________________\n"
     ]
    }
   ],
   "source": [
    "from keras import models, layers\n",
    "\n",
    "model = models.Sequential()\n",
    "model.add(layers.Dense(\n",
    "    500, \n",
    "    activation=\"relu\", \n",
    "    input_shape=(10000, )))\n",
    "model.add(layers.Dense(500, activation=\"relu\"))\n",
    "model.add(layers.Dense(46, activation=\"softmax\"))        # we use activation=\"softmax\" when it's more than two categories,\n",
    "                                                        # for binary we use activation=\"sigmoid\"\n",
    "\n",
    "model.summary()                                         # non-trainable parameters are frozen (see later)\n",
    "\n",
    "from keras import optimizers, losses, metrics           # this is an alternative how we could compile the model\n",
    "model.compile(\n",
    "    optimizer=optimizers.RMSprop(lr=0.001),             # lr = learning rate\n",
    "    loss=losses.categorical_crossentropy,\n",
    "    metrics=[metrics.categorical_accuracy]\n",
    ")\n",
    "\n",
    "#model.compile(\n",
    "#    optimizer=\"rmsprop\",                                # this one uses RMSprop with default values\n",
    "#    loss=\"categorical_crossentropy\",\n",
    "#    metrics=[\"accuracy\"]                                 # this gets replaced automatically with \"binary_accuracy\" internally\n",
    "#)"
   ]
  },
  {
   "cell_type": "code",
   "execution_count": 8,
   "metadata": {},
   "outputs": [],
   "source": [
    "x_val = x_train[:2000]\n",
    "partial_x_train = x_train[2000:]\n",
    "y_val = train_labels_cat[:2000]\n",
    "partial_y_train = train_labels_cat[2000:]"
   ]
  },
  {
   "cell_type": "code",
   "execution_count": 9,
   "metadata": {},
   "outputs": [
    {
     "name": "stdout",
     "output_type": "stream",
     "text": [
      "Train on 6982 samples, validate on 2000 samples\n",
      "Epoch 1/3\n",
      "6982/6982 [==============================] - 7s 968us/step - loss: 1.9576 - categorical_accuracy: 0.5689 - val_loss: 1.2946 - val_categorical_accuracy: 0.7185\n",
      "Epoch 2/3\n",
      "6982/6982 [==============================] - 5s 774us/step - loss: 0.8791 - categorical_accuracy: 0.8022 - val_loss: 1.2180 - val_categorical_accuracy: 0.7305\n",
      "Epoch 3/3\n",
      "6982/6982 [==============================] - 5s 755us/step - loss: 0.5319 - categorical_accuracy: 0.8794 - val_loss: 0.9459 - val_categorical_accuracy: 0.7955\n"
     ]
    }
   ],
   "source": [
    "history = model.fit(\n",
    "    partial_x_train,\n",
    "    partial_y_train,\n",
    "    epochs=3,\n",
    "    batch_size=512,\n",
    "    validation_data=(x_val,y_val)\n",
    ")"
   ]
  },
  {
   "cell_type": "code",
   "execution_count": 13,
   "metadata": {},
   "outputs": [
    {
     "data": {
      "image/png": "[encoded data removed]",
      "text/plain": [
       "<matplotlib.figure.Figure at 0x1d9978a4b70>"
      ]
     },
     "metadata": {
      "needs_background": "light"
     },
     "output_type": "display_data"
    }
   ],
   "source": [
    "import matplotlib.pyplot as plt\n",
    "\n",
    "r = range(1, len(history.history[\"categorical_accuracy\"]) + 1)\n",
    "\n",
    "plt.figure(figsize=(20, 5))\n",
    "\n",
    "plt.subplot(1, 2, 1)\n",
    "plt.plot(r, history.history[\"categorical_accuracy\"], label=\"acc\")\n",
    "plt.plot(r, history.history[\"val_categorical_accuracy\"], label=\"val_acc\")\n",
    "plt.legend()\n",
    "plt.title(\"Accuracy\")\n",
    "\n",
    "plt.subplot(1, 2, 2)\n",
    "plt.plot(r, history.history[\"loss\"], label=\"loss\")\n",
    "plt.plot(r, history.history[\"val_loss\"], label=\"val_loss\")\n",
    "plt.legend()\n",
    "plt.title(\"Loss\")\n",
    "\n",
    "plt.show()\n",
    "plt.close()"
   ]
  },
  {
   "cell_type": "code",
   "execution_count": 11,
   "metadata": {},
   "outputs": [
    {
     "name": "stdout",
     "output_type": "stream",
     "text": [
      "2246/2246 [==============================] - 1s 558us/step\n"
     ]
    }
   ],
   "source": [
    "test_loss, test_acc = model.evaluate(x_test, test_labels_cat)"
   ]
  },
  {
   "cell_type": "code",
   "execution_count": 12,
   "metadata": {},
   "outputs": [
    {
     "name": "stdout",
     "output_type": "stream",
     "text": [
      "Loss / Accuracy Evaluation\n",
      "--------------------------\n",
      "Loss:     0.95768\n",
      "Accuracy: 0.79\n"
     ]
    }
   ],
   "source": [
    "print(\"Loss / Accuracy Evaluation\")\n",
    "print(\"--------------------------\")\n",
    "print(\"Loss:     \" + str(round(test_loss,5)))\n",
    "print(\"Accuracy: \" + str(round(test_acc,2)))"
   ]
  }
 ],
 "metadata": {
  "kernelspec": {
   "display_name": "Python 3",
   "language": "python",
   "name": "python3"
  },
  "language_info": {
   "codemirror_mode": {
    "name": "ipython",
    "version": 3
   },
   "file_extension": ".py",
   "mimetype": "text/x-python",
   "name": "python",
   "nbconvert_exporter": "python",
   "pygments_lexer": "ipython3",
   "version": "3.6.4"
  }
 },
 "nbformat": 4,
 "nbformat_minor": 2
}
