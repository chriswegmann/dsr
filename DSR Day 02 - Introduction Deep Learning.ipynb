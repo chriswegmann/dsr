{
 "cells": [
  {
   "cell_type": "markdown",
   "metadata": {},
   "source": [
    "#### Machine Learning / Deep Learning\n",
    "\n",
    "* Is there a difference between AI and machine learning? No, the latter is rather a subset of the former.\n",
    "* Many definitions; term probably best should be avoid. One example is agent-based AI.\n",
    "* Input > rules > output: normally it's this direction. For ML we have input and output, and we are looking for the rules.\n",
    "* Bubble chart: AI encompasses ML encompasses ANN (Artificial Neural Networks) / DL (Deep Learning)\n",
    "* Difference ANN and DL: DL are ANN where you have at least one hidden layer\n",
    "* Convolutional Neural Networks: suited for images; much higher accuracy than ML\n",
    "* Computer Science: algorithms programmed\n",
    "* Machine Learning: algorithms used for feature detection, then taken by brain\n",
    "* Deep Learning: brain does everything itself\n",
    "* Tensorflow: data flow graph based library; neural networks are a subset of these graphs"
   ]
  }
 ],
 "metadata": {
  "kernelspec": {
   "display_name": "Python 3",
   "language": "python",
   "name": "python3"
  },
  "language_info": {
   "codemirror_mode": {
    "name": "ipython",
    "version": 3
   },
   "file_extension": ".py",
   "mimetype": "text/x-python",
   "name": "python",
   "nbconvert_exporter": "python",
   "pygments_lexer": "ipython3",
   "version": "3.6.4"
  }
 },
 "nbformat": 4,
 "nbformat_minor": 2
}
