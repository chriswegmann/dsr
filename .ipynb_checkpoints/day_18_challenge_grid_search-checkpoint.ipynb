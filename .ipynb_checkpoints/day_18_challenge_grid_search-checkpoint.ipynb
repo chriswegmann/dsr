{
 "cells": [
  {
   "cell_type": "markdown",
   "metadata": {},
   "source": [
    "## 3 Grid Search"
   ]
  },
  {
   "cell_type": "markdown",
   "metadata": {},
   "source": [
    "### 3.1 Preparation"
   ]
  },
  {
   "cell_type": "markdown",
   "metadata": {},
   "source": [
    "##### Library Import"
   ]
  },
  {
   "cell_type": "code",
   "execution_count": 1,
   "metadata": {},
   "outputs": [],
   "source": [
    "import pandas as pd\n",
    "import numpy as np\n",
    "import seaborn as sns\n",
    "import matplotlib.pyplot as plt\n",
    "from math import sqrt\n",
    "from sklearn.metrics import mean_squared_error, mean_absolute_error, r2_score"
   ]
  },
  {
   "cell_type": "code",
   "execution_count": 2,
   "metadata": {},
   "outputs": [],
   "source": [
    "from sklearn.base import BaseEstimator, TransformerMixin\n",
    "from sklearn.pipeline import make_pipeline, make_union\n",
    "from sklearn.preprocessing import StandardScaler\n",
    "from category_encoders.ordinal import OrdinalEncoder\n",
    "from category_encoders.one_hot import OneHotEncoder\n",
    "from sklearn.ensemble import RandomForestRegressor\n",
    "from sklearn.model_selection import train_test_split\n",
    "from sklearn.model_selection import GridSearchCV, RandomizedSearchCV"
   ]
  },
  {
   "cell_type": "markdown",
   "metadata": {},
   "source": [
    "We have stored our custom transformations as a library and import them here. This makes the code slimmer and allows us to use multiple cores in Windows environments."
   ]
  },
  {
   "cell_type": "code",
   "execution_count": 3,
   "metadata": {},
   "outputs": [],
   "source": [
    "from day_18_challenge_pipeline_classes import ConvertStringDateToYear, ConvertZeroToN, MergeColumns\n",
    "from day_18_challenge_pipeline_classes import ColumnSelector, ImputeValue\n",
    "from day_18_challenge_pipeline_classes import compare_predictions"
   ]
  },
  {
   "cell_type": "code",
   "execution_count": 4,
   "metadata": {},
   "outputs": [],
   "source": [
    "import warnings\n",
    "warnings.filterwarnings('ignore') # seaborn shows a lot of ugly warnings, let's suppress this for the analysis part"
   ]
  },
  {
   "cell_type": "markdown",
   "metadata": {},
   "source": [
    "##### Data Import"
   ]
  },
  {
   "cell_type": "markdown",
   "metadata": {},
   "source": [
    "Here we replicate the import and row removal of the pipeline build step."
   ]
  },
  {
   "cell_type": "code",
   "execution_count": 5,
   "metadata": {},
   "outputs": [],
   "source": [
    "df_train = pd.read_csv('data/dc_housing/DC_Properties_training.csv', index_col=0, low_memory=False)\n",
    "\n",
    "df_train = df_train.dropna(subset=[\"PRICE\"])\n",
    "\n",
    "x_train = df_train.drop('PRICE', axis=1)\n",
    "y_train = df_train.loc[:,['PRICE']]"
   ]
  },
  {
   "cell_type": "markdown",
   "metadata": {},
   "source": [
    "We now also load the test data set as we are going to need it in the final evaluation. Here we drop only the rows with n/a values in the target column ```PRICE``` as we couldn't compare the predictions with their true values otherwise."
   ]
  },
  {
   "cell_type": "code",
   "execution_count": 6,
   "metadata": {},
   "outputs": [],
   "source": [
    "df_test = pd.read_csv('data/dc_housing/holdout_test_data.csv', index_col=0, low_memory=False)\n",
    "df_test = df_test[~np.isnan(df_test['PRICE'])]\n",
    "\n",
    "x_test = df_test.drop('PRICE', axis=1)\n",
    "y_test = df_test.loc[:,['PRICE']]"
   ]
  },
  {
   "cell_type": "markdown",
   "metadata": {},
   "source": [
    "Again, we replicate the column seletors from pipeline bild step."
   ]
  },
  {
   "cell_type": "code",
   "execution_count": 7,
   "metadata": {},
   "outputs": [],
   "source": [
    "cols_num = ['BATHRM','HF_BATHRM','ROOMS','BEDRM','FIREPLACES','YEAR','AYB','EYB','GBA','LANDAREA']\n",
    "cols_ord = ['GRADE','HEAT','ZIPCODE','ASSESSMENT_NBHD', 'CENSUS_TRACT']\n",
    "cols_cat = ['AC','SOURCE','QUALIFIED']\n",
    "\n",
    "cols_all = cols_num + cols_ord + cols_cat"
   ]
  },
  {
   "cell_type": "markdown",
   "metadata": {},
   "source": [
    "##### Processing Pipeline Definition"
   ]
  },
  {
   "cell_type": "markdown",
   "metadata": {},
   "source": [
    "...and finally the pipeline we've built. Now we are ready to try out different estimators and perform a grid search across the respective hyperparameters."
   ]
  },
  {
   "cell_type": "code",
   "execution_count": 8,
   "metadata": {},
   "outputs": [],
   "source": [
    "processing_pipeline = make_pipeline(\n",
    "    \n",
    "    MergeColumns('GBA', 'LIVING_GBA'),\n",
    "    ImputeValue('AYB', 1940),\n",
    "    ConvertZeroToN('AC'),\n",
    "    ConvertStringDateToYear('SALEDATE'),\n",
    "    ImputeValue('YEAR', 2004),\n",
    "    make_union(\n",
    "        make_pipeline(ColumnSelector(cols_num),\n",
    "        ),\n",
    "        make_pipeline(ColumnSelector(cols_ord),\n",
    "                      OrdinalEncoder()\n",
    "        ),\n",
    "        make_pipeline(ColumnSelector(cols_cat),\n",
    "                      OneHotEncoder()\n",
    "        )\n",
    "    )\n",
    ")"
   ]
  },
  {
   "cell_type": "markdown",
   "metadata": {},
   "source": [
    "### 3.1 Random Forest"
   ]
  },
  {
   "cell_type": "code",
   "execution_count": 9,
   "metadata": {},
   "outputs": [],
   "source": [
    "pipeline_rf = (make_pipeline(processing_pipeline, RandomForestRegressor()))"
   ]
  },
  {
   "cell_type": "code",
   "execution_count": 10,
   "metadata": {},
   "outputs": [],
   "source": [
    "n_estimators = [100, 200, 500, 1000]                       # number of trees in random forest\n",
    "max_features = [5, 10, 20]                                 # number of features to consider at every split\n",
    "max_depth = [int(x) for x in np.linspace(5, 110, num = 4)] # maximum number of levels in tree\n",
    "max_depth.append(None)\n",
    "\n",
    "grid_rf = {'randomforestregressor__n_estimators': n_estimators,\n",
    "           'randomforestregressor__max_features': max_features,\n",
    "           'randomforestregressor__max_depth': max_depth}"
   ]
  },
  {
   "cell_type": "code",
   "execution_count": 11,
   "metadata": {},
   "outputs": [],
   "source": [
    "n_estimators = [100]                       # number of trees in random forest\n",
    "max_features = [20]                                 # number of features to consider at every split\n",
    "max_depth = [30] # maximum number of levels in tree\n",
    "\n",
    "grid_rf = {'randomforestregressor__n_estimators': n_estimators,\n",
    "           'randomforestregressor__max_features': max_features,\n",
    "           'randomforestregressor__max_depth': max_depth}"
   ]
  },
  {
   "cell_type": "code",
   "execution_count": 13,
   "metadata": {},
   "outputs": [
    {
     "name": "stdout",
     "output_type": "stream",
     "text": [
      "Fitting 3 folds for each of 1 candidates, totalling 3 fits\n"
     ]
    },
    {
     "name": "stderr",
     "output_type": "stream",
     "text": [
      "[Parallel(n_jobs=-1)]: Using backend LokyBackend with 4 concurrent workers.\n",
      "[Parallel(n_jobs=-1)]: Done   3 out of   3 | elapsed:  3.5min finished\n"
     ]
    }
   ],
   "source": [
    "clf = GridSearchCV(pipeline_rf, grid_rf, n_jobs=-1, verbose=True, scoring='neg_mean_absolute_error')\n",
    "clf.fit(x_train, y_train)\n",
    "\n",
    "clf_preds = clf.predict(x_test)\n",
    "clf_preds = pd.Series(clf_preds)\n",
    "clf_preds = clf_preds.rename(\"Grid Search Predicted values\")"
   ]
  },
  {
   "cell_type": "code",
   "execution_count": 14,
   "metadata": {},
   "outputs": [
    {
     "data": {
      "text/plain": [
       "array([-591013.37942473])"
      ]
     },
     "execution_count": 14,
     "metadata": {},
     "output_type": "execute_result"
    }
   ],
   "source": [
    "best_params = clf.cv_results_[\"mean_test_score\"]\n",
    "best_params[0:10]"
   ]
  },
  {
   "cell_type": "code",
   "execution_count": 15,
   "metadata": {},
   "outputs": [
    {
     "name": "stdout",
     "output_type": "stream",
     "text": [
      "RMSE Lazy Predictor 7033624.958887028\n",
      "MAE Lazy Predictor 944466.509408971\n",
      "R^2 Lazy Predictor 0.0\n",
      "\n",
      "RMSE 902687.5323681374\n",
      "MAE 186009.784767864\n",
      "R^2 0.9835291325078591\n",
      "\n",
      "RMSE Improvement: 6130937.42651889\n",
      "MAE Inprovement: 758456.7246411069\n",
      "R^2 Improvement: 0.9835291325078591\n"
     ]
    },
    {
     "data": {
      "image/png": "[encoded data removed]",
      "text/plain": [
       "<Figure size 1440x720 with 1 Axes>"
      ]
     },
     "metadata": {
      "needs_background": "light"
     },
     "output_type": "display_data"
    }
   ],
   "source": [
    "pred_train = compare_predictions(x_train, y_train, clf, y_train['PRICE'].mean())"
   ]
  },
  {
   "cell_type": "markdown",
   "metadata": {},
   "source": [
    "### 3.2 Gradient Boosting"
   ]
  },
  {
   "cell_type": "code",
   "execution_count": null,
   "metadata": {},
   "outputs": [],
   "source": [
    "pipeline_gb = (make_pipeline(processing_pipeline, GradientBoostingRegressor()))\n",
    "pipeline_gb.fit(x_train, y_train)"
   ]
  },
  {
   "cell_type": "code",
   "execution_count": null,
   "metadata": {},
   "outputs": [],
   "source": [
    "# Preparing grid search\n",
    "# Supported parameters for GradientBoostingRegressor\n",
    "# ---------------------\n",
    "# loss='ls'\n",
    "# learning_rate=0.1\n",
    "# n_estimators=100\n",
    "# subsample=1.0\n",
    "# criterion='friedman_mse'\n",
    "# min_samples_split=2\n",
    "# min_samples_leaf=1\n",
    "# min_weight_fraction_leaf=0.0\n",
    "# max_depth=3\n",
    "# min_impurity_decrease=0.0\n",
    "# min_impurity_split=None\n",
    "# init=None\n",
    "# random_state=None\n",
    "# max_features=None\n",
    "# alpha=0.9\n",
    "# verbose=0\n",
    "# max_leaf_nodes=None\n",
    "# warm_start=False\n",
    "# presort='auto'\n",
    "# validation_fraction=0.1\n",
    "# n_iter_no_change=None\n",
    "# tol=0.0001\n",
    "\n",
    "learning_rate = [0.01, 0.04, 0.1]\n",
    "n_estimators = [100, 500, 1000]\n",
    "min_samples_split = [2, 3, 4]\n",
    "min_samples_leaf = [1, 2]\n",
    "max_depth = [3, 5, 6]\n",
    "\n",
    "grid_gb = {'gradientboostingregressor__learning_rate': learning_rate,\n",
    "           'gradientboostingregressor__n_estimators': n_estimators,\n",
    "           'gradientboostingregressor__min_samples_split': min_samples_split,\n",
    "           'gradientboostingregressor__min_samples_leaf': min_samples_leaf,\n",
    "           'gradientboostingregressor__max_depth': max_depth}"
   ]
  },
  {
   "cell_type": "code",
   "execution_count": null,
   "metadata": {},
   "outputs": [],
   "source": [
    "#clf = GridSearchCV(pipeline_gb, grid_gb, n_jobs=1, verbose=True, scoring='r2')\n",
    "clf.fit(x_train, y_train)\n",
    "\n",
    "clf_preds = clf.predict(x_test)\n",
    "clf_preds = pd.Series(clf_preds)\n",
    "clf_preds = clf_preds.rename(\"Grid Search Predicted values\")"
   ]
  },
  {
   "cell_type": "code",
   "execution_count": null,
   "metadata": {},
   "outputs": [],
   "source": [
    "clf.cv_results_.keys()"
   ]
  },
  {
   "cell_type": "code",
   "execution_count": null,
   "metadata": {},
   "outputs": [],
   "source": [
    "best_params = clf.cv_results_[\"mean_test_score\"]\n",
    "best_params[0:10]"
   ]
  },
  {
   "cell_type": "markdown",
   "metadata": {},
   "source": [
    "### 3.3 Ada Boost"
   ]
  },
  {
   "cell_type": "code",
   "execution_count": null,
   "metadata": {},
   "outputs": [],
   "source": [
    "pipeline_ab = (make_pipeline(processing_pipeline, AdaBoostRegressor()))\n",
    "pipeline_ab.fit(x_train, y_train)"
   ]
  },
  {
   "cell_type": "code",
   "execution_count": null,
   "metadata": {},
   "outputs": [],
   "source": [
    "# Preparing grid search\n",
    "# Supported parameters for AdaBoostRegressor\n",
    "# ---------------------\n",
    "# ...\n",
    "# ...\n",
    "# ...\n",
    "\n",
    "### to be updated ###\n",
    "learning_rate = [0.01, 0.04, 0.1]\n",
    "n_estimators = [100, 500, 1000]\n",
    "min_samples_split = [2, 3, 4]\n",
    "min_samples_leaf = [1, 2]\n",
    "max_depth = [3, 5, 6]\n",
    "### to be updated ###\n",
    "\n",
    "grid_ab = {'adaboostregressor__learning_rate': learning_rate,\n",
    "           'adaboostregressor__n_estimators': n_estimators,\n",
    "           'adaboostregressor__min_samples_split': min_samples_split,\n",
    "           'adaboostregressor__min_samples_leaf': min_samples_leaf,\n",
    "           'adaboostregressor__max_depth': max_depth}"
   ]
  },
  {
   "cell_type": "code",
   "execution_count": null,
   "metadata": {},
   "outputs": [],
   "source": [
    "#clf = GridSearchCV(pipeline_ab, grid_ab, n_jobs=1, verbose=True, scoring='r2')\n",
    "clf.fit(x_train, y_train)\n",
    "\n",
    "clf_preds = clf.predict(x_test)\n",
    "clf_preds = pd.Series(clf_preds)\n",
    "clf_preds = clf_preds.rename(\"Grid Search Predicted values\")"
   ]
  },
  {
   "cell_type": "code",
   "execution_count": null,
   "metadata": {},
   "outputs": [],
   "source": [
    "clf.cv_results_.keys()"
   ]
  },
  {
   "cell_type": "code",
   "execution_count": null,
   "metadata": {},
   "outputs": [],
   "source": [
    "best_params = clf.cv_results_[\"mean_test_score\"]\n",
    "best_params[0:10]"
   ]
  },
  {
   "cell_type": "markdown",
   "metadata": {},
   "source": [
    "### 3.4 Bagging"
   ]
  },
  {
   "cell_type": "code",
   "execution_count": null,
   "metadata": {},
   "outputs": [],
   "source": [
    "pipeline_ba = (make_pipeline(processing_pipeline, BaggingRegressor()))\n",
    "pipeline_ba.fit(x_train, y_train)"
   ]
  },
  {
   "cell_type": "code",
   "execution_count": null,
   "metadata": {},
   "outputs": [],
   "source": [
    "# Preparing grid search\n",
    "# Supported parameters for BaggingRegressor\n",
    "# ---------------------\n",
    "# ...\n",
    "# ...\n",
    "# ...\n",
    "\n",
    "### to be updated ###\n",
    "learning_rate = [0.01, 0.04, 0.1]\n",
    "n_estimators = [100, 500, 1000]\n",
    "min_samples_split = [2, 3, 4]\n",
    "min_samples_leaf = [1, 2]\n",
    "max_depth = [3, 5, 6]\n",
    "### to be updated ###\n",
    "\n",
    "grid_ba = {'baggingregressor__learning_rate': learning_rate,\n",
    "           'baggingregressor__n_estimators': n_estimators,\n",
    "           'baggingregressor__min_samples_split': min_samples_split,\n",
    "           'baggingregressor__min_samples_leaf': min_samples_leaf,\n",
    "           'baggingregressor__max_depth': max_depth}"
   ]
  },
  {
   "cell_type": "code",
   "execution_count": null,
   "metadata": {},
   "outputs": [],
   "source": [
    "#clf = GridSearchCV(pipeline_ab, grid_ab, n_jobs=1, verbose=True, scoring='r2')\n",
    "clf.fit(x_train, y_train)\n",
    "\n",
    "clf_preds = clf.predict(x_test)\n",
    "clf_preds = pd.Series(clf_preds)\n",
    "clf_preds = clf_preds.rename(\"Grid Search Predicted values\")"
   ]
  },
  {
   "cell_type": "code",
   "execution_count": null,
   "metadata": {},
   "outputs": [],
   "source": [
    "clf.cv_results_.keys()"
   ]
  },
  {
   "cell_type": "code",
   "execution_count": null,
   "metadata": {},
   "outputs": [],
   "source": [
    "best_params = clf.cv_results_[\"mean_test_score\"]\n",
    "best_params[0:10]"
   ]
  },
  {
   "cell_type": "code",
   "execution_count": null,
   "metadata": {},
   "outputs": [],
   "source": []
  }
 ],
 "metadata": {
  "kernelspec": {
   "display_name": "Python 3",
   "language": "python",
   "name": "python3"
  },
  "language_info": {
   "codemirror_mode": {
    "name": "ipython",
    "version": 3
   },
   "file_extension": ".py",
   "mimetype": "text/x-python",
   "name": "python",
   "nbconvert_exporter": "python",
   "pygments_lexer": "ipython3",
   "version": "3.6.6"
  }
 },
 "nbformat": 4,
 "nbformat_minor": 2
}
