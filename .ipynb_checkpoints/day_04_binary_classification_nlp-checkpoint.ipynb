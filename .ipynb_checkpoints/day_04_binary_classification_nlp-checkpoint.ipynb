{
 "cells": [
  {
   "cell_type": "code",
   "execution_count": 1,
   "metadata": {},
   "outputs": [
    {
     "name": "stderr",
     "output_type": "stream",
     "text": [
      "C:\\Users\\Christian\\Anaconda3\\lib\\site-packages\\h5py\\__init__.py:36: FutureWarning: Conversion of the second argument of issubdtype from `float` to `np.floating` is deprecated. In future, it will be treated as `np.float64 == np.dtype(float).type`.\n",
      "  from ._conv import register_converters as _register_converters\n",
      "Using TensorFlow backend.\n"
     ]
    }
   ],
   "source": [
    "from keras.datasets import imdb\n",
    "import numpy as np\n",
    "import matplotlib as plt\n",
    "\n",
    "(train_data, train_labels), (test_data, test_labels) = imdb.load_data(num_words=10000) # num_words takes only the top 10000 word"
   ]
  },
  {
   "cell_type": "code",
   "execution_count": 2,
   "metadata": {},
   "outputs": [
    {
     "name": "stdout",
     "output_type": "stream",
     "text": [
      "1\n",
      "[1, 14, 22, 16, 43, 530, 973, 1622, 1385, 65, 458, 4468, 66, 3941, 4, 173, 36, 256, 5, 25, 100, 43, 838, 112, 50, 670, 2, 9, 35, 480, 284, 5, 150, 4, 172, 112, 167, 2, 336, 385, 39, 4, 172, 4536, 1111, 17, 546, 38, 13, 447, 4, 192, 50, 16, 6, 147, 2025, 19, 14, 22, 4, 1920, 4613, 469, 4, 22, 71, 87, 12, 16, 43, 530, 38, 76, 15, 13, 1247, 4, 22, 17, 515, 17, 12, 16, 626, 18, 2, 5, 62, 386, 12, 8, 316, 8, 106, 5, 4, 2223, 5244, 16, 480, 66, 3785, 33, 4, 130, 12, 16, 38, 619, 5, 25, 124, 51, 36, 135, 48, 25, 1415, 33, 6, 22, 12, 215, 28, 77, 52, 5, 14, 407, 16, 82, 2, 8, 4, 107, 117, 5952, 15, 256, 4, 2, 7, 3766, 5, 723, 36, 71, 43, 530, 476, 26, 400, 317, 46, 7, 4, 2, 1029, 13, 104, 88, 4, 381, 15, 297, 98, 32, 2071, 56, 26, 141, 6, 194, 7486, 18, 4, 226, 22, 21, 134, 476, 26, 480, 5, 144, 30, 5535, 18, 51, 36, 28, 224, 92, 25, 104, 4, 226, 65, 16, 38, 1334, 88, 12, 16, 283, 5, 16, 4472, 113, 103, 32, 15, 16, 5345, 19, 178, 32]\n"
     ]
    }
   ],
   "source": [
    "print(train_labels[0])\n",
    "print(train_data[0])"
   ]
  },
  {
   "cell_type": "code",
   "execution_count": 3,
   "metadata": {},
   "outputs": [
    {
     "name": "stdout",
     "output_type": "stream",
     "text": [
      "(25000,)\n"
     ]
    }
   ],
   "source": [
    "print(train_data.shape)"
   ]
  },
  {
   "cell_type": "markdown",
   "metadata": {},
   "source": [
    "We need to make a) sense out of the data and b) find ways of making it fit into the neural network."
   ]
  },
  {
   "cell_type": "code",
   "execution_count": 4,
   "metadata": {},
   "outputs": [
    {
     "name": "stdout",
     "output_type": "stream",
     "text": [
      "min:  11\n",
      "max:  2494\n",
      "mean: 238.71364\n",
      "std:  176.49367364852034\n"
     ]
    }
   ],
   "source": [
    "lengths = [len(x) for x in train_data] # list comprehension\n",
    "print(\"min:  \" + str(np.min(lengths)))\n",
    "print(\"max:  \" + str(np.max(lengths)))\n",
    "print(\"mean: \" + str(np.mean(lengths)))\n",
    "print(\"std:  \" + str(np.std(lengths)))"
   ]
  },
  {
   "cell_type": "markdown",
   "metadata": {},
   "source": [
    "We need to have a corpus. This gives us kind of a vocabulry. For IMDB someone did this already for us."
   ]
  },
  {
   "cell_type": "code",
   "execution_count": 5,
   "metadata": {},
   "outputs": [
    {
     "name": "stdout",
     "output_type": "stream",
     "text": [
      "1\n",
      "? this film was just brilliant casting location scenery story direction everyone's really suited the part they played and you could just imagine being there robert ? is an amazing actor and now the same being director ? father came from the same scottish island as myself so i loved the fact there was a real connection with this film the witty remarks throughout the film were great it was just brilliant so much that i bought the film as soon as it was released for ? and would recommend it to everyone to watch and the fly fishing was amazing really cried at the end it was so sad and you know what they say if you cry at a film it must have been good and this definitely was also ? to the two little boy's that played the ? of norman and paul they were just brilliant children are often left out of the ? list i think because the stars that play them all grown up are such a big profile for the whole film but these children are amazing and should be praised for what they have done don't you think the whole story was so lovely because it was true and was someone's life after all that was shared with us all\n"
     ]
    }
   ],
   "source": [
    "word_index = imdb.get_word_index() # but it's the wrong way around. We want to have the values as keys.\n",
    "#for (key, value) in word_index.items(): # everytime we want to access all items in a dictionary use .items()\n",
    "#    print(value, key)\n",
    "\n",
    "label = train_labels[0]\n",
    "reverse_word_index = dict([(value, key) for (key, value) in word_index.items()])\n",
    "review = train_data[0]\n",
    "decoded_review = \" \".join(\n",
    "    [reverse_word_index.get(index - 3, \"?\") for index in review] # the .index allows to add a ? in case the index is not found\n",
    ")\n",
    "print(label)\n",
    "print(decoded_review)"
   ]
  },
  {
   "cell_type": "markdown",
   "metadata": {},
   "source": [
    "#### Bag-of-words: \n",
    "Vocabulary = distinct of corpus; our vocabulary has 10'000 (as specified on top).\n",
    "\n",
    "\n",
    "We have a vocabulary: \n",
    "\n",
    "```\n",
    "     vocabulary:      good i hello world\n",
    "     \"hello world\" = [  0  0   1     1    ... ]\n",
    "     \"i am good\"   = [  1  1   0     0    ... ]```\n",
    "\n",
    "With the encoding we lose some semantics like number of occurences, the order and context. For our purpose this is probably still appropriate.\n"
   ]
  },
  {
   "cell_type": "code",
   "execution_count": 6,
   "metadata": {},
   "outputs": [
    {
     "name": "stdout",
     "output_type": "stream",
     "text": [
      "[0. 1. 1. ... 0. 0. 0.]\n",
      "(10000,)\n",
      "(25000, 10000)\n"
     ]
    }
   ],
   "source": [
    "def vectorize_sequences(sequences, dimension=10000):\n",
    "    results = np.zeros((len(sequences), dimension))\n",
    "    for i, sequences in enumerate(sequences):  # fancy indexing; research afterwards\n",
    "        results[i, sequences] = 1.0             # we use floats because keras is built on top of tensorflow (which uses float)\n",
    "    return results\n",
    "\n",
    "x_train = vectorize_sequences(train_data)\n",
    "x_test = vectorize_sequences(test_data)\n",
    "print(x_train[0])\n",
    "print(x_train[0].shape)\n",
    "print(x_train.shape)"
   ]
  },
  {
   "cell_type": "code",
   "execution_count": 7,
   "metadata": {},
   "outputs": [],
   "source": [
    "y_train = np.asarray(train_labels).astype(\"float32\")\n",
    "y_test = np.asarray(test_labels).astype(\"float32\")         # no need to do category encoding as it's binary"
   ]
  },
  {
   "cell_type": "code",
   "execution_count": 8,
   "metadata": {},
   "outputs": [
    {
     "name": "stdout",
     "output_type": "stream",
     "text": [
      "_________________________________________________________________\n",
      "Layer (type)                 Output Shape              Param #   \n",
      "=================================================================\n",
      "dense_1 (Dense)              (None, 16)                160016    \n",
      "_________________________________________________________________\n",
      "dense_2 (Dense)              (None, 16)                272       \n",
      "_________________________________________________________________\n",
      "dense_3 (Dense)              (None, 1)                 17        \n",
      "=================================================================\n",
      "Total params: 160,305\n",
      "Trainable params: 160,305\n",
      "Non-trainable params: 0\n",
      "_________________________________________________________________\n"
     ]
    }
   ],
   "source": [
    "from keras import models, layers\n",
    "\n",
    "model = models.Sequential()\n",
    "model.add(layers.Dense(\n",
    "    16, \n",
    "    activation=\"relu\", \n",
    "    input_shape=(10000, )))\n",
    "model.add(layers.Dense(16, activation=\"relu\"))\n",
    "model.add(layers.Dense(1, activation=\"sigmoid\"))        # we use activation=\"softmax\" when it's more than two categories,\n",
    "                                                        # for binary we use activation=\"sigmoid\"\n",
    "\n",
    "model.summary()                                         # non-trainable parameters are frozen (see later)\n",
    "\n",
    "#from keras import optimizers, losses, metrics           # this is an alternative how we could compile the model\n",
    "#model.compile(\n",
    "#    optimizer=optimizers.RMSprop(lr=0.001),             # lr = learning rate\n",
    "#    loss=losses.binary_crossentropy,\n",
    "#    metrics=[metrics.binary_accuracy]\n",
    "#)\n",
    "\n",
    "model.compile(\n",
    "    optimizer=\"rmsprop\",                                # this one uses RMSprop with default values\n",
    "    loss=\"binary_crossentropy\",\n",
    "    metrics=[\"accuracy\"]                                 # this gets replaced automatically with \"binary_accuracy\" internally\n",
    ")"
   ]
  },
  {
   "cell_type": "markdown",
   "metadata": {},
   "source": [
    "#### Validation vs. Test\n",
    "Information leak: when we let the model use test data implicitly by tweaking the model iteratively such that it yields good results with the test data.\n",
    "\n",
    "A solution is _validation data_. E.g. we have 70% train data, 10% validation data, 20% test data. We use the validation data to test how well the model generalizes. Like this we confine the information leak to the train data only. We observe the validation loss (and accuracy, if available); this is the main indicator of how good the model is."
   ]
  },
  {
   "cell_type": "code",
   "execution_count": 9,
   "metadata": {},
   "outputs": [],
   "source": [
    "x_val = x_train[:10000]\n",
    "partial_x_train = x_train[10000:]\n",
    "y_val = y_train[:10000]\n",
    "partial_y_train = y_train[10000:]"
   ]
  },
  {
   "cell_type": "code",
   "execution_count": 10,
   "metadata": {},
   "outputs": [
    {
     "name": "stdout",
     "output_type": "stream",
     "text": [
      "Train on 15000 samples, validate on 10000 samples\n",
      "Epoch 1/2\n",
      "15000/15000 [==============================] - 5s 359us/step - loss: 0.4975 - acc: 0.7957 - val_loss: 0.3715 - val_acc: 0.8719\n",
      "Epoch 2/2\n",
      "15000/15000 [==============================] - 4s 266us/step - loss: 0.2958 - acc: 0.9049 - val_loss: 0.2991 - val_acc: 0.8907\n"
     ]
    }
   ],
   "source": [
    "history = model.fit(\n",
    "    partial_x_train,\n",
    "    partial_y_train,\n",
    "    epochs=2,\n",
    "    batch_size=512,\n",
    "    validation_data=(x_val,y_val)\n",
    ")"
   ]
  },
  {
   "cell_type": "code",
   "execution_count": 24,
   "metadata": {},
   "outputs": [
    {
     "data": {
      "image/png": "[encoded data removed]",
      "text/plain": [
       "<matplotlib.figure.Figure at 0x1688fdee438>"
      ]
     },
     "metadata": {
      "needs_background": "light"
     },
     "output_type": "display_data"
    }
   ],
   "source": [
    "import matplotlib.pyplot as plt\n",
    "\n",
    "r = range(1, len(history.history[\"acc\"]) + 1)\n",
    "\n",
    "plt.figure(figsize=(20, 5))\n",
    "\n",
    "plt.subplot(1, 2, 1)\n",
    "plt.plot(r, history.history[\"acc\"], label=\"acc\")\n",
    "plt.plot(r, history.history[\"val_acc\"], label=\"val_acc\")\n",
    "plt.legend()\n",
    "plt.title(\"Accuracy\")\n",
    "\n",
    "plt.subplot(1, 2, 2)\n",
    "plt.plot(r, history.history[\"loss\"], label=\"loss\")\n",
    "plt.plot(r, history.history[\"val_loss\"], label=\"val_loss\")\n",
    "plt.legend()\n",
    "plt.title(\"Loss\")\n",
    "\n",
    "plt.show()\n",
    "plt.close()"
   ]
  },
  {
   "cell_type": "markdown",
   "metadata": {},
   "source": [
    "If loss / accuracy and validation loss / accuracy are going away from each other the model is overfitting (i.e. the model learns the data by heart). We see this with 20 epochs. Solutions to this is:\n",
    "* Add more data\n",
    "* Use less epochs"
   ]
  },
  {
   "cell_type": "code",
   "execution_count": 25,
   "metadata": {},
   "outputs": [
    {
     "name": "stdout",
     "output_type": "stream",
     "text": [
      "25000/25000 [==============================] - 5s 199us/step\n"
     ]
    }
   ],
   "source": [
    "test_loss, test_acc = model.evaluate(x_test, y_test)"
   ]
  },
  {
   "cell_type": "code",
   "execution_count": 26,
   "metadata": {},
   "outputs": [
    {
     "name": "stdout",
     "output_type": "stream",
     "text": [
      "Loss / Accuracy Evaluation\n",
      "--------------------------\n",
      "Loss:     0.3132\n",
      "Accuracy: 0.88\n"
     ]
    }
   ],
   "source": [
    "print(\"Loss / Accuracy Evaluation\")\n",
    "print(\"--------------------------\")\n",
    "print(\"Loss:     \" + str(round(test_loss,5)))\n",
    "print(\"Accuracy: \" + str(round(test_acc,2)))"
   ]
  },
  {
   "cell_type": "markdown",
   "metadata": {},
   "source": [
    "#### Additional Notes\n",
    "Learning rates should be changed in case the curve is too step / takes too long to converge. If the accuracy stays at ~0.6: the model is underfitting.\n",
    "\n",
    "Typically the validation goes up and then down again; this means we run into overfitting. We need to see where the 'sweet spot' is - if it's already at 90% it might be already OK.\n",
    "\n",
    "In an ideal world we would want to have both accuracy and validation accuracy converging to the same number which is close to 100%.\n",
    "\n",
    "For overfitting, we should add more data or reduce weights / biases. For underfitting, we should add additional layers or more weights / biases. It's better to first run into overfitting (it's much easier to correct).\n",
    "\n",
    "Note: look at callbacks (preserve the history of the model through all batches)."
   ]
  }
 ],
 "metadata": {
  "kernelspec": {
   "display_name": "Python 3",
   "language": "python",
   "name": "python3"
  },
  "language_info": {
   "codemirror_mode": {
    "name": "ipython",
    "version": 3
   },
   "file_extension": ".py",
   "mimetype": "text/x-python",
   "name": "python",
   "nbconvert_exporter": "python",
   "pygments_lexer": "ipython3",
   "version": "3.6.6"
  }
 },
 "nbformat": 4,
 "nbformat_minor": 2
}
